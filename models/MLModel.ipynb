{
  "cells": [
    {
      "cell_type": "code",
      "execution_count": null,
      "metadata": {
        "id": "YY84JmVIwN2S"
      },
      "outputs": [],
      "source": [
        "import numpy as np # linear algebra\n",
        "import pandas as pd # data processing, CSV file I/O (e.g. pd.read_csv)\n",
        "import os\n",
        "from osgeo import gdal"
      ]
    },
    {
      "cell_type": "code",
      "execution_count": null,
      "metadata": {
        "id": "1KA-Y3o9wROP",
        "colab": {
          "base_uri": "https://localhost:8080/"
        },
        "outputId": "497a7214-6d67-466f-b785-9c3f6e761eaf"
      },
      "outputs": [
        {
          "output_type": "stream",
          "name": "stdout",
          "text": [
            "Mounted at /content/drive\n"
          ]
        }
      ],
      "source": [
        "from google.colab import drive\n",
        "drive.mount('/content/drive')"
      ]
    },
    {
      "cell_type": "code",
      "execution_count": null,
      "metadata": {
        "id": "vGogAHgDwwRQ"
      },
      "outputs": [],
      "source": [
        "from pathlib import Path\n",
        "import json\n",
        "from random import randint\n",
        "from collections import Counter\n",
        "from collections import defaultdict"
      ]
    },
    {
      "cell_type": "code",
      "execution_count": null,
      "metadata": {
        "id": "Sd6uwOx73ZKd"
      },
      "outputs": [],
      "source": [
        "from PIL import Image\n",
        "from skimage import io\n",
        "from matplotlib import pyplot as plt"
      ]
    },
    {
      "cell_type": "code",
      "execution_count": null,
      "metadata": {
        "id": "MmVOTENpxDsZ"
      },
      "outputs": [],
      "source": [
        "def get_disaster_dict(labels_generator):    \n",
        "    disaster_dict = defaultdict(list)\n",
        "    for label in labels_generator:\n",
        "        disaster_type = label.name.split('_')[0]\n",
        "        disaster_dict[disaster_type].append(str(label))\n",
        "    return disaster_dict"
      ]
    },
    {
      "cell_type": "code",
      "execution_count": null,
      "metadata": {
        "id": "VC82LXg7wsNg"
      },
      "outputs": [],
      "source": [
        "# Fetch all post disaster json files\n",
        "labels_generator = Path('/content/drive/MyDrive/ML/geotiffs/tier1/labels').rglob(pattern=f'*post_*.json')"
      ]
    },
    {
      "cell_type": "code",
      "execution_count": null,
      "metadata": {
        "id": "VdQBYCvJxAhi"
      },
      "outputs": [],
      "source": [
        "disaster_dict = get_disaster_dict(labels_generator)"
      ]
    },
    {
      "cell_type": "code",
      "execution_count": null,
      "metadata": {
        "colab": {
          "base_uri": "https://localhost:8080/"
        },
        "id": "bDcFh2CnxtlM",
        "outputId": "e039f07b-60a3-45af-e7b7-f4fba2d6e463"
      },
      "outputs": [
        {
          "output_type": "execute_result",
          "data": {
            "text/plain": [
              "dict_keys(['hurricane-florence', 'hurricane-harvey', 'hurricane-matthew', 'socal-fire', 'mexico-earthquake', 'midwest-flooding', 'hurricane-michael', 'santa-rosa-wildfire', 'palu-tsunami', 'guatemala-volcano'])"
            ]
          },
          "metadata": {},
          "execution_count": 15
        }
      ],
      "source": [
        "disaster_dict.keys()"
      ]
    },
    {
      "cell_type": "code",
      "execution_count": null,
      "metadata": {
        "id": "bvEkDRM3y5uV"
      },
      "outputs": [],
      "source": [
        "florence = np.array(disaster_dict['hurricane-florence'])"
      ]
    },
    {
      "cell_type": "code",
      "execution_count": null,
      "metadata": {
        "id": "8c7I8CFuz5k7"
      },
      "outputs": [],
      "source": [
        "harvey = np.array(disaster_dict['hurricane-harvey'])"
      ]
    },
    {
      "cell_type": "code",
      "execution_count": null,
      "metadata": {
        "id": "sSly-IGGz_wv"
      },
      "outputs": [],
      "source": [
        "matthew = np.array(disaster_dict['hurricane-matthew'])"
      ]
    },
    {
      "cell_type": "code",
      "execution_count": null,
      "metadata": {
        "id": "sBiPSp080Cqg"
      },
      "outputs": [],
      "source": [
        "michael = np.array(disaster_dict['hurricane-michael'])"
      ]
    },
    {
      "cell_type": "code",
      "execution_count": null,
      "metadata": {
        "id": "bSpgzs1c0HsJ"
      },
      "outputs": [],
      "source": [
        "allTrainLabels = np.concatenate((florence, harvey, matthew, michael))"
      ]
    },
    {
      "cell_type": "code",
      "execution_count": null,
      "metadata": {
        "id": "2UurQfzq0W2A"
      },
      "outputs": [],
      "source": [
        "# Fetch all post disaster json files\n",
        "labels_generator = Path('/content/drive/MyDrive/ML/geotiffs/test/labels').rglob(pattern=f'*post_*.json')\n",
        "disaster_dict = get_disaster_dict(labels_generator)\n",
        "disaster_dict.keys()\n",
        "florence = np.array(disaster_dict['hurricane-florence'])\n",
        "harvey = np.array(disaster_dict['hurricane-harvey'])\n",
        "matthew = np.array(disaster_dict['hurricane-matthew'])\n",
        "michael = np.array(disaster_dict['hurricane-michael'])\n",
        "allTestLabels = np.concatenate((florence, harvey, matthew, michael))"
      ]
    },
    {
      "cell_type": "code",
      "execution_count": null,
      "metadata": {
        "id": "gA2hIy5J1tDT"
      },
      "outputs": [],
      "source": [
        "# Fetch all post disaster json files\n",
        "labels_generator = Path('/content/drive/MyDrive/ML/geotiffs/hold/labels').rglob(pattern=f'*post_*.json')\n",
        "disaster_dict = get_disaster_dict(labels_generator)\n",
        "disaster_dict.keys()\n",
        "florence = np.array(disaster_dict['hurricane-florence'])\n",
        "harvey = np.array(disaster_dict['hurricane-harvey'])\n",
        "matthew = np.array(disaster_dict['hurricane-matthew'])\n",
        "michael = np.array(disaster_dict['hurricane-michael'])\n",
        "allHoldLabels = np.concatenate((florence, harvey, matthew, michael))"
      ]
    },
    {
      "cell_type": "code",
      "execution_count": null,
      "metadata": {
        "colab": {
          "base_uri": "https://localhost:8080/"
        },
        "id": "sE1ug_Gm1yBA",
        "outputId": "1a869041-3570-476e-e2cd-64b6cf8d6735"
      },
      "outputs": [
        {
          "output_type": "execute_result",
          "data": {
            "text/plain": [
              "419"
            ]
          },
          "metadata": {},
          "execution_count": 16
        }
      ],
      "source": [
        "len(allHoldLabels)"
      ]
    },
    {
      "cell_type": "code",
      "execution_count": null,
      "metadata": {
        "colab": {
          "base_uri": "https://localhost:8080/"
        },
        "id": "WvI0PCxh17Nn",
        "outputId": "70f707d3-4ff9-4509-f4c1-8ba0eaf5910c"
      },
      "outputs": [
        {
          "output_type": "execute_result",
          "data": {
            "text/plain": [
              "421"
            ]
          },
          "metadata": {},
          "execution_count": 17
        }
      ],
      "source": [
        "len(allTestLabels)"
      ]
    },
    {
      "cell_type": "code",
      "execution_count": null,
      "metadata": {
        "colab": {
          "base_uri": "https://localhost:8080/"
        },
        "id": "ra1RNI2118_r",
        "outputId": "a8a8fdf1-a9dd-41fe-d671-602d027fc650"
      },
      "outputs": [
        {
          "output_type": "execute_result",
          "data": {
            "text/plain": [
              "1262"
            ]
          },
          "metadata": {},
          "execution_count": 18
        }
      ],
      "source": [
        "allTrainLabels"
      ]
    },
    {
      "cell_type": "code",
      "execution_count": null,
      "metadata": {
        "id": "R6-VpsJG2Ivl"
      },
      "outputs": [],
      "source": [
        "allTestImages = []\n",
        "for elem in allTestLabels: \n",
        "  newElem = elem.replace('labels', 'images').replace('json', 'tif')\n",
        "  allTestImages.append(newElem)"
      ]
    },
    {
      "cell_type": "code",
      "execution_count": null,
      "metadata": {
        "id": "oRlEjkQK2LrF"
      },
      "outputs": [],
      "source": [
        "allHoldImages = []\n",
        "for elem in allHoldLabels: \n",
        "  newElem = elem.replace('labels', 'images').replace('json', 'tif')\n",
        "  allHoldImages.append(newElem)"
      ]
    },
    {
      "cell_type": "code",
      "execution_count": null,
      "metadata": {
        "colab": {
          "base_uri": "https://localhost:8080/"
        },
        "id": "M_CTm-884L45",
        "outputId": "7c2ebb23-b2b6-41ac-ca0c-4e70b2da6c95"
      },
      "outputs": [
        {
          "output_type": "execute_result",
          "data": {
            "text/plain": [
              "419"
            ]
          },
          "metadata": {},
          "execution_count": 18
        }
      ],
      "source": [
        "len(allHoldImages)"
      ]
    },
    {
      "cell_type": "code",
      "execution_count": null,
      "metadata": {
        "id": "jqvCWHtI4Nga"
      },
      "outputs": [],
      "source": [
        "allTrainImages = []\n",
        "for elem in allTrainLabels: \n",
        "  newElem = elem.replace('labels', 'images').replace('json', 'tif')\n",
        "  allTrainImages.append(newElem)"
      ]
    },
    {
      "cell_type": "code",
      "execution_count": null,
      "metadata": {
        "colab": {
          "base_uri": "https://localhost:8080/"
        },
        "id": "WX0XfCfP4RC9",
        "outputId": "0d0772c2-aaf6-4f8a-cefa-df1a51af5979"
      },
      "outputs": [
        {
          "output_type": "execute_result",
          "data": {
            "text/plain": [
              "1262"
            ]
          },
          "metadata": {},
          "execution_count": 35
        }
      ],
      "source": [
        "len(allTrainLabels)"
      ]
    },
    {
      "cell_type": "code",
      "source": [
        "allTrainImages"
      ],
      "metadata": {
        "colab": {
          "base_uri": "https://localhost:8080/"
        },
        "id": "-ZSCkcqlCYP9",
        "outputId": "9436027b-817d-4d65-bc2a-558a7a43834f"
      },
      "execution_count": null,
      "outputs": [
        {
          "output_type": "execute_result",
          "data": {
            "text/plain": [
              "['/content/drive/MyDrive/ML/geotiffs/tier1/images/hurricane-florence_00000023_post_disaster.tif',\n",
              " '/content/drive/MyDrive/ML/geotiffs/tier1/images/hurricane-florence_00000473_post_disaster.tif',\n",
              " '/content/drive/MyDrive/ML/geotiffs/tier1/images/hurricane-florence_00000390_post_disaster.tif',\n",
              " '/content/drive/MyDrive/ML/geotiffs/tier1/images/hurricane-florence_00000272_post_disaster.tif',\n",
              " '/content/drive/MyDrive/ML/geotiffs/tier1/images/hurricane-florence_00000066_post_disaster.tif',\n",
              " '/content/drive/MyDrive/ML/geotiffs/tier1/images/hurricane-florence_00000395_post_disaster.tif',\n",
              " '/content/drive/MyDrive/ML/geotiffs/tier1/images/hurricane-florence_00000455_post_disaster.tif',\n",
              " '/content/drive/MyDrive/ML/geotiffs/tier1/images/hurricane-florence_00000293_post_disaster.tif',\n",
              " '/content/drive/MyDrive/ML/geotiffs/tier1/images/hurricane-florence_00000193_post_disaster.tif',\n",
              " '/content/drive/MyDrive/ML/geotiffs/tier1/images/hurricane-florence_00000333_post_disaster.tif',\n",
              " '/content/drive/MyDrive/ML/geotiffs/tier1/images/hurricane-florence_00000446_post_disaster.tif',\n",
              " '/content/drive/MyDrive/ML/geotiffs/tier1/images/hurricane-florence_00000360_post_disaster.tif',\n",
              " '/content/drive/MyDrive/ML/geotiffs/tier1/images/hurricane-florence_00000028_post_disaster.tif',\n",
              " '/content/drive/MyDrive/ML/geotiffs/tier1/images/hurricane-florence_00000496_post_disaster.tif',\n",
              " '/content/drive/MyDrive/ML/geotiffs/tier1/images/hurricane-florence_00000393_post_disaster.tif',\n",
              " '/content/drive/MyDrive/ML/geotiffs/tier1/images/hurricane-florence_00000231_post_disaster.tif',\n",
              " '/content/drive/MyDrive/ML/geotiffs/tier1/images/hurricane-florence_00000303_post_disaster.tif',\n",
              " '/content/drive/MyDrive/ML/geotiffs/tier1/images/hurricane-florence_00000260_post_disaster.tif',\n",
              " '/content/drive/MyDrive/ML/geotiffs/tier1/images/hurricane-florence_00000486_post_disaster.tif',\n",
              " '/content/drive/MyDrive/ML/geotiffs/tier1/images/hurricane-florence_00000030_post_disaster (1).tif',\n",
              " '/content/drive/MyDrive/ML/geotiffs/tier1/images/hurricane-florence_00000064_post_disaster.tif',\n",
              " '/content/drive/MyDrive/ML/geotiffs/tier1/images/hurricane-florence_00000330_post_disaster.tif',\n",
              " '/content/drive/MyDrive/ML/geotiffs/tier1/images/hurricane-florence_00000030_post_disaster.tif',\n",
              " '/content/drive/MyDrive/ML/geotiffs/tier1/images/hurricane-florence_00000540_post_disaster.tif',\n",
              " '/content/drive/MyDrive/ML/geotiffs/tier1/images/hurricane-florence_00000012_post_disaster.tif',\n",
              " '/content/drive/MyDrive/ML/geotiffs/tier1/images/hurricane-florence_00000083_post_disaster (1).tif',\n",
              " '/content/drive/MyDrive/ML/geotiffs/tier1/images/hurricane-florence_00000147_post_disaster.tif',\n",
              " '/content/drive/MyDrive/ML/geotiffs/tier1/images/hurricane-florence_00000083_post_disaster.tif',\n",
              " '/content/drive/MyDrive/ML/geotiffs/tier1/images/hurricane-florence_00000085_post_disaster (1).tif',\n",
              " '/content/drive/MyDrive/ML/geotiffs/tier1/images/hurricane-florence_00000085_post_disaster.tif',\n",
              " '/content/drive/MyDrive/ML/geotiffs/tier1/images/hurricane-florence_00000406_post_disaster.tif',\n",
              " '/content/drive/MyDrive/ML/geotiffs/tier1/images/hurricane-florence_00000482_post_disaster.tif',\n",
              " '/content/drive/MyDrive/ML/geotiffs/tier1/images/hurricane-florence_00000476_post_disaster.tif',\n",
              " '/content/drive/MyDrive/ML/geotiffs/tier1/images/hurricane-florence_00000110_post_disaster.tif',\n",
              " '/content/drive/MyDrive/ML/geotiffs/tier1/images/hurricane-florence_00000443_post_disaster.tif',\n",
              " '/content/drive/MyDrive/ML/geotiffs/tier1/images/hurricane-florence_00000427_post_disaster.tif',\n",
              " '/content/drive/MyDrive/ML/geotiffs/tier1/images/hurricane-florence_00000464_post_disaster.tif',\n",
              " '/content/drive/MyDrive/ML/geotiffs/tier1/images/hurricane-florence_00000308_post_disaster.tif',\n",
              " '/content/drive/MyDrive/ML/geotiffs/tier1/images/hurricane-florence_00000094_post_disaster.tif',\n",
              " '/content/drive/MyDrive/ML/geotiffs/tier1/images/hurricane-florence_00000099_post_disaster.tif',\n",
              " '/content/drive/MyDrive/ML/geotiffs/tier1/images/hurricane-florence_00000337_post_disaster.tif',\n",
              " '/content/drive/MyDrive/ML/geotiffs/tier1/images/hurricane-florence_00000088_post_disaster.tif',\n",
              " '/content/drive/MyDrive/ML/geotiffs/tier1/images/hurricane-florence_00000477_post_disaster.tif',\n",
              " '/content/drive/MyDrive/ML/geotiffs/tier1/images/hurricane-florence_00000054_post_disaster.tif',\n",
              " '/content/drive/MyDrive/ML/geotiffs/tier1/images/hurricane-florence_00000180_post_disaster.tif',\n",
              " '/content/drive/MyDrive/ML/geotiffs/tier1/images/hurricane-florence_00000221_post_disaster.tif',\n",
              " '/content/drive/MyDrive/ML/geotiffs/tier1/images/hurricane-florence_00000517_post_disaster.tif',\n",
              " '/content/drive/MyDrive/ML/geotiffs/tier1/images/hurricane-florence_00000123_post_disaster.tif',\n",
              " '/content/drive/MyDrive/ML/geotiffs/tier1/images/hurricane-florence_00000296_post_disaster.tif',\n",
              " '/content/drive/MyDrive/ML/geotiffs/tier1/images/hurricane-florence_00000181_post_disaster.tif',\n",
              " '/content/drive/MyDrive/ML/geotiffs/tier1/images/hurricane-florence_00000078_post_disaster.tif',\n",
              " '/content/drive/MyDrive/ML/geotiffs/tier1/images/hurricane-florence_00000199_post_disaster.tif',\n",
              " '/content/drive/MyDrive/ML/geotiffs/tier1/images/hurricane-florence_00000394_post_disaster.tif',\n",
              " '/content/drive/MyDrive/ML/geotiffs/tier1/images/hurricane-florence_00000278_post_disaster.tif',\n",
              " '/content/drive/MyDrive/ML/geotiffs/tier1/images/hurricane-florence_00000437_post_disaster.tif',\n",
              " '/content/drive/MyDrive/ML/geotiffs/tier1/images/hurricane-florence_00000183_post_disaster.tif',\n",
              " '/content/drive/MyDrive/ML/geotiffs/tier1/images/hurricane-florence_00000002_post_disaster.tif',\n",
              " '/content/drive/MyDrive/ML/geotiffs/tier1/images/hurricane-florence_00000356_post_disaster.tif',\n",
              " '/content/drive/MyDrive/ML/geotiffs/tier1/images/hurricane-florence_00000365_post_disaster.tif',\n",
              " '/content/drive/MyDrive/ML/geotiffs/tier1/images/hurricane-florence_00000319_post_disaster.tif',\n",
              " '/content/drive/MyDrive/ML/geotiffs/tier1/images/hurricane-florence_00000067_post_disaster.tif',\n",
              " '/content/drive/MyDrive/ML/geotiffs/tier1/images/hurricane-florence_00000252_post_disaster.tif',\n",
              " '/content/drive/MyDrive/ML/geotiffs/tier1/images/hurricane-florence_00000469_post_disaster.tif',\n",
              " '/content/drive/MyDrive/ML/geotiffs/tier1/images/hurricane-florence_00000084_post_disaster.tif',\n",
              " '/content/drive/MyDrive/ML/geotiffs/tier1/images/hurricane-florence_00000398_post_disaster.tif',\n",
              " '/content/drive/MyDrive/ML/geotiffs/tier1/images/hurricane-florence_00000310_post_disaster.tif',\n",
              " '/content/drive/MyDrive/ML/geotiffs/tier1/images/hurricane-florence_00000450_post_disaster.tif',\n",
              " '/content/drive/MyDrive/ML/geotiffs/tier1/images/hurricane-florence_00000237_post_disaster.tif',\n",
              " '/content/drive/MyDrive/ML/geotiffs/tier1/images/hurricane-florence_00000533_post_disaster.tif',\n",
              " '/content/drive/MyDrive/ML/geotiffs/tier1/images/hurricane-florence_00000224_post_disaster.tif',\n",
              " '/content/drive/MyDrive/ML/geotiffs/tier1/images/hurricane-florence_00000188_post_disaster.tif',\n",
              " '/content/drive/MyDrive/ML/geotiffs/tier1/images/hurricane-florence_00000101_post_disaster.tif',\n",
              " '/content/drive/MyDrive/ML/geotiffs/tier1/images/hurricane-florence_00000285_post_disaster.tif',\n",
              " '/content/drive/MyDrive/ML/geotiffs/tier1/images/hurricane-florence_00000531_post_disaster.tif',\n",
              " '/content/drive/MyDrive/ML/geotiffs/tier1/images/hurricane-florence_00000149_post_disaster.tif',\n",
              " '/content/drive/MyDrive/ML/geotiffs/tier1/images/hurricane-florence_00000153_post_disaster.tif',\n",
              " '/content/drive/MyDrive/ML/geotiffs/tier1/images/hurricane-florence_00000042_post_disaster.tif',\n",
              " '/content/drive/MyDrive/ML/geotiffs/tier1/images/hurricane-florence_00000044_post_disaster.tif',\n",
              " '/content/drive/MyDrive/ML/geotiffs/tier1/images/hurricane-florence_00000454_post_disaster.tif',\n",
              " '/content/drive/MyDrive/ML/geotiffs/tier1/images/hurricane-florence_00000425_post_disaster.tif',\n",
              " '/content/drive/MyDrive/ML/geotiffs/tier1/images/hurricane-florence_00000043_post_disaster.tif',\n",
              " '/content/drive/MyDrive/ML/geotiffs/tier1/images/hurricane-florence_00000132_post_disaster.tif',\n",
              " '/content/drive/MyDrive/ML/geotiffs/tier1/images/hurricane-florence_00000408_post_disaster.tif',\n",
              " '/content/drive/MyDrive/ML/geotiffs/tier1/images/hurricane-florence_00000494_post_disaster.tif',\n",
              " '/content/drive/MyDrive/ML/geotiffs/tier1/images/hurricane-florence_00000423_post_disaster.tif',\n",
              " '/content/drive/MyDrive/ML/geotiffs/tier1/images/hurricane-florence_00000139_post_disaster.tif',\n",
              " '/content/drive/MyDrive/ML/geotiffs/tier1/images/hurricane-florence_00000366_post_disaster.tif',\n",
              " '/content/drive/MyDrive/ML/geotiffs/tier1/images/hurricane-florence_00000372_post_disaster (1).tif',\n",
              " '/content/drive/MyDrive/ML/geotiffs/tier1/images/hurricane-florence_00000372_post_disaster.tif',\n",
              " '/content/drive/MyDrive/ML/geotiffs/tier1/images/hurricane-florence_00000500_post_disaster.tif',\n",
              " '/content/drive/MyDrive/ML/geotiffs/tier1/images/hurricane-florence_00000226_post_disaster.tif',\n",
              " '/content/drive/MyDrive/ML/geotiffs/tier1/images/hurricane-florence_00000420_post_disaster.tif',\n",
              " '/content/drive/MyDrive/ML/geotiffs/tier1/images/hurricane-florence_00000079_post_disaster.tif',\n",
              " '/content/drive/MyDrive/ML/geotiffs/tier1/images/hurricane-florence_00000344_post_disaster.tif',\n",
              " '/content/drive/MyDrive/ML/geotiffs/tier1/images/hurricane-florence_00000174_post_disaster.tif',\n",
              " '/content/drive/MyDrive/ML/geotiffs/tier1/images/hurricane-florence_00000335_post_disaster.tif',\n",
              " '/content/drive/MyDrive/ML/geotiffs/tier1/images/hurricane-florence_00000233_post_disaster.tif',\n",
              " '/content/drive/MyDrive/ML/geotiffs/tier1/images/hurricane-florence_00000115_post_disaster.tif',\n",
              " '/content/drive/MyDrive/ML/geotiffs/tier1/images/hurricane-florence_00000462_post_disaster.tif',\n",
              " '/content/drive/MyDrive/ML/geotiffs/tier1/images/hurricane-florence_00000312_post_disaster.tif',\n",
              " '/content/drive/MyDrive/ML/geotiffs/tier1/images/hurricane-florence_00000508_post_disaster.tif',\n",
              " '/content/drive/MyDrive/ML/geotiffs/tier1/images/hurricane-florence_00000302_post_disaster.tif',\n",
              " '/content/drive/MyDrive/ML/geotiffs/tier1/images/hurricane-florence_00000332_post_disaster.tif',\n",
              " '/content/drive/MyDrive/ML/geotiffs/tier1/images/hurricane-florence_00000355_post_disaster.tif',\n",
              " '/content/drive/MyDrive/ML/geotiffs/tier1/images/hurricane-florence_00000474_post_disaster.tif',\n",
              " '/content/drive/MyDrive/ML/geotiffs/tier1/images/hurricane-florence_00000334_post_disaster.tif',\n",
              " '/content/drive/MyDrive/ML/geotiffs/tier1/images/hurricane-florence_00000016_post_disaster.tif',\n",
              " '/content/drive/MyDrive/ML/geotiffs/tier1/images/hurricane-florence_00000003_post_disaster.tif',\n",
              " '/content/drive/MyDrive/ML/geotiffs/tier1/images/hurricane-florence_00000072_post_disaster.tif',\n",
              " '/content/drive/MyDrive/ML/geotiffs/tier1/images/hurricane-florence_00000026_post_disaster.tif',\n",
              " '/content/drive/MyDrive/ML/geotiffs/tier1/images/hurricane-florence_00000506_post_disaster.tif',\n",
              " '/content/drive/MyDrive/ML/geotiffs/tier1/images/hurricane-florence_00000091_post_disaster.tif',\n",
              " '/content/drive/MyDrive/ML/geotiffs/tier1/images/hurricane-florence_00000191_post_disaster.tif',\n",
              " '/content/drive/MyDrive/ML/geotiffs/tier1/images/hurricane-florence_00000263_post_disaster.tif',\n",
              " '/content/drive/MyDrive/ML/geotiffs/tier1/images/hurricane-florence_00000086_post_disaster.tif',\n",
              " '/content/drive/MyDrive/ML/geotiffs/tier1/images/hurricane-florence_00000195_post_disaster.tif',\n",
              " '/content/drive/MyDrive/ML/geotiffs/tier1/images/hurricane-florence_00000058_post_disaster.tif',\n",
              " '/content/drive/MyDrive/ML/geotiffs/tier1/images/hurricane-florence_00000126_post_disaster.tif',\n",
              " '/content/drive/MyDrive/ML/geotiffs/tier1/images/hurricane-florence_00000284_post_disaster.tif',\n",
              " '/content/drive/MyDrive/ML/geotiffs/tier1/images/hurricane-florence_00000217_post_disaster.tif',\n",
              " '/content/drive/MyDrive/ML/geotiffs/tier1/images/hurricane-florence_00000057_post_disaster.tif',\n",
              " '/content/drive/MyDrive/ML/geotiffs/tier1/images/hurricane-florence_00000478_post_disaster.tif',\n",
              " '/content/drive/MyDrive/ML/geotiffs/tier1/images/hurricane-florence_00000542_post_disaster.tif',\n",
              " '/content/drive/MyDrive/ML/geotiffs/tier1/images/hurricane-florence_00000382_post_disaster.tif',\n",
              " '/content/drive/MyDrive/ML/geotiffs/tier1/images/hurricane-florence_00000036_post_disaster.tif',\n",
              " '/content/drive/MyDrive/ML/geotiffs/tier1/images/hurricane-florence_00000368_post_disaster.tif',\n",
              " '/content/drive/MyDrive/ML/geotiffs/tier1/images/hurricane-florence_00000264_post_disaster.tif',\n",
              " '/content/drive/MyDrive/ML/geotiffs/tier1/images/hurricane-florence_00000210_post_disaster.tif',\n",
              " '/content/drive/MyDrive/ML/geotiffs/tier1/images/hurricane-florence_00000490_post_disaster.tif',\n",
              " '/content/drive/MyDrive/ML/geotiffs/tier1/images/hurricane-florence_00000275_post_disaster.tif',\n",
              " '/content/drive/MyDrive/ML/geotiffs/tier1/images/hurricane-florence_00000304_post_disaster.tif',\n",
              " '/content/drive/MyDrive/ML/geotiffs/tier1/images/hurricane-florence_00000114_post_disaster.tif',\n",
              " '/content/drive/MyDrive/ML/geotiffs/tier1/images/hurricane-florence_00000336_post_disaster.tif',\n",
              " '/content/drive/MyDrive/ML/geotiffs/tier1/images/hurricane-florence_00000212_post_disaster.tif',\n",
              " '/content/drive/MyDrive/ML/geotiffs/tier1/images/hurricane-florence_00000256_post_disaster.tif',\n",
              " '/content/drive/MyDrive/ML/geotiffs/tier1/images/hurricane-florence_00000061_post_disaster.tif',\n",
              " '/content/drive/MyDrive/ML/geotiffs/tier1/images/hurricane-florence_00000369_post_disaster (1).tif',\n",
              " '/content/drive/MyDrive/ML/geotiffs/tier1/images/hurricane-florence_00000369_post_disaster.tif',\n",
              " '/content/drive/MyDrive/ML/geotiffs/tier1/images/hurricane-florence_00000111_post_disaster.tif',\n",
              " '/content/drive/MyDrive/ML/geotiffs/tier1/images/hurricane-florence_00000527_post_disaster.tif',\n",
              " '/content/drive/MyDrive/ML/geotiffs/tier1/images/hurricane-florence_00000370_post_disaster.tif',\n",
              " '/content/drive/MyDrive/ML/geotiffs/tier1/images/hurricane-florence_00000229_post_disaster.tif',\n",
              " '/content/drive/MyDrive/ML/geotiffs/tier1/images/hurricane-florence_00000331_post_disaster.tif',\n",
              " '/content/drive/MyDrive/ML/geotiffs/tier1/images/hurricane-florence_00000282_post_disaster.tif',\n",
              " '/content/drive/MyDrive/ML/geotiffs/tier1/images/hurricane-florence_00000300_post_disaster.tif',\n",
              " '/content/drive/MyDrive/ML/geotiffs/tier1/images/hurricane-florence_00000106_post_disaster.tif',\n",
              " '/content/drive/MyDrive/ML/geotiffs/tier1/images/hurricane-florence_00000403_post_disaster (1).tif',\n",
              " '/content/drive/MyDrive/ML/geotiffs/tier1/images/hurricane-florence_00000403_post_disaster.tif',\n",
              " '/content/drive/MyDrive/ML/geotiffs/tier1/images/hurricane-florence_00000104_post_disaster.tif',\n",
              " '/content/drive/MyDrive/ML/geotiffs/tier1/images/hurricane-florence_00000222_post_disaster.tif',\n",
              " '/content/drive/MyDrive/ML/geotiffs/tier1/images/hurricane-florence_00000399_post_disaster.tif',\n",
              " '/content/drive/MyDrive/ML/geotiffs/tier1/images/hurricane-florence_00000514_post_disaster.tif',\n",
              " '/content/drive/MyDrive/ML/geotiffs/tier1/images/hurricane-florence_00000273_post_disaster.tif',\n",
              " '/content/drive/MyDrive/ML/geotiffs/tier1/images/hurricane-florence_00000498_post_disaster.tif',\n",
              " '/content/drive/MyDrive/ML/geotiffs/tier1/images/hurricane-florence_00000484_post_disaster.tif',\n",
              " '/content/drive/MyDrive/ML/geotiffs/tier1/images/hurricane-florence_00000424_post_disaster.tif',\n",
              " '/content/drive/MyDrive/ML/geotiffs/tier1/images/hurricane-florence_00000018_post_disaster.tif',\n",
              " '/content/drive/MyDrive/ML/geotiffs/tier1/images/hurricane-florence_00000156_post_disaster.tif',\n",
              " '/content/drive/MyDrive/ML/geotiffs/tier1/images/hurricane-florence_00000357_post_disaster.tif',\n",
              " '/content/drive/MyDrive/ML/geotiffs/tier1/images/hurricane-florence_00000315_post_disaster.tif',\n",
              " '/content/drive/MyDrive/ML/geotiffs/tier1/images/hurricane-florence_00000136_post_disaster.tif',\n",
              " '/content/drive/MyDrive/ML/geotiffs/tier1/images/hurricane-florence_00000073_post_disaster.tif',\n",
              " '/content/drive/MyDrive/ML/geotiffs/tier1/images/hurricane-florence_00000192_post_disaster.tif',\n",
              " '/content/drive/MyDrive/ML/geotiffs/tier1/images/hurricane-florence_00000397_post_disaster.tif',\n",
              " '/content/drive/MyDrive/ML/geotiffs/tier1/images/hurricane-florence_00000381_post_disaster.tif',\n",
              " '/content/drive/MyDrive/ML/geotiffs/tier1/images/hurricane-florence_00000320_post_disaster.tif',\n",
              " '/content/drive/MyDrive/ML/geotiffs/tier1/images/hurricane-florence_00000457_post_disaster.tif',\n",
              " '/content/drive/MyDrive/ML/geotiffs/tier1/images/hurricane-florence_00000404_post_disaster.tif',\n",
              " '/content/drive/MyDrive/ML/geotiffs/tier1/images/hurricane-florence_00000401_post_disaster.tif',\n",
              " '/content/drive/MyDrive/ML/geotiffs/tier1/images/hurricane-florence_00000063_post_disaster.tif',\n",
              " '/content/drive/MyDrive/ML/geotiffs/tier1/images/hurricane-florence_00000032_post_disaster.tif',\n",
              " '/content/drive/MyDrive/ML/geotiffs/tier1/images/hurricane-florence_00000251_post_disaster.tif',\n",
              " '/content/drive/MyDrive/ML/geotiffs/tier1/images/hurricane-florence_00000266_post_disaster.tif',\n",
              " '/content/drive/MyDrive/ML/geotiffs/tier1/images/hurricane-florence_00000515_post_disaster.tif',\n",
              " '/content/drive/MyDrive/ML/geotiffs/tier1/images/hurricane-florence_00000485_post_disaster.tif',\n",
              " '/content/drive/MyDrive/ML/geotiffs/tier1/images/hurricane-florence_00000279_post_disaster.tif',\n",
              " '/content/drive/MyDrive/ML/geotiffs/tier1/images/hurricane-florence_00000389_post_disaster.tif',\n",
              " '/content/drive/MyDrive/ML/geotiffs/tier1/images/hurricane-florence_00000522_post_disaster.tif',\n",
              " '/content/drive/MyDrive/ML/geotiffs/tier1/images/hurricane-florence_00000538_post_disaster.tif',\n",
              " '/content/drive/MyDrive/ML/geotiffs/tier1/images/hurricane-florence_00000497_post_disaster.tif',\n",
              " '/content/drive/MyDrive/ML/geotiffs/tier1/images/hurricane-florence_00000350_post_disaster.tif',\n",
              " '/content/drive/MyDrive/ML/geotiffs/tier1/images/hurricane-florence_00000159_post_disaster.tif',\n",
              " '/content/drive/MyDrive/ML/geotiffs/tier1/images/hurricane-florence_00000409_post_disaster.tif',\n",
              " '/content/drive/MyDrive/ML/geotiffs/tier1/images/hurricane-florence_00000218_post_disaster.tif',\n",
              " '/content/drive/MyDrive/ML/geotiffs/tier1/images/hurricane-florence_00000362_post_disaster (2).tif',\n",
              " '/content/drive/MyDrive/ML/geotiffs/tier1/images/hurricane-florence_00000362_post_disaster (1).tif',\n",
              " '/content/drive/MyDrive/ML/geotiffs/tier1/images/hurricane-florence_00000362_post_disaster.tif',\n",
              " '/content/drive/MyDrive/ML/geotiffs/tier1/images/hurricane-florence_00000428_post_disaster.tif',\n",
              " '/content/drive/MyDrive/ML/geotiffs/tier1/images/hurricane-florence_00000290_post_disaster.tif',\n",
              " '/content/drive/MyDrive/ML/geotiffs/tier1/images/hurricane-florence_00000151_post_disaster.tif',\n",
              " '/content/drive/MyDrive/ML/geotiffs/tier1/images/hurricane-florence_00000444_post_disaster.tif',\n",
              " '/content/drive/MyDrive/ML/geotiffs/tier1/images/hurricane-florence_00000536_post_disaster.tif',\n",
              " '/content/drive/MyDrive/ML/geotiffs/tier1/images/hurricane-florence_00000379_post_disaster.tif',\n",
              " '/content/drive/MyDrive/ML/geotiffs/tier1/images/hurricane-florence_00000503_post_disaster.tif',\n",
              " '/content/drive/MyDrive/ML/geotiffs/tier1/images/hurricane-florence_00000031_post_disaster.tif',\n",
              " '/content/drive/MyDrive/ML/geotiffs/tier1/images/hurricane-florence_00000492_post_disaster.tif',\n",
              " '/content/drive/MyDrive/ML/geotiffs/tier1/images/hurricane-florence_00000510_post_disaster.tif',\n",
              " '/content/drive/MyDrive/ML/geotiffs/tier1/images/hurricane-florence_00000467_post_disaster.tif',\n",
              " '/content/drive/MyDrive/ML/geotiffs/tier1/images/hurricane-florence_00000165_post_disaster.tif',\n",
              " '/content/drive/MyDrive/ML/geotiffs/tier1/images/hurricane-florence_00000493_post_disaster.tif',\n",
              " '/content/drive/MyDrive/ML/geotiffs/tier1/images/hurricane-florence_00000008_post_disaster.tif',\n",
              " '/content/drive/MyDrive/ML/geotiffs/tier1/images/hurricane-florence_00000053_post_disaster.tif',\n",
              " '/content/drive/MyDrive/ML/geotiffs/tier1/images/hurricane-florence_00000442_post_disaster.tif',\n",
              " '/content/drive/MyDrive/ML/geotiffs/tier1/images/hurricane-florence_00000277_post_disaster.tif',\n",
              " '/content/drive/MyDrive/ML/geotiffs/tier1/images/hurricane-florence_00000142_post_disaster.tif',\n",
              " '/content/drive/MyDrive/ML/geotiffs/tier1/images/hurricane-florence_00000316_post_disaster.tif',\n",
              " '/content/drive/MyDrive/ML/geotiffs/tier1/images/hurricane-florence_00000166_post_disaster.tif',\n",
              " '/content/drive/MyDrive/ML/geotiffs/tier1/images/hurricane-florence_00000431_post_disaster.tif',\n",
              " '/content/drive/MyDrive/ML/geotiffs/tier1/images/hurricane-florence_00000045_post_disaster.tif',\n",
              " '/content/drive/MyDrive/ML/geotiffs/tier1/images/hurricane-florence_00000472_post_disaster.tif',\n",
              " '/content/drive/MyDrive/ML/geotiffs/tier1/images/hurricane-florence_00000027_post_disaster.tif',\n",
              " '/content/drive/MyDrive/ML/geotiffs/tier1/images/hurricane-florence_00000361_post_disaster.tif',\n",
              " '/content/drive/MyDrive/ML/geotiffs/tier1/images/hurricane-florence_00000049_post_disaster.tif',\n",
              " '/content/drive/MyDrive/ML/geotiffs/tier1/images/hurricane-florence_00000140_post_disaster.tif',\n",
              " '/content/drive/MyDrive/ML/geotiffs/tier1/images/hurricane-florence_00000024_post_disaster.tif',\n",
              " '/content/drive/MyDrive/ML/geotiffs/tier1/images/hurricane-florence_00000020_post_disaster.tif',\n",
              " '/content/drive/MyDrive/ML/geotiffs/tier1/images/hurricane-florence_00000245_post_disaster.tif',\n",
              " '/content/drive/MyDrive/ML/geotiffs/tier1/images/hurricane-florence_00000445_post_disaster.tif',\n",
              " '/content/drive/MyDrive/ML/geotiffs/tier1/images/hurricane-florence_00000516_post_disaster.tif',\n",
              " '/content/drive/MyDrive/ML/geotiffs/tier1/images/hurricane-florence_00000037_post_disaster.tif',\n",
              " '/content/drive/MyDrive/ML/geotiffs/tier1/images/hurricane-florence_00000501_post_disaster.tif',\n",
              " '/content/drive/MyDrive/ML/geotiffs/tier1/images/hurricane-florence_00000001_post_disaster.tif',\n",
              " '/content/drive/MyDrive/ML/geotiffs/tier1/images/hurricane-florence_00000452_post_disaster.tif',\n",
              " '/content/drive/MyDrive/ML/geotiffs/tier1/images/hurricane-florence_00000069_post_disaster.tif',\n",
              " '/content/drive/MyDrive/ML/geotiffs/tier1/images/hurricane-florence_00000470_post_disaster.tif',\n",
              " '/content/drive/MyDrive/ML/geotiffs/tier1/images/hurricane-florence_00000055_post_disaster.tif',\n",
              " '/content/drive/MyDrive/ML/geotiffs/tier1/images/hurricane-florence_00000178_post_disaster.tif',\n",
              " '/content/drive/MyDrive/ML/geotiffs/tier1/images/hurricane-florence_00000146_post_disaster.tif',\n",
              " '/content/drive/MyDrive/ML/geotiffs/tier1/images/hurricane-florence_00000048_post_disaster.tif',\n",
              " '/content/drive/MyDrive/ML/geotiffs/tier1/images/hurricane-florence_00000451_post_disaster.tif',\n",
              " '/content/drive/MyDrive/ML/geotiffs/tier1/images/hurricane-florence_00000426_post_disaster.tif',\n",
              " '/content/drive/MyDrive/ML/geotiffs/tier1/images/hurricane-florence_00000513_post_disaster.tif',\n",
              " '/content/drive/MyDrive/ML/geotiffs/tier1/images/hurricane-florence_00000376_post_disaster.tif',\n",
              " '/content/drive/MyDrive/ML/geotiffs/tier1/images/hurricane-florence_00000100_post_disaster.tif',\n",
              " '/content/drive/MyDrive/ML/geotiffs/tier1/images/hurricane-florence_00000274_post_disaster.tif',\n",
              " '/content/drive/MyDrive/ML/geotiffs/tier1/images/hurricane-florence_00000459_post_disaster.tif',\n",
              " '/content/drive/MyDrive/ML/geotiffs/tier1/images/hurricane-florence_00000148_post_disaster.tif',\n",
              " '/content/drive/MyDrive/ML/geotiffs/tier1/images/hurricane-florence_00000269_post_disaster.tif',\n",
              " '/content/drive/MyDrive/ML/geotiffs/tier1/images/hurricane-florence_00000405_post_disaster.tif',\n",
              " '/content/drive/MyDrive/ML/geotiffs/tier1/images/hurricane-florence_00000313_post_disaster.tif',\n",
              " '/content/drive/MyDrive/ML/geotiffs/tier1/images/hurricane-florence_00000512_post_disaster.tif',\n",
              " '/content/drive/MyDrive/ML/geotiffs/tier1/images/hurricane-florence_00000203_post_disaster.tif',\n",
              " '/content/drive/MyDrive/ML/geotiffs/tier1/images/hurricane-florence_00000309_post_disaster.tif',\n",
              " '/content/drive/MyDrive/ML/geotiffs/tier1/images/hurricane-florence_00000093_post_disaster (1).tif',\n",
              " '/content/drive/MyDrive/ML/geotiffs/tier1/images/hurricane-florence_00000093_post_disaster.tif',\n",
              " '/content/drive/MyDrive/ML/geotiffs/tier1/images/hurricane-florence_00000122_post_disaster.tif',\n",
              " '/content/drive/MyDrive/ML/geotiffs/tier1/images/hurricane-florence_00000324_post_disaster.tif',\n",
              " '/content/drive/MyDrive/ML/geotiffs/tier1/images/hurricane-florence_00000460_post_disaster.tif',\n",
              " '/content/drive/MyDrive/ML/geotiffs/tier1/images/hurricane-florence_00000414_post_disaster.tif',\n",
              " '/content/drive/MyDrive/ML/geotiffs/tier1/images/hurricane-florence_00000325_post_disaster.tif',\n",
              " '/content/drive/MyDrive/ML/geotiffs/tier1/images/hurricane-florence_00000118_post_disaster.tif',\n",
              " '/content/drive/MyDrive/ML/geotiffs/tier1/images/hurricane-florence_00000120_post_disaster.tif',\n",
              " '/content/drive/MyDrive/ML/geotiffs/tier1/images/hurricane-florence_00000329_post_disaster.tif',\n",
              " '/content/drive/MyDrive/ML/geotiffs/tier1/images/hurricane-florence_00000340_post_disaster.tif',\n",
              " '/content/drive/MyDrive/ML/geotiffs/tier1/images/hurricane-florence_00000144_post_disaster.tif',\n",
              " '/content/drive/MyDrive/ML/geotiffs/tier1/images/hurricane-florence_00000435_post_disaster.tif',\n",
              " '/content/drive/MyDrive/ML/geotiffs/tier1/images/hurricane-florence_00000441_post_disaster.tif',\n",
              " '/content/drive/MyDrive/ML/geotiffs/tier1/images/hurricane-florence_00000523_post_disaster.tif',\n",
              " '/content/drive/MyDrive/ML/geotiffs/tier1/images/hurricane-florence_00000537_post_disaster.tif',\n",
              " '/content/drive/MyDrive/ML/geotiffs/tier1/images/hurricane-florence_00000102_post_disaster.tif',\n",
              " '/content/drive/MyDrive/ML/geotiffs/tier1/images/hurricane-florence_00000168_post_disaster.tif',\n",
              " '/content/drive/MyDrive/ML/geotiffs/tier1/images/hurricane-florence_00000062_post_disaster.tif',\n",
              " '/content/drive/MyDrive/ML/geotiffs/tier1/images/hurricane-florence_00000449_post_disaster.tif',\n",
              " '/content/drive/MyDrive/ML/geotiffs/tier1/images/hurricane-florence_00000453_post_disaster.tif',\n",
              " '/content/drive/MyDrive/ML/geotiffs/tier1/images/hurricane-florence_00000407_post_disaster.tif',\n",
              " '/content/drive/MyDrive/ML/geotiffs/tier1/images/hurricane-florence_00000388_post_disaster.tif',\n",
              " '/content/drive/MyDrive/ML/geotiffs/tier1/images/hurricane-florence_00000349_post_disaster.tif',\n",
              " '/content/drive/MyDrive/ML/geotiffs/tier1/images/hurricane-florence_00000185_post_disaster.tif',\n",
              " '/content/drive/MyDrive/ML/geotiffs/tier1/images/hurricane-florence_00000416_post_disaster.tif',\n",
              " '/content/drive/MyDrive/ML/geotiffs/tier1/images/hurricane-florence_00000244_post_disaster.tif',\n",
              " '/content/drive/MyDrive/ML/geotiffs/tier1/images/hurricane-florence_00000138_post_disaster.tif',\n",
              " '/content/drive/MyDrive/ML/geotiffs/tier1/images/hurricane-florence_00000314_post_disaster.tif',\n",
              " '/content/drive/MyDrive/ML/geotiffs/tier1/images/hurricane-florence_00000022_post_disaster.tif',\n",
              " '/content/drive/MyDrive/ML/geotiffs/tier1/images/hurricane-florence_00000529_post_disaster.tif',\n",
              " '/content/drive/MyDrive/ML/geotiffs/tier1/images/hurricane-florence_00000346_post_disaster.tif',\n",
              " '/content/drive/MyDrive/ML/geotiffs/tier1/images/hurricane-florence_00000065_post_disaster.tif',\n",
              " '/content/drive/MyDrive/ML/geotiffs/tier1/images/hurricane-florence_00000080_post_disaster.tif',\n",
              " '/content/drive/MyDrive/ML/geotiffs/tier1/images/hurricane-florence_00000164_post_disaster.tif',\n",
              " '/content/drive/MyDrive/ML/geotiffs/tier1/images/hurricane-florence_00000163_post_disaster.tif',\n",
              " '/content/drive/MyDrive/ML/geotiffs/tier1/images/hurricane-florence_00000051_post_disaster.tif',\n",
              " '/content/drive/MyDrive/ML/geotiffs/tier1/images/hurricane-florence_00000419_post_disaster.tif',\n",
              " '/content/drive/MyDrive/ML/geotiffs/tier1/images/hurricane-florence_00000374_post_disaster.tif',\n",
              " '/content/drive/MyDrive/ML/geotiffs/tier1/images/hurricane-florence_00000353_post_disaster.tif',\n",
              " '/content/drive/MyDrive/ML/geotiffs/tier1/images/hurricane-florence_00000392_post_disaster.tif',\n",
              " '/content/drive/MyDrive/ML/geotiffs/tier1/images/hurricane-florence_00000000_post_disaster.tif',\n",
              " '/content/drive/MyDrive/ML/geotiffs/tier1/images/hurricane-florence_00000545_post_disaster.tif',\n",
              " '/content/drive/MyDrive/ML/geotiffs/tier1/images/hurricane-florence_00000289_post_disaster.tif',\n",
              " '/content/drive/MyDrive/ML/geotiffs/tier1/images/hurricane-florence_00000298_post_disaster.tif',\n",
              " '/content/drive/MyDrive/ML/geotiffs/tier1/images/hurricane-florence_00000387_post_disaster.tif',\n",
              " '/content/drive/MyDrive/ML/geotiffs/tier1/images/hurricane-florence_00000096_post_disaster.tif',\n",
              " '/content/drive/MyDrive/ML/geotiffs/tier1/images/hurricane-florence_00000504_post_disaster.tif',\n",
              " '/content/drive/MyDrive/ML/geotiffs/tier1/images/hurricane-florence_00000070_post_disaster.tif',\n",
              " '/content/drive/MyDrive/ML/geotiffs/tier1/images/hurricane-florence_00000526_post_disaster.tif',\n",
              " '/content/drive/MyDrive/ML/geotiffs/tier1/images/hurricane-florence_00000247_post_disaster.tif',\n",
              " '/content/drive/MyDrive/ML/geotiffs/tier1/images/hurricane-florence_00000438_post_disaster.tif',\n",
              " '/content/drive/MyDrive/ML/geotiffs/tier1/images/hurricane-florence_00000345_post_disaster.tif',\n",
              " '/content/drive/MyDrive/ML/geotiffs/tier1/images/hurricane-florence_00000380_post_disaster.tif',\n",
              " '/content/drive/MyDrive/ML/geotiffs/tier1/images/hurricane-florence_00000341_post_disaster.tif',\n",
              " '/content/drive/MyDrive/ML/geotiffs/tier1/images/hurricane-florence_00000418_post_disaster (1).tif',\n",
              " '/content/drive/MyDrive/ML/geotiffs/tier1/images/hurricane-florence_00000418_post_disaster.tif',\n",
              " '/content/drive/MyDrive/ML/geotiffs/tier1/images/hurricane-florence_00000481_post_disaster.tif',\n",
              " '/content/drive/MyDrive/ML/geotiffs/tier1/images/hurricane-florence_00000347_post_disaster.tif',\n",
              " '/content/drive/MyDrive/ML/geotiffs/tier1/images/hurricane-florence_00000060_post_disaster.tif',\n",
              " '/content/drive/MyDrive/ML/geotiffs/tier1/images/hurricane-florence_00000436_post_disaster.tif',\n",
              " '/content/drive/MyDrive/ML/geotiffs/tier1/images/hurricane-florence_00000059_post_disaster.tif',\n",
              " '/content/drive/MyDrive/ML/geotiffs/tier1/images/hurricane-florence_00000461_post_disaster.tif',\n",
              " '/content/drive/MyDrive/ML/geotiffs/tier1/images/hurricane-florence_00000189_post_disaster.tif',\n",
              " '/content/drive/MyDrive/ML/geotiffs/tier1/images/hurricane-florence_00000259_post_disaster.tif',\n",
              " '/content/drive/MyDrive/ML/geotiffs/tier1/images/hurricane-florence_00000255_post_disaster.tif',\n",
              " '/content/drive/MyDrive/ML/geotiffs/tier1/images/hurricane-florence_00000103_post_disaster.tif',\n",
              " '/content/drive/MyDrive/ML/geotiffs/tier1/images/hurricane-florence_00000306_post_disaster.tif',\n",
              " '/content/drive/MyDrive/ML/geotiffs/tier1/images/hurricane-florence_00000475_post_disaster.tif',\n",
              " '/content/drive/MyDrive/ML/geotiffs/tier1/images/hurricane-florence_00000338_post_disaster.tif',\n",
              " '/content/drive/MyDrive/ML/geotiffs/tier1/images/hurricane-florence_00000410_post_disaster.tif',\n",
              " '/content/drive/MyDrive/ML/geotiffs/tier1/images/hurricane-florence_00000158_post_disaster.tif',\n",
              " '/content/drive/MyDrive/ML/geotiffs/tier1/images/hurricane-florence_00000328_post_disaster.tif',\n",
              " '/content/drive/MyDrive/ML/geotiffs/tier1/images/hurricane-florence_00000075_post_disaster.tif',\n",
              " '/content/drive/MyDrive/ML/geotiffs/tier1/images/hurricane-florence_00000216_post_disaster.tif',\n",
              " '/content/drive/MyDrive/ML/geotiffs/tier1/images/hurricane-florence_00000411_post_disaster.tif',\n",
              " '/content/drive/MyDrive/ML/geotiffs/tier1/images/hurricane-florence_00000433_post_disaster.tif',\n",
              " '/content/drive/MyDrive/ML/geotiffs/tier1/images/hurricane-florence_00000371_post_disaster.tif',\n",
              " '/content/drive/MyDrive/ML/geotiffs/tier1/images/hurricane-florence_00000194_post_disaster.tif',\n",
              " '/content/drive/MyDrive/ML/geotiffs/tier1/images/hurricane-florence_00000359_post_disaster.tif',\n",
              " '/content/drive/MyDrive/ML/geotiffs/tier1/images/hurricane-florence_00000297_post_disaster (1).tif',\n",
              " '/content/drive/MyDrive/ML/geotiffs/tier1/images/hurricane-florence_00000297_post_disaster.tif',\n",
              " '/content/drive/MyDrive/ML/geotiffs/tier1/images/hurricane-florence_00000190_post_disaster.tif',\n",
              " '/content/drive/MyDrive/ML/geotiffs/tier1/images/hurricane-florence_00000242_post_disaster.tif',\n",
              " '/content/drive/MyDrive/ML/geotiffs/tier1/images/hurricane-florence_00000219_post_disaster.tif',\n",
              " '/content/drive/MyDrive/ML/geotiffs/tier1/images/hurricane-florence_00000232_post_disaster.tif',\n",
              " '/content/drive/MyDrive/ML/geotiffs/tier1/images/hurricane-florence_00000015_post_disaster.tif',\n",
              " '/content/drive/MyDrive/ML/geotiffs/tier1/images/hurricane-harvey_00000438_post_disaster.tif',\n",
              " '/content/drive/MyDrive/ML/geotiffs/tier1/images/hurricane-harvey_00000002_post_disaster.tif',\n",
              " '/content/drive/MyDrive/ML/geotiffs/tier1/images/hurricane-harvey_00000051_post_disaster.tif',\n",
              " '/content/drive/MyDrive/ML/geotiffs/tier1/images/hurricane-harvey_00000408_post_disaster.tif',\n",
              " '/content/drive/MyDrive/ML/geotiffs/tier1/images/hurricane-harvey_00000517_post_disaster.tif',\n",
              " '/content/drive/MyDrive/ML/geotiffs/tier1/images/hurricane-harvey_00000233_post_disaster.tif',\n",
              " '/content/drive/MyDrive/ML/geotiffs/tier1/images/hurricane-harvey_00000160_post_disaster.tif',\n",
              " '/content/drive/MyDrive/ML/geotiffs/tier1/images/hurricane-harvey_00000066_post_disaster.tif',\n",
              " '/content/drive/MyDrive/ML/geotiffs/tier1/images/hurricane-harvey_00000214_post_disaster.tif',\n",
              " '/content/drive/MyDrive/ML/geotiffs/tier1/images/hurricane-harvey_00000327_post_disaster.tif',\n",
              " '/content/drive/MyDrive/ML/geotiffs/tier1/images/hurricane-harvey_00000302_post_disaster.tif',\n",
              " '/content/drive/MyDrive/ML/geotiffs/tier1/images/hurricane-harvey_00000505_post_disaster.tif',\n",
              " '/content/drive/MyDrive/ML/geotiffs/tier1/images/hurricane-harvey_00000336_post_disaster.tif',\n",
              " '/content/drive/MyDrive/ML/geotiffs/tier1/images/hurricane-harvey_00000019_post_disaster (1).tif',\n",
              " '/content/drive/MyDrive/ML/geotiffs/tier1/images/hurricane-harvey_00000056_post_disaster.tif',\n",
              " '/content/drive/MyDrive/ML/geotiffs/tier1/images/hurricane-harvey_00000019_post_disaster.tif',\n",
              " '/content/drive/MyDrive/ML/geotiffs/tier1/images/hurricane-harvey_00000289_post_disaster.tif',\n",
              " '/content/drive/MyDrive/ML/geotiffs/tier1/images/hurricane-harvey_00000030_post_disaster.tif',\n",
              " '/content/drive/MyDrive/ML/geotiffs/tier1/images/hurricane-harvey_00000280_post_disaster.tif',\n",
              " '/content/drive/MyDrive/ML/geotiffs/tier1/images/hurricane-harvey_00000381_post_disaster.tif',\n",
              " '/content/drive/MyDrive/ML/geotiffs/tier1/images/hurricane-harvey_00000169_post_disaster.tif',\n",
              " '/content/drive/MyDrive/ML/geotiffs/tier1/images/hurricane-harvey_00000265_post_disaster.tif',\n",
              " '/content/drive/MyDrive/ML/geotiffs/tier1/images/hurricane-harvey_00000317_post_disaster.tif',\n",
              " '/content/drive/MyDrive/ML/geotiffs/tier1/images/hurricane-harvey_00000506_post_disaster.tif',\n",
              " '/content/drive/MyDrive/ML/geotiffs/tier1/images/hurricane-harvey_00000419_post_disaster.tif',\n",
              " '/content/drive/MyDrive/ML/geotiffs/tier1/images/hurricane-harvey_00000178_post_disaster.tif',\n",
              " '/content/drive/MyDrive/ML/geotiffs/tier1/images/hurricane-harvey_00000157_post_disaster.tif',\n",
              " '/content/drive/MyDrive/ML/geotiffs/tier1/images/hurricane-harvey_00000330_post_disaster.tif',\n",
              " '/content/drive/MyDrive/ML/geotiffs/tier1/images/hurricane-harvey_00000249_post_disaster.tif',\n",
              " '/content/drive/MyDrive/ML/geotiffs/tier1/images/hurricane-harvey_00000059_post_disaster.tif',\n",
              " '/content/drive/MyDrive/ML/geotiffs/tier1/images/hurricane-harvey_00000220_post_disaster.tif',\n",
              " '/content/drive/MyDrive/ML/geotiffs/tier1/images/hurricane-harvey_00000072_post_disaster.tif',\n",
              " '/content/drive/MyDrive/ML/geotiffs/tier1/images/hurricane-harvey_00000123_post_disaster.tif',\n",
              " '/content/drive/MyDrive/ML/geotiffs/tier1/images/hurricane-harvey_00000244_post_disaster.tif',\n",
              " '/content/drive/MyDrive/ML/geotiffs/tier1/images/hurricane-harvey_00000026_post_disaster.tif',\n",
              " '/content/drive/MyDrive/ML/geotiffs/tier1/images/hurricane-harvey_00000502_post_disaster.tif',\n",
              " '/content/drive/MyDrive/ML/geotiffs/tier1/images/hurricane-harvey_00000172_post_disaster.tif',\n",
              " '/content/drive/MyDrive/ML/geotiffs/tier1/images/hurricane-harvey_00000361_post_disaster.tif',\n",
              " '/content/drive/MyDrive/ML/geotiffs/tier1/images/hurricane-harvey_00000367_post_disaster.tif',\n",
              " '/content/drive/MyDrive/ML/geotiffs/tier1/images/hurricane-harvey_00000471_post_disaster.tif',\n",
              " '/content/drive/MyDrive/ML/geotiffs/tier1/images/hurricane-harvey_00000325_post_disaster.tif',\n",
              " '/content/drive/MyDrive/ML/geotiffs/tier1/images/hurricane-harvey_00000439_post_disaster.tif',\n",
              " '/content/drive/MyDrive/ML/geotiffs/tier1/images/hurricane-harvey_00000174_post_disaster.tif',\n",
              " '/content/drive/MyDrive/ML/geotiffs/tier1/images/hurricane-harvey_00000478_post_disaster.tif',\n",
              " '/content/drive/MyDrive/ML/geotiffs/tier1/images/hurricane-harvey_00000500_post_disaster.tif',\n",
              " '/content/drive/MyDrive/ML/geotiffs/tier1/images/hurricane-harvey_00000434_post_disaster.tif',\n",
              " '/content/drive/MyDrive/ML/geotiffs/tier1/images/hurricane-harvey_00000009_post_disaster.tif',\n",
              " '/content/drive/MyDrive/ML/geotiffs/tier1/images/hurricane-harvey_00000348_post_disaster.tif',\n",
              " '/content/drive/MyDrive/ML/geotiffs/tier1/images/hurricane-harvey_00000400_post_disaster.tif',\n",
              " '/content/drive/MyDrive/ML/geotiffs/tier1/images/hurricane-harvey_00000046_post_disaster.tif',\n",
              " '/content/drive/MyDrive/ML/geotiffs/tier1/images/hurricane-harvey_00000016_post_disaster.tif',\n",
              " '/content/drive/MyDrive/ML/geotiffs/tier1/images/hurricane-harvey_00000391_post_disaster.tif',\n",
              " '/content/drive/MyDrive/ML/geotiffs/tier1/images/hurricane-harvey_00000482_post_disaster.tif',\n",
              " '/content/drive/MyDrive/ML/geotiffs/tier1/images/hurricane-harvey_00000431_post_disaster.tif',\n",
              " '/content/drive/MyDrive/ML/geotiffs/tier1/images/hurricane-harvey_00000197_post_disaster.tif',\n",
              " '/content/drive/MyDrive/ML/geotiffs/tier1/images/hurricane-harvey_00000130_post_disaster.tif',\n",
              " '/content/drive/MyDrive/ML/geotiffs/tier1/images/hurricane-harvey_00000203_post_disaster.tif',\n",
              " '/content/drive/MyDrive/ML/geotiffs/tier1/images/hurricane-harvey_00000146_post_disaster.tif',\n",
              " '/content/drive/MyDrive/ML/geotiffs/tier1/images/hurricane-harvey_00000048_post_disaster.tif',\n",
              " '/content/drive/MyDrive/ML/geotiffs/tier1/images/hurricane-harvey_00000347_post_disaster.tif',\n",
              " '/content/drive/MyDrive/ML/geotiffs/tier1/images/hurricane-harvey_00000521_post_disaster.tif',\n",
              " '/content/drive/MyDrive/ML/geotiffs/tier1/images/hurricane-harvey_00000380_post_disaster.tif',\n",
              " '/content/drive/MyDrive/ML/geotiffs/tier1/images/hurricane-harvey_00000435_post_disaster.tif',\n",
              " '/content/drive/MyDrive/ML/geotiffs/tier1/images/hurricane-harvey_00000080_post_disaster.tif',\n",
              " '/content/drive/MyDrive/ML/geotiffs/tier1/images/hurricane-harvey_00000413_post_disaster.tif',\n",
              " '/content/drive/MyDrive/ML/geotiffs/tier1/images/hurricane-harvey_00000171_post_disaster.tif',\n",
              " '/content/drive/MyDrive/ML/geotiffs/tier1/images/hurricane-harvey_00000365_post_disaster.tif',\n",
              " '/content/drive/MyDrive/ML/geotiffs/tier1/images/hurricane-harvey_00000204_post_disaster.tif',\n",
              " '/content/drive/MyDrive/ML/geotiffs/tier1/images/hurricane-harvey_00000255_post_disaster.tif',\n",
              " '/content/drive/MyDrive/ML/geotiffs/tier1/images/hurricane-harvey_00000091_post_disaster (1).tif',\n",
              " '/content/drive/MyDrive/ML/geotiffs/tier1/images/hurricane-harvey_00000315_post_disaster.tif',\n",
              " '/content/drive/MyDrive/ML/geotiffs/tier1/images/hurricane-harvey_00000091_post_disaster.tif',\n",
              " '/content/drive/MyDrive/ML/geotiffs/tier1/images/hurricane-harvey_00000292_post_disaster.tif',\n",
              " '/content/drive/MyDrive/ML/geotiffs/tier1/images/hurricane-harvey_00000210_post_disaster.tif',\n",
              " '/content/drive/MyDrive/ML/geotiffs/tier1/images/hurricane-harvey_00000374_post_disaster.tif',\n",
              " '/content/drive/MyDrive/ML/geotiffs/tier1/images/hurricane-harvey_00000235_post_disaster.tif',\n",
              " '/content/drive/MyDrive/ML/geotiffs/tier1/images/hurricane-harvey_00000384_post_disaster.tif',\n",
              " '/content/drive/MyDrive/ML/geotiffs/tier1/images/hurricane-harvey_00000107_post_disaster.tif',\n",
              " '/content/drive/MyDrive/ML/geotiffs/tier1/images/hurricane-harvey_00000300_post_disaster.tif',\n",
              " '/content/drive/MyDrive/ML/geotiffs/tier1/images/hurricane-harvey_00000104_post_disaster.tif',\n",
              " '/content/drive/MyDrive/ML/geotiffs/tier1/images/hurricane-harvey_00000358_post_disaster.tif',\n",
              " '/content/drive/MyDrive/ML/geotiffs/tier1/images/hurricane-harvey_00000337_post_disaster.tif',\n",
              " '/content/drive/MyDrive/ML/geotiffs/tier1/images/hurricane-harvey_00000388_post_disaster.tif',\n",
              " '/content/drive/MyDrive/ML/geotiffs/tier1/images/hurricane-harvey_00000520_post_disaster.tif',\n",
              " '/content/drive/MyDrive/ML/geotiffs/tier1/images/hurricane-harvey_00000047_post_disaster.tif',\n",
              " '/content/drive/MyDrive/ML/geotiffs/tier1/images/hurricane-harvey_00000512_post_disaster.tif',\n",
              " '/content/drive/MyDrive/ML/geotiffs/tier1/images/hurricane-harvey_00000239_post_disaster.tif',\n",
              " '/content/drive/MyDrive/ML/geotiffs/tier1/images/hurricane-harvey_00000366_post_disaster.tif',\n",
              " '/content/drive/MyDrive/ML/geotiffs/tier1/images/hurricane-harvey_00000373_post_disaster.tif',\n",
              " '/content/drive/MyDrive/ML/geotiffs/tier1/images/hurricane-harvey_00000084_post_disaster.tif',\n",
              " '/content/drive/MyDrive/ML/geotiffs/tier1/images/hurricane-harvey_00000266_post_disaster.tif',\n",
              " '/content/drive/MyDrive/ML/geotiffs/tier1/images/hurricane-harvey_00000137_post_disaster.tif',\n",
              " '/content/drive/MyDrive/ML/geotiffs/tier1/images/hurricane-harvey_00000212_post_disaster.tif',\n",
              " '/content/drive/MyDrive/ML/geotiffs/tier1/images/hurricane-harvey_00000316_post_disaster.tif',\n",
              " '/content/drive/MyDrive/ML/geotiffs/tier1/images/hurricane-harvey_00000427_post_disaster.tif',\n",
              " '/content/drive/MyDrive/ML/geotiffs/tier1/images/hurricane-harvey_00000100_post_disaster.tif',\n",
              " '/content/drive/MyDrive/ML/geotiffs/tier1/images/hurricane-harvey_00000113_post_disaster.tif',\n",
              " '/content/drive/MyDrive/ML/geotiffs/tier1/images/hurricane-harvey_00000426_post_disaster.tif',\n",
              " '/content/drive/MyDrive/ML/geotiffs/tier1/images/hurricane-harvey_00000354_post_disaster.tif',\n",
              " '/content/drive/MyDrive/ML/geotiffs/tier1/images/hurricane-harvey_00000052_post_disaster.tif',\n",
              " '/content/drive/MyDrive/ML/geotiffs/tier1/images/hurricane-harvey_00000443_post_disaster.tif',\n",
              " '/content/drive/MyDrive/ML/geotiffs/tier1/images/hurricane-harvey_00000134_post_disaster.tif',\n",
              " '/content/drive/MyDrive/ML/geotiffs/tier1/images/hurricane-harvey_00000045_post_disaster.tif',\n",
              " '/content/drive/MyDrive/ML/geotiffs/tier1/images/hurricane-harvey_00000389_post_disaster.tif',\n",
              " '/content/drive/MyDrive/ML/geotiffs/tier1/images/hurricane-harvey_00000515_post_disaster.tif',\n",
              " '/content/drive/MyDrive/ML/geotiffs/tier1/images/hurricane-harvey_00000442_post_disaster.tif',\n",
              " '/content/drive/MyDrive/ML/geotiffs/tier1/images/hurricane-harvey_00000285_post_disaster (1).tif',\n",
              " '/content/drive/MyDrive/ML/geotiffs/tier1/images/hurricane-harvey_00000170_post_disaster.tif',\n",
              " '/content/drive/MyDrive/ML/geotiffs/tier1/images/hurricane-harvey_00000511_post_disaster.tif',\n",
              " '/content/drive/MyDrive/ML/geotiffs/tier1/images/hurricane-harvey_00000285_post_disaster.tif',\n",
              " '/content/drive/MyDrive/ML/geotiffs/tier1/images/hurricane-harvey_00000061_post_disaster.tif',\n",
              " '/content/drive/MyDrive/ML/geotiffs/tier1/images/hurricane-harvey_00000261_post_disaster.tif',\n",
              " '/content/drive/MyDrive/ML/geotiffs/tier1/images/hurricane-harvey_00000010_post_disaster.tif',\n",
              " '/content/drive/MyDrive/ML/geotiffs/tier1/images/hurricane-harvey_00000053_post_disaster.tif',\n",
              " '/content/drive/MyDrive/ML/geotiffs/tier1/images/hurricane-harvey_00000494_post_disaster.tif',\n",
              " '/content/drive/MyDrive/ML/geotiffs/tier1/images/hurricane-harvey_00000222_post_disaster.tif',\n",
              " '/content/drive/MyDrive/ML/geotiffs/tier1/images/hurricane-harvey_00000379_post_disaster.tif',\n",
              " '/content/drive/MyDrive/ML/geotiffs/tier1/images/hurricane-harvey_00000168_post_disaster.tif',\n",
              " '/content/drive/MyDrive/ML/geotiffs/tier1/images/hurricane-harvey_00000008_post_disaster.tif',\n",
              " '/content/drive/MyDrive/ML/geotiffs/tier1/images/hurricane-harvey_00000237_post_disaster.tif',\n",
              " '/content/drive/MyDrive/ML/geotiffs/tier1/images/hurricane-harvey_00000165_post_disaster.tif',\n",
              " '/content/drive/MyDrive/ML/geotiffs/tier1/images/hurricane-harvey_00000085_post_disaster.tif',\n",
              " '/content/drive/MyDrive/ML/geotiffs/tier1/images/hurricane-harvey_00000437_post_disaster.tif',\n",
              " '/content/drive/MyDrive/ML/geotiffs/tier1/images/hurricane-harvey_00000425_post_disaster.tif',\n",
              " '/content/drive/MyDrive/ML/geotiffs/tier1/images/hurricane-harvey_00000001_post_disaster.tif',\n",
              " '/content/drive/MyDrive/ML/geotiffs/tier1/images/hurricane-harvey_00000128_post_disaster.tif',\n",
              " '/content/drive/MyDrive/ML/geotiffs/tier1/images/hurricane-harvey_00000194_post_disaster.tif',\n",
              " '/content/drive/MyDrive/ML/geotiffs/tier1/images/hurricane-harvey_00000338_post_disaster.tif',\n",
              " '/content/drive/MyDrive/ML/geotiffs/tier1/images/hurricane-harvey_00000079_post_disaster.tif',\n",
              " '/content/drive/MyDrive/ML/geotiffs/tier1/images/hurricane-harvey_00000262_post_disaster.tif',\n",
              " '/content/drive/MyDrive/ML/geotiffs/tier1/images/hurricane-harvey_00000136_post_disaster.tif',\n",
              " '/content/drive/MyDrive/ML/geotiffs/tier1/images/hurricane-harvey_00000180_post_disaster.tif',\n",
              " '/content/drive/MyDrive/ML/geotiffs/tier1/images/hurricane-harvey_00000313_post_disaster.tif',\n",
              " '/content/drive/MyDrive/ML/geotiffs/tier1/images/hurricane-harvey_00000224_post_disaster.tif',\n",
              " '/content/drive/MyDrive/ML/geotiffs/tier1/images/hurricane-harvey_00000495_post_disaster.tif',\n",
              " '/content/drive/MyDrive/ML/geotiffs/tier1/images/hurricane-harvey_00000387_post_disaster.tif',\n",
              " '/content/drive/MyDrive/ML/geotiffs/tier1/images/hurricane-harvey_00000507_post_disaster.tif',\n",
              " '/content/drive/MyDrive/ML/geotiffs/tier1/images/hurricane-harvey_00000392_post_disaster.tif',\n",
              " '/content/drive/MyDrive/ML/geotiffs/tier1/images/hurricane-harvey_00000469_post_disaster.tif',\n",
              " '/content/drive/MyDrive/ML/geotiffs/tier1/images/hurricane-harvey_00000446_post_disaster.tif',\n",
              " '/content/drive/MyDrive/ML/geotiffs/tier1/images/hurricane-harvey_00000260_post_disaster.tif',\n",
              " '/content/drive/MyDrive/ML/geotiffs/tier1/images/hurricane-harvey_00000226_post_disaster.tif',\n",
              " '/content/drive/MyDrive/ML/geotiffs/tier1/images/hurricane-harvey_00000398_post_disaster.tif',\n",
              " '/content/drive/MyDrive/ML/geotiffs/tier1/images/hurricane-harvey_00000077_post_disaster.tif',\n",
              " '/content/drive/MyDrive/ML/geotiffs/tier1/images/hurricane-harvey_00000397_post_disaster.tif',\n",
              " '/content/drive/MyDrive/ML/geotiffs/tier1/images/hurricane-harvey_00000454_post_disaster.tif',\n",
              " '/content/drive/MyDrive/ML/geotiffs/tier1/images/hurricane-harvey_00000069_post_disaster.tif',\n",
              " '/content/drive/MyDrive/ML/geotiffs/tier1/images/hurricane-harvey_00000082_post_disaster.tif',\n",
              " '/content/drive/MyDrive/ML/geotiffs/tier1/images/hurricane-harvey_00000015_post_disaster.tif',\n",
              " '/content/drive/MyDrive/ML/geotiffs/tier1/images/hurricane-harvey_00000288_post_disaster.tif',\n",
              " '/content/drive/MyDrive/ML/geotiffs/tier1/images/hurricane-harvey_00000258_post_disaster.tif',\n",
              " '/content/drive/MyDrive/ML/geotiffs/tier1/images/hurricane-harvey_00000206_post_disaster.tif',\n",
              " '/content/drive/MyDrive/ML/geotiffs/tier1/images/hurricane-harvey_00000114_post_disaster.tif',\n",
              " '/content/drive/MyDrive/ML/geotiffs/tier1/images/hurricane-harvey_00000144_post_disaster.tif',\n",
              " '/content/drive/MyDrive/ML/geotiffs/tier1/images/hurricane-harvey_00000187_post_disaster.tif',\n",
              " '/content/drive/MyDrive/ML/geotiffs/tier1/images/hurricane-harvey_00000238_post_disaster.tif',\n",
              " '/content/drive/MyDrive/ML/geotiffs/tier1/images/hurricane-harvey_00000228_post_disaster.tif',\n",
              " '/content/drive/MyDrive/ML/geotiffs/tier1/images/hurricane-harvey_00000248_post_disaster.tif',\n",
              " '/content/drive/MyDrive/ML/geotiffs/tier1/images/hurricane-harvey_00000514_post_disaster.tif',\n",
              " '/content/drive/MyDrive/ML/geotiffs/tier1/images/hurricane-harvey_00000142_post_disaster.tif',\n",
              " '/content/drive/MyDrive/ML/geotiffs/tier1/images/hurricane-harvey_00000270_post_disaster.tif',\n",
              " '/content/drive/MyDrive/ML/geotiffs/tier1/images/hurricane-harvey_00000221_post_disaster.tif',\n",
              " '/content/drive/MyDrive/ML/geotiffs/tier1/images/hurricane-harvey_00000486_post_disaster.tif',\n",
              " '/content/drive/MyDrive/ML/geotiffs/tier1/images/hurricane-harvey_00000312_post_disaster.tif',\n",
              " '/content/drive/MyDrive/ML/geotiffs/tier1/images/hurricane-harvey_00000369_post_disaster.tif',\n",
              " '/content/drive/MyDrive/ML/geotiffs/tier1/images/hurricane-harvey_00000264_post_disaster.tif',\n",
              " '/content/drive/MyDrive/ML/geotiffs/tier1/images/hurricane-harvey_00000154_post_disaster.tif',\n",
              " '/content/drive/MyDrive/ML/geotiffs/tier1/images/hurricane-harvey_00000075_post_disaster.tif',\n",
              " '/content/drive/MyDrive/ML/geotiffs/tier1/images/hurricane-harvey_00000099_post_disaster.tif',\n",
              " '/content/drive/MyDrive/ML/geotiffs/tier1/images/hurricane-harvey_00000451_post_disaster.tif',\n",
              " '/content/drive/MyDrive/ML/geotiffs/tier1/images/hurricane-harvey_00000351_post_disaster.tif',\n",
              " '/content/drive/MyDrive/ML/geotiffs/tier1/images/hurricane-harvey_00000423_post_disaster.tif',\n",
              " '/content/drive/MyDrive/ML/geotiffs/tier1/images/hurricane-harvey_00000218_post_disaster.tif',\n",
              " '/content/drive/MyDrive/ML/geotiffs/tier1/images/hurricane-harvey_00000041_post_disaster.tif',\n",
              " '/content/drive/MyDrive/ML/geotiffs/tier1/images/hurricane-harvey_00000245_post_disaster.tif',\n",
              " '/content/drive/MyDrive/ML/geotiffs/tier1/images/hurricane-harvey_00000396_post_disaster.tif',\n",
              " '/content/drive/MyDrive/ML/geotiffs/tier1/images/hurricane-harvey_00000257_post_disaster.tif',\n",
              " '/content/drive/MyDrive/ML/geotiffs/tier1/images/hurricane-harvey_00000029_post_disaster.tif',\n",
              " '/content/drive/MyDrive/ML/geotiffs/tier1/images/hurricane-harvey_00000484_post_disaster.tif',\n",
              " '/content/drive/MyDrive/ML/geotiffs/tier1/images/hurricane-harvey_00000205_post_disaster.tif',\n",
              " '/content/drive/MyDrive/ML/geotiffs/tier1/images/hurricane-harvey_00000269_post_disaster.tif',\n",
              " '/content/drive/MyDrive/ML/geotiffs/tier1/images/hurricane-harvey_00000158_post_disaster.tif',\n",
              " '/content/drive/MyDrive/ML/geotiffs/tier1/images/hurricane-harvey_00000375_post_disaster.tif',\n",
              " '/content/drive/MyDrive/ML/geotiffs/tier1/images/hurricane-harvey_00000152_post_disaster.tif',\n",
              " '/content/drive/MyDrive/ML/geotiffs/tier1/images/hurricane-harvey_00000472_post_disaster.tif',\n",
              " '/content/drive/MyDrive/ML/geotiffs/tier1/images/hurricane-harvey_00000323_post_disaster.tif',\n",
              " '/content/drive/MyDrive/ML/geotiffs/tier1/images/hurricane-harvey_00000153_post_disaster.tif',\n",
              " '/content/drive/MyDrive/ML/geotiffs/tier1/images/hurricane-harvey_00000081_post_disaster (1).tif',\n",
              " '/content/drive/MyDrive/ML/geotiffs/tier1/images/hurricane-harvey_00000480_post_disaster.tif',\n",
              " '/content/drive/MyDrive/ML/geotiffs/tier1/images/hurricane-harvey_00000406_post_disaster.tif',\n",
              " '/content/drive/MyDrive/ML/geotiffs/tier1/images/hurricane-harvey_00000081_post_disaster.tif',\n",
              " '/content/drive/MyDrive/ML/geotiffs/tier1/images/hurricane-harvey_00000429_post_disaster.tif',\n",
              " '/content/drive/MyDrive/ML/geotiffs/tier1/images/hurricane-harvey_00000402_post_disaster.tif',\n",
              " '/content/drive/MyDrive/ML/geotiffs/tier1/images/hurricane-harvey_00000017_post_disaster.tif',\n",
              " '/content/drive/MyDrive/ML/geotiffs/tier1/images/hurricane-harvey_00000232_post_disaster.tif',\n",
              " '/content/drive/MyDrive/ML/geotiffs/tier1/images/hurricane-harvey_00000167_post_disaster.tif',\n",
              " '/content/drive/MyDrive/ML/geotiffs/tier1/images/hurricane-harvey_00000006_post_disaster.tif',\n",
              " '/content/drive/MyDrive/ML/geotiffs/tier1/images/hurricane-harvey_00000089_post_disaster.tif',\n",
              " '/content/drive/MyDrive/ML/geotiffs/tier1/images/hurricane-harvey_00000024_post_disaster.tif',\n",
              " '/content/drive/MyDrive/ML/geotiffs/tier1/images/hurricane-harvey_00000151_post_disaster.tif',\n",
              " '/content/drive/MyDrive/ML/geotiffs/tier1/images/hurricane-harvey_00000118_post_disaster.tif',\n",
              " '/content/drive/MyDrive/ML/geotiffs/tier1/images/hurricane-harvey_00000470_post_disaster.tif',\n",
              " '/content/drive/MyDrive/ML/geotiffs/tier1/images/hurricane-harvey_00000129_post_disaster.tif',\n",
              " '/content/drive/MyDrive/ML/geotiffs/tier1/images/hurricane-harvey_00000177_post_disaster.tif',\n",
              " '/content/drive/MyDrive/ML/geotiffs/tier1/images/hurricane-harvey_00000007_post_disaster.tif',\n",
              " '/content/drive/MyDrive/ML/geotiffs/tier1/images/hurricane-harvey_00000307_post_disaster.tif',\n",
              " '/content/drive/MyDrive/ML/geotiffs/tier1/images/hurricane-harvey_00000070_post_disaster.tif',\n",
              " '/content/drive/MyDrive/ML/geotiffs/tier1/images/hurricane-harvey_00000195_post_disaster.tif',\n",
              " '/content/drive/MyDrive/ML/geotiffs/tier1/images/hurricane-harvey_00000501_post_disaster.tif',\n",
              " '/content/drive/MyDrive/ML/geotiffs/tier1/images/hurricane-harvey_00000508_post_disaster.tif',\n",
              " '/content/drive/MyDrive/ML/geotiffs/tier1/images/hurricane-harvey_00000491_post_disaster.tif',\n",
              " '/content/drive/MyDrive/ML/geotiffs/tier1/images/hurricane-harvey_00000284_post_disaster.tif',\n",
              " '/content/drive/MyDrive/ML/geotiffs/tier1/images/hurricane-harvey_00000109_post_disaster.tif',\n",
              " '/content/drive/MyDrive/ML/geotiffs/tier1/images/hurricane-harvey_00000393_post_disaster.tif',\n",
              " '/content/drive/MyDrive/ML/geotiffs/tier1/images/hurricane-harvey_00000241_post_disaster.tif',\n",
              " '/content/drive/MyDrive/ML/geotiffs/tier1/images/hurricane-harvey_00000357_post_disaster.tif',\n",
              " '/content/drive/MyDrive/ML/geotiffs/tier1/images/hurricane-harvey_00000272_post_disaster.tif',\n",
              " '/content/drive/MyDrive/ML/geotiffs/tier1/images/hurricane-harvey_00000346_post_disaster.tif',\n",
              " '/content/drive/MyDrive/ML/geotiffs/tier1/images/hurricane-harvey_00000217_post_disaster.tif',\n",
              " '/content/drive/MyDrive/ML/geotiffs/tier1/images/hurricane-harvey_00000267_post_disaster.tif',\n",
              " '/content/drive/MyDrive/ML/geotiffs/tier1/images/hurricane-harvey_00000335_post_disaster.tif',\n",
              " '/content/drive/MyDrive/ML/geotiffs/tier1/images/hurricane-harvey_00000382_post_disaster.tif',\n",
              " '/content/drive/MyDrive/ML/geotiffs/tier1/images/hurricane-harvey_00000243_post_disaster.tif',\n",
              " '/content/drive/MyDrive/ML/geotiffs/tier1/images/hurricane-harvey_00000042_post_disaster.tif',\n",
              " '/content/drive/MyDrive/ML/geotiffs/tier1/images/hurricane-harvey_00000418_post_disaster.tif',\n",
              " '/content/drive/MyDrive/ML/geotiffs/tier1/images/hurricane-harvey_00000108_post_disaster.tif',\n",
              " '/content/drive/MyDrive/ML/geotiffs/tier1/images/hurricane-harvey_00000012_post_disaster.tif',\n",
              " '/content/drive/MyDrive/ML/geotiffs/tier1/images/hurricane-harvey_00000291_post_disaster.tif',\n",
              " '/content/drive/MyDrive/ML/geotiffs/tier1/images/hurricane-harvey_00000025_post_disaster.tif',\n",
              " '/content/drive/MyDrive/ML/geotiffs/tier1/images/hurricane-harvey_00000060_post_disaster.tif',\n",
              " '/content/drive/MyDrive/ML/geotiffs/tier1/images/hurricane-harvey_00000467_post_disaster.tif',\n",
              " '/content/drive/MyDrive/ML/geotiffs/tier1/images/hurricane-harvey_00000496_post_disaster.tif',\n",
              " '/content/drive/MyDrive/ML/geotiffs/tier1/images/hurricane-harvey_00000509_post_disaster.tif',\n",
              " '/content/drive/MyDrive/ML/geotiffs/tier1/images/hurricane-harvey_00000309_post_disaster.tif',\n",
              " '/content/drive/MyDrive/ML/geotiffs/tier1/images/hurricane-harvey_00000054_post_disaster.tif',\n",
              " '/content/drive/MyDrive/ML/geotiffs/tier1/images/hurricane-harvey_00000200_post_disaster.tif',\n",
              " '/content/drive/MyDrive/ML/geotiffs/tier1/images/hurricane-harvey_00000119_post_disaster.tif',\n",
              " '/content/drive/MyDrive/ML/geotiffs/tier1/images/hurricane-harvey_00000020_post_disaster.tif',\n",
              " '/content/drive/MyDrive/ML/geotiffs/tier1/images/hurricane-harvey_00000275_post_disaster.tif',\n",
              " '/content/drive/MyDrive/ML/geotiffs/tier1/images/hurricane-harvey_00000274_post_disaster.tif',\n",
              " '/content/drive/MyDrive/ML/geotiffs/tier1/images/hurricane-harvey_00000463_post_disaster.tif',\n",
              " '/content/drive/MyDrive/ML/geotiffs/tier1/images/hurricane-harvey_00000101_post_disaster (1).tif',\n",
              " '/content/drive/MyDrive/ML/geotiffs/tier1/images/hurricane-harvey_00000196_post_disaster.tif',\n",
              " '/content/drive/MyDrive/ML/geotiffs/tier1/images/hurricane-harvey_00000101_post_disaster.tif',\n",
              " '/content/drive/MyDrive/ML/geotiffs/tier1/images/hurricane-harvey_00000028_post_disaster.tif',\n",
              " '/content/drive/MyDrive/ML/geotiffs/tier1/images/hurricane-harvey_00000492_post_disaster.tif',\n",
              " '/content/drive/MyDrive/ML/geotiffs/tier1/images/hurricane-harvey_00000040_post_disaster.tif',\n",
              " '/content/drive/MyDrive/ML/geotiffs/tier1/images/hurricane-harvey_00000271_post_disaster.tif',\n",
              " '/content/drive/MyDrive/ML/geotiffs/tier1/images/hurricane-harvey_00000111_post_disaster.tif',\n",
              " '/content/drive/MyDrive/ML/geotiffs/tier1/images/hurricane-harvey_00000213_post_disaster.tif',\n",
              " '/content/drive/MyDrive/ML/geotiffs/tier1/images/hurricane-harvey_00000208_post_disaster.tif',\n",
              " '/content/drive/MyDrive/ML/geotiffs/tier1/images/hurricane-harvey_00000281_post_disaster.tif',\n",
              " '/content/drive/MyDrive/ML/geotiffs/tier1/images/hurricane-harvey_00000147_post_disaster.tif',\n",
              " '/content/drive/MyDrive/ML/geotiffs/tier1/images/hurricane-harvey_00000098_post_disaster.tif',\n",
              " '/content/drive/MyDrive/ML/geotiffs/tier1/images/hurricane-harvey_00000156_post_disaster.tif',\n",
              " '/content/drive/MyDrive/ML/geotiffs/tier1/images/hurricane-harvey_00000022_post_disaster (1).tif',\n",
              " '/content/drive/MyDrive/ML/geotiffs/tier1/images/hurricane-harvey_00000138_post_disaster.tif',\n",
              " '/content/drive/MyDrive/ML/geotiffs/tier1/images/hurricane-harvey_00000022_post_disaster.tif',\n",
              " '/content/drive/MyDrive/ML/geotiffs/tier1/images/hurricane-harvey_00000207_post_disaster.tif',\n",
              " '/content/drive/MyDrive/ML/geotiffs/tier1/images/hurricane-harvey_00000488_post_disaster.tif',\n",
              " '/content/drive/MyDrive/ML/geotiffs/tier1/images/hurricane-harvey_00000216_post_disaster (2).tif',\n",
              " '/content/drive/MyDrive/ML/geotiffs/tier1/images/hurricane-harvey_00000231_post_disaster.tif',\n",
              " '/content/drive/MyDrive/ML/geotiffs/tier1/images/hurricane-harvey_00000216_post_disaster (1).tif',\n",
              " '/content/drive/MyDrive/ML/geotiffs/tier1/images/hurricane-harvey_00000116_post_disaster.tif',\n",
              " '/content/drive/MyDrive/ML/geotiffs/tier1/images/hurricane-harvey_00000433_post_disaster.tif',\n",
              " '/content/drive/MyDrive/ML/geotiffs/tier1/images/hurricane-harvey_00000216_post_disaster.tif',\n",
              " '/content/drive/MyDrive/ML/geotiffs/tier1/images/hurricane-harvey_00000057_post_disaster.tif',\n",
              " '/content/drive/MyDrive/ML/geotiffs/tier1/images/hurricane-harvey_00000000_post_disaster.tif',\n",
              " '/content/drive/MyDrive/ML/geotiffs/tier1/images/hurricane-harvey_00000055_post_disaster.tif',\n",
              " '/content/drive/MyDrive/ML/geotiffs/tier1/images/hurricane-harvey_00000090_post_disaster.tif',\n",
              " '/content/drive/MyDrive/ML/geotiffs/tier1/images/hurricane-harvey_00000159_post_disaster.tif',\n",
              " '/content/drive/MyDrive/ML/geotiffs/tier1/images/hurricane-harvey_00000422_post_disaster.tif',\n",
              " '/content/drive/MyDrive/ML/geotiffs/tier1/images/hurricane-harvey_00000477_post_disaster.tif',\n",
              " '/content/drive/MyDrive/ML/geotiffs/tier1/images/hurricane-harvey_00000499_post_disaster.tif',\n",
              " '/content/drive/MyDrive/ML/geotiffs/tier1/images/hurricane-harvey_00000145_post_disaster.tif',\n",
              " '/content/drive/MyDrive/ML/geotiffs/tier1/images/hurricane-harvey_00000278_post_disaster.tif',\n",
              " '/content/drive/MyDrive/ML/geotiffs/tier1/images/hurricane-harvey_00000411_post_disaster (1).tif',\n",
              " '/content/drive/MyDrive/ML/geotiffs/tier1/images/hurricane-harvey_00000493_post_disaster.tif',\n",
              " '/content/drive/MyDrive/ML/geotiffs/tier1/images/hurricane-harvey_00000411_post_disaster.tif',\n",
              " '/content/drive/MyDrive/ML/geotiffs/tier1/images/hurricane-harvey_00000268_post_disaster.tif',\n",
              " '/content/drive/MyDrive/ML/geotiffs/tier1/images/hurricane-harvey_00000462_post_disaster.tif',\n",
              " '/content/drive/MyDrive/ML/geotiffs/tier1/images/hurricane-harvey_00000126_post_disaster.tif',\n",
              " '/content/drive/MyDrive/ML/geotiffs/tier1/images/hurricane-harvey_00000461_post_disaster.tif',\n",
              " '/content/drive/MyDrive/ML/geotiffs/tier1/images/hurricane-harvey_00000071_post_disaster.tif',\n",
              " '/content/drive/MyDrive/ML/geotiffs/tier1/images/hurricane-harvey_00000489_post_disaster.tif',\n",
              " '/content/drive/MyDrive/ML/geotiffs/tier1/images/hurricane-harvey_00000043_post_disaster.tif',\n",
              " '/content/drive/MyDrive/ML/geotiffs/tier1/images/hurricane-harvey_00000242_post_disaster.tif',\n",
              " '/content/drive/MyDrive/ML/geotiffs/tier1/images/hurricane-harvey_00000448_post_disaster.tif',\n",
              " '/content/drive/MyDrive/ML/geotiffs/tier1/images/hurricane-harvey_00000088_post_disaster.tif',\n",
              " '/content/drive/MyDrive/ML/geotiffs/tier1/images/hurricane-harvey_00000473_post_disaster.tif',\n",
              " '/content/drive/MyDrive/ML/geotiffs/tier1/images/hurricane-harvey_00000076_post_disaster.tif',\n",
              " '/content/drive/MyDrive/ML/geotiffs/tier1/images/hurricane-harvey_00000094_post_disaster.tif',\n",
              " '/content/drive/MyDrive/ML/geotiffs/tier1/images/hurricane-harvey_00000049_post_disaster.tif',\n",
              " '/content/drive/MyDrive/ML/geotiffs/tier1/images/hurricane-harvey_00000519_post_disaster.tif',\n",
              " '/content/drive/MyDrive/ML/geotiffs/tier1/images/hurricane-harvey_00000092_post_disaster.tif',\n",
              " '/content/drive/MyDrive/ML/geotiffs/tier1/images/hurricane-harvey_00000141_post_disaster.tif',\n",
              " '/content/drive/MyDrive/ML/geotiffs/tier1/images/hurricane-harvey_00000319_post_disaster.tif',\n",
              " '/content/drive/MyDrive/ML/geotiffs/tier1/images/hurricane-harvey_00000251_post_disaster.tif',\n",
              " '/content/drive/MyDrive/ML/geotiffs/tier1/images/hurricane-harvey_00000115_post_disaster.tif',\n",
              " '/content/drive/MyDrive/ML/geotiffs/tier1/images/hurricane-harvey_00000332_post_disaster.tif',\n",
              " '/content/drive/MyDrive/ML/geotiffs/tier1/images/hurricane-harvey_00000345_post_disaster.tif',\n",
              " '/content/drive/MyDrive/ML/geotiffs/tier1/images/hurricane-harvey_00000039_post_disaster (1).tif',\n",
              " '/content/drive/MyDrive/ML/geotiffs/tier1/images/hurricane-harvey_00000039_post_disaster.tif',\n",
              " '/content/drive/MyDrive/ML/geotiffs/tier1/images/hurricane-harvey_00000440_post_disaster.tif',\n",
              " '/content/drive/MyDrive/ML/geotiffs/tier1/images/hurricane-harvey_00000481_post_disaster.tif',\n",
              " '/content/drive/MyDrive/ML/geotiffs/tier1/images/hurricane-harvey_00000299_post_disaster.tif',\n",
              " '/content/drive/MyDrive/ML/geotiffs/tier1/images/hurricane-harvey_00000273_post_disaster.tif',\n",
              " '/content/drive/MyDrive/ML/geotiffs/tier1/images/hurricane-harvey_00000436_post_disaster.tif',\n",
              " '/content/drive/MyDrive/ML/geotiffs/tier1/images/hurricane-harvey_00000474_post_disaster.tif',\n",
              " '/content/drive/MyDrive/ML/geotiffs/tier1/images/hurricane-harvey_00000410_post_disaster.tif',\n",
              " '/content/drive/MyDrive/ML/geotiffs/tier1/images/hurricane-harvey_00000189_post_disaster.tif',\n",
              " '/content/drive/MyDrive/ML/geotiffs/tier1/images/hurricane-harvey_00000444_post_disaster.tif',\n",
              " '/content/drive/MyDrive/ML/geotiffs/tier1/images/hurricane-harvey_00000333_post_disaster.tif',\n",
              " '/content/drive/MyDrive/ML/geotiffs/tier1/images/hurricane-harvey_00000432_post_disaster.tif',\n",
              " '/content/drive/MyDrive/ML/geotiffs/tier1/images/hurricane-harvey_00000320_post_disaster.tif',\n",
              " '/content/drive/MyDrive/ML/geotiffs/tier1/images/hurricane-harvey_00000329_post_disaster.tif',\n",
              " '/content/drive/MyDrive/ML/geotiffs/tier1/images/hurricane-harvey_00000318_post_disaster.tif',\n",
              " '/content/drive/MyDrive/ML/geotiffs/tier1/images/hurricane-harvey_00000412_post_disaster.tif',\n",
              " '/content/drive/MyDrive/ML/geotiffs/tier1/images/hurricane-harvey_00000455_post_disaster.tif',\n",
              " '/content/drive/MyDrive/ML/geotiffs/tier1/images/hurricane-harvey_00000176_post_disaster.tif',\n",
              " '/content/drive/MyDrive/ML/geotiffs/tier1/images/hurricane-harvey_00000035_post_disaster.tif',\n",
              " '/content/drive/MyDrive/ML/geotiffs/tier1/images/hurricane-harvey_00000132_post_disaster.tif',\n",
              " '/content/drive/MyDrive/ML/geotiffs/tier1/images/hurricane-harvey_00000430_post_disaster.tif',\n",
              " '/content/drive/MyDrive/ML/geotiffs/tier1/images/hurricane-harvey_00000277_post_disaster.tif',\n",
              " '/content/drive/MyDrive/ML/geotiffs/tier1/images/hurricane-harvey_00000286_post_disaster.tif',\n",
              " '/content/drive/MyDrive/ML/geotiffs/tier1/images/hurricane-harvey_00000073_post_disaster.tif',\n",
              " '/content/drive/MyDrive/ML/geotiffs/tier1/images/hurricane-harvey_00000356_post_disaster.tif',\n",
              " '/content/drive/MyDrive/ML/geotiffs/tier1/images/hurricane-harvey_00000344_post_disaster.tif',\n",
              " '/content/drive/MyDrive/ML/geotiffs/tier1/images/hurricane-harvey_00000452_post_disaster.tif',\n",
              " '/content/drive/MyDrive/ML/geotiffs/tier1/images/hurricane-matthew_00000051_post_disaster.tif',\n",
              " '/content/drive/MyDrive/ML/geotiffs/tier1/images/hurricane-matthew_00000363_post_disaster.tif',\n",
              " '/content/drive/MyDrive/ML/geotiffs/tier1/images/hurricane-matthew_00000048_post_disaster.tif',\n",
              " '/content/drive/MyDrive/ML/geotiffs/tier1/images/hurricane-matthew_00000295_post_disaster.tif',\n",
              " '/content/drive/MyDrive/ML/geotiffs/tier1/images/hurricane-matthew_00000169_post_disaster.tif',\n",
              " '/content/drive/MyDrive/ML/geotiffs/tier1/images/hurricane-matthew_00000078_post_disaster.tif',\n",
              " '/content/drive/MyDrive/ML/geotiffs/tier1/images/hurricane-matthew_00000287_post_disaster.tif',\n",
              " '/content/drive/MyDrive/ML/geotiffs/tier1/images/hurricane-matthew_00000353_post_disaster.tif',\n",
              " '/content/drive/MyDrive/ML/geotiffs/tier1/images/hurricane-matthew_00000269_post_disaster.tif',\n",
              " '/content/drive/MyDrive/ML/geotiffs/tier1/images/hurricane-matthew_00000370_post_disaster.tif',\n",
              " '/content/drive/MyDrive/ML/geotiffs/tier1/images/hurricane-matthew_00000102_post_disaster.tif',\n",
              " '/content/drive/MyDrive/ML/geotiffs/tier1/images/hurricane-matthew_00000207_post_disaster.tif',\n",
              " '/content/drive/MyDrive/ML/geotiffs/tier1/images/hurricane-matthew_00000003_post_disaster.tif',\n",
              " '/content/drive/MyDrive/ML/geotiffs/tier1/images/hurricane-matthew_00000166_post_disaster.tif',\n",
              " '/content/drive/MyDrive/ML/geotiffs/tier1/images/hurricane-matthew_00000064_post_disaster.tif',\n",
              " '/content/drive/MyDrive/ML/geotiffs/tier1/images/hurricane-matthew_00000222_post_disaster.tif',\n",
              " '/content/drive/MyDrive/ML/geotiffs/tier1/images/hurricane-matthew_00000136_post_disaster.tif',\n",
              " '/content/drive/MyDrive/ML/geotiffs/tier1/images/hurricane-matthew_00000192_post_disaster.tif',\n",
              " '/content/drive/MyDrive/ML/geotiffs/tier1/images/hurricane-matthew_00000075_post_disaster.tif',\n",
              " '/content/drive/MyDrive/ML/geotiffs/tier1/images/hurricane-matthew_00000116_post_disaster (1).tif',\n",
              " '/content/drive/MyDrive/ML/geotiffs/tier1/images/hurricane-matthew_00000341_post_disaster.tif',\n",
              " '/content/drive/MyDrive/ML/geotiffs/tier1/images/hurricane-matthew_00000116_post_disaster.tif',\n",
              " '/content/drive/MyDrive/ML/geotiffs/tier1/images/hurricane-matthew_00000385_post_disaster.tif',\n",
              " '/content/drive/MyDrive/ML/geotiffs/tier1/images/hurricane-matthew_00000335_post_disaster.tif',\n",
              " '/content/drive/MyDrive/ML/geotiffs/tier1/images/hurricane-matthew_00000053_post_disaster.tif',\n",
              " '/content/drive/MyDrive/ML/geotiffs/tier1/images/hurricane-matthew_00000259_post_disaster.tif',\n",
              " '/content/drive/MyDrive/ML/geotiffs/tier1/images/hurricane-matthew_00000331_post_disaster.tif',\n",
              " '/content/drive/MyDrive/ML/geotiffs/tier1/images/hurricane-matthew_00000119_post_disaster.tif',\n",
              " '/content/drive/MyDrive/ML/geotiffs/tier1/images/hurricane-matthew_00000082_post_disaster.tif',\n",
              " '/content/drive/MyDrive/ML/geotiffs/tier1/images/hurricane-matthew_00000175_post_disaster.tif',\n",
              " '/content/drive/MyDrive/ML/geotiffs/tier1/images/hurricane-matthew_00000376_post_disaster.tif',\n",
              " '/content/drive/MyDrive/ML/geotiffs/tier1/images/hurricane-matthew_00000400_post_disaster.tif',\n",
              " '/content/drive/MyDrive/ML/geotiffs/tier1/images/hurricane-matthew_00000066_post_disaster.tif',\n",
              " '/content/drive/MyDrive/ML/geotiffs/tier1/images/hurricane-matthew_00000316_post_disaster.tif',\n",
              " '/content/drive/MyDrive/ML/geotiffs/tier1/images/hurricane-matthew_00000226_post_disaster.tif',\n",
              " '/content/drive/MyDrive/ML/geotiffs/tier1/images/hurricane-matthew_00000021_post_disaster.tif',\n",
              " '/content/drive/MyDrive/ML/geotiffs/tier1/images/hurricane-matthew_00000159_post_disaster.tif',\n",
              " '/content/drive/MyDrive/ML/geotiffs/tier1/images/hurricane-matthew_00000208_post_disaster.tif',\n",
              " '/content/drive/MyDrive/ML/geotiffs/tier1/images/hurricane-matthew_00000060_post_disaster.tif',\n",
              " '/content/drive/MyDrive/ML/geotiffs/tier1/images/hurricane-matthew_00000334_post_disaster.tif',\n",
              " '/content/drive/MyDrive/ML/geotiffs/tier1/images/hurricane-matthew_00000052_post_disaster.tif',\n",
              " '/content/drive/MyDrive/ML/geotiffs/tier1/images/hurricane-matthew_00000375_post_disaster.tif',\n",
              " '/content/drive/MyDrive/ML/geotiffs/tier1/images/hurricane-matthew_00000285_post_disaster.tif',\n",
              " '/content/drive/MyDrive/ML/geotiffs/tier1/images/hurricane-matthew_00000154_post_disaster.tif',\n",
              " '/content/drive/MyDrive/ML/geotiffs/tier1/images/hurricane-matthew_00000079_post_disaster.tif',\n",
              " '/content/drive/MyDrive/ML/geotiffs/tier1/images/hurricane-matthew_00000401_post_disaster.tif',\n",
              " '/content/drive/MyDrive/ML/geotiffs/tier1/images/hurricane-matthew_00000167_post_disaster.tif',\n",
              " '/content/drive/MyDrive/ML/geotiffs/tier1/images/hurricane-matthew_00000221_post_disaster.tif',\n",
              " '/content/drive/MyDrive/ML/geotiffs/tier1/images/hurricane-matthew_00000045_post_disaster.tif',\n",
              " '/content/drive/MyDrive/ML/geotiffs/tier1/images/hurricane-matthew_00000307_post_disaster.tif',\n",
              " '/content/drive/MyDrive/ML/geotiffs/tier1/images/hurricane-matthew_00000179_post_disaster.tif',\n",
              " '/content/drive/MyDrive/ML/geotiffs/tier1/images/hurricane-matthew_00000180_post_disaster.tif',\n",
              " '/content/drive/MyDrive/ML/geotiffs/tier1/images/hurricane-matthew_00000168_post_disaster.tif',\n",
              " '/content/drive/MyDrive/ML/geotiffs/tier1/images/hurricane-matthew_00000296_post_disaster.tif',\n",
              " '/content/drive/MyDrive/ML/geotiffs/tier1/images/hurricane-matthew_00000275_post_disaster.tif',\n",
              " '/content/drive/MyDrive/ML/geotiffs/tier1/images/hurricane-matthew_00000099_post_disaster.tif',\n",
              " '/content/drive/MyDrive/ML/geotiffs/tier1/images/hurricane-matthew_00000200_post_disaster.tif',\n",
              " '/content/drive/MyDrive/ML/geotiffs/tier1/images/hurricane-matthew_00000030_post_disaster.tif',\n",
              " '/content/drive/MyDrive/ML/geotiffs/tier1/images/hurricane-matthew_00000072_post_disaster.tif',\n",
              " '/content/drive/MyDrive/ML/geotiffs/tier1/images/hurricane-matthew_00000303_post_disaster.tif',\n",
              " '/content/drive/MyDrive/ML/geotiffs/tier1/images/hurricane-matthew_00000245_post_disaster.tif',\n",
              " '/content/drive/MyDrive/ML/geotiffs/tier1/images/hurricane-matthew_00000212_post_disaster.tif',\n",
              " '/content/drive/MyDrive/ML/geotiffs/tier1/images/hurricane-matthew_00000306_post_disaster.tif',\n",
              " '/content/drive/MyDrive/ML/geotiffs/tier1/images/hurricane-matthew_00000145_post_disaster.tif',\n",
              " '/content/drive/MyDrive/ML/geotiffs/tier1/images/hurricane-matthew_00000130_post_disaster.tif',\n",
              " '/content/drive/MyDrive/ML/geotiffs/tier1/images/hurricane-matthew_00000065_post_disaster.tif',\n",
              " '/content/drive/MyDrive/ML/geotiffs/tier1/images/hurricane-matthew_00000009_post_disaster.tif',\n",
              " '/content/drive/MyDrive/ML/geotiffs/tier1/images/hurricane-matthew_00000211_post_disaster.tif',\n",
              " '/content/drive/MyDrive/ML/geotiffs/tier1/images/hurricane-matthew_00000314_post_disaster.tif',\n",
              " '/content/drive/MyDrive/ML/geotiffs/tier1/images/hurricane-matthew_00000249_post_disaster.tif',\n",
              " '/content/drive/MyDrive/ML/geotiffs/tier1/images/hurricane-matthew_00000338_post_disaster.tif',\n",
              " '/content/drive/MyDrive/ML/geotiffs/tier1/images/hurricane-matthew_00000080_post_disaster (2).tif',\n",
              " '/content/drive/MyDrive/ML/geotiffs/tier1/images/hurricane-matthew_00000080_post_disaster (1).tif',\n",
              " '/content/drive/MyDrive/ML/geotiffs/tier1/images/hurricane-matthew_00000085_post_disaster.tif',\n",
              " '/content/drive/MyDrive/ML/geotiffs/tier1/images/hurricane-matthew_00000080_post_disaster.tif',\n",
              " '/content/drive/MyDrive/ML/geotiffs/tier1/images/hurricane-matthew_00000243_post_disaster.tif',\n",
              " '/content/drive/MyDrive/ML/geotiffs/tier1/images/hurricane-matthew_00000322_post_disaster.tif',\n",
              " '/content/drive/MyDrive/ML/geotiffs/tier1/images/hurricane-matthew_00000319_post_disaster.tif',\n",
              " '/content/drive/MyDrive/ML/geotiffs/tier1/images/hurricane-matthew_00000321_post_disaster.tif',\n",
              " '/content/drive/MyDrive/ML/geotiffs/tier1/images/hurricane-matthew_00000100_post_disaster.tif',\n",
              " '/content/drive/MyDrive/ML/geotiffs/tier1/images/hurricane-matthew_00000162_post_disaster.tif',\n",
              " '/content/drive/MyDrive/ML/geotiffs/tier1/images/hurricane-matthew_00000237_post_disaster.tif',\n",
              " '/content/drive/MyDrive/ML/geotiffs/tier1/images/hurricane-matthew_00000311_post_disaster.tif',\n",
              " '/content/drive/MyDrive/ML/geotiffs/tier1/images/hurricane-matthew_00000016_post_disaster.tif',\n",
              " '/content/drive/MyDrive/ML/geotiffs/tier1/images/hurricane-matthew_00000284_post_disaster.tif',\n",
              " '/content/drive/MyDrive/ML/geotiffs/tier1/images/hurricane-matthew_00000153_post_disaster.tif',\n",
              " '/content/drive/MyDrive/ML/geotiffs/tier1/images/hurricane-matthew_00000231_post_disaster.tif',\n",
              " '/content/drive/MyDrive/ML/geotiffs/tier1/images/hurricane-matthew_00000238_post_disaster.tif',\n",
              " '/content/drive/MyDrive/ML/geotiffs/tier1/images/hurricane-matthew_00000256_post_disaster.tif',\n",
              " '/content/drive/MyDrive/ML/geotiffs/tier1/images/hurricane-matthew_00000250_post_disaster.tif',\n",
              " '/content/drive/MyDrive/ML/geotiffs/tier1/images/hurricane-matthew_00000271_post_disaster.tif',\n",
              " '/content/drive/MyDrive/ML/geotiffs/tier1/images/hurricane-matthew_00000387_post_disaster.tif',\n",
              " '/content/drive/MyDrive/ML/geotiffs/tier1/images/hurricane-matthew_00000301_post_disaster.tif',\n",
              " '/content/drive/MyDrive/ML/geotiffs/tier1/images/hurricane-matthew_00000187_post_disaster.tif',\n",
              " '/content/drive/MyDrive/ML/geotiffs/tier1/images/hurricane-matthew_00000190_post_disaster.tif',\n",
              " '/content/drive/MyDrive/ML/geotiffs/tier1/images/hurricane-matthew_00000097_post_disaster.tif',\n",
              " '/content/drive/MyDrive/ML/geotiffs/tier1/images/hurricane-matthew_00000133_post_disaster.tif',\n",
              " '/content/drive/MyDrive/ML/geotiffs/tier1/images/hurricane-matthew_00000369_post_disaster.tif',\n",
              " '/content/drive/MyDrive/ML/geotiffs/tier1/images/hurricane-matthew_00000399_post_disaster.tif',\n",
              " '/content/drive/MyDrive/ML/geotiffs/tier1/images/hurricane-matthew_00000364_post_disaster.tif',\n",
              " '/content/drive/MyDrive/ML/geotiffs/tier1/images/hurricane-matthew_00000063_post_disaster.tif',\n",
              " '/content/drive/MyDrive/ML/geotiffs/tier1/images/hurricane-matthew_00000305_post_disaster.tif',\n",
              " '/content/drive/MyDrive/ML/geotiffs/tier1/images/hurricane-matthew_00000152_post_disaster.tif',\n",
              " '/content/drive/MyDrive/ML/geotiffs/tier1/images/hurricane-matthew_00000373_post_disaster.tif',\n",
              " '/content/drive/MyDrive/ML/geotiffs/tier1/images/hurricane-matthew_00000089_post_disaster.tif',\n",
              " '/content/drive/MyDrive/ML/geotiffs/tier1/images/hurricane-matthew_00000312_post_disaster (1).tif',\n",
              " '/content/drive/MyDrive/ML/geotiffs/tier1/images/hurricane-matthew_00000293_post_disaster.tif',\n",
              " '/content/drive/MyDrive/ML/geotiffs/tier1/images/hurricane-matthew_00000193_post_disaster.tif',\n",
              " '/content/drive/MyDrive/ML/geotiffs/tier1/images/hurricane-matthew_00000312_post_disaster.tif',\n",
              " '/content/drive/MyDrive/ML/geotiffs/tier1/images/hurricane-matthew_00000103_post_disaster.tif',\n",
              " '/content/drive/MyDrive/ML/geotiffs/tier1/images/hurricane-matthew_00000384_post_disaster.tif',\n",
              " '/content/drive/MyDrive/ML/geotiffs/tier1/images/hurricane-matthew_00000132_post_disaster.tif',\n",
              " '/content/drive/MyDrive/ML/geotiffs/tier1/images/hurricane-matthew_00000232_post_disaster.tif',\n",
              " '/content/drive/MyDrive/ML/geotiffs/tier1/images/hurricane-matthew_00000095_post_disaster.tif',\n",
              " '/content/drive/MyDrive/ML/geotiffs/tier1/images/hurricane-matthew_00000126_post_disaster.tif',\n",
              " '/content/drive/MyDrive/ML/geotiffs/tier1/images/hurricane-matthew_00000143_post_disaster.tif',\n",
              " '/content/drive/MyDrive/ML/geotiffs/tier1/images/hurricane-matthew_00000172_post_disaster.tif',\n",
              " '/content/drive/MyDrive/ML/geotiffs/tier1/images/hurricane-matthew_00000067_post_disaster.tif',\n",
              " '/content/drive/MyDrive/ML/geotiffs/tier1/images/hurricane-matthew_00000086_post_disaster (1).tif',\n",
              " '/content/drive/MyDrive/ML/geotiffs/tier1/images/hurricane-matthew_00000366_post_disaster.tif',\n",
              " '/content/drive/MyDrive/ML/geotiffs/tier1/images/hurricane-matthew_00000086_post_disaster.tif',\n",
              " '/content/drive/MyDrive/ML/geotiffs/tier1/images/hurricane-matthew_00000054_post_disaster.tif',\n",
              " '/content/drive/MyDrive/ML/geotiffs/tier1/images/hurricane-matthew_00000182_post_disaster.tif',\n",
              " '/content/drive/MyDrive/ML/geotiffs/tier1/images/hurricane-matthew_00000278_post_disaster.tif',\n",
              " '/content/drive/MyDrive/ML/geotiffs/tier1/images/hurricane-matthew_00000050_post_disaster.tif',\n",
              " '/content/drive/MyDrive/ML/geotiffs/tier1/images/hurricane-matthew_00000173_post_disaster.tif',\n",
              " '/content/drive/MyDrive/ML/geotiffs/tier1/images/hurricane-matthew_00000137_post_disaster.tif',\n",
              " '/content/drive/MyDrive/ML/geotiffs/tier1/images/hurricane-matthew_00000104_post_disaster.tif',\n",
              " '/content/drive/MyDrive/ML/geotiffs/tier1/images/hurricane-matthew_00000239_post_disaster.tif',\n",
              " '/content/drive/MyDrive/ML/geotiffs/tier1/images/hurricane-matthew_00000039_post_disaster.tif',\n",
              " '/content/drive/MyDrive/ML/geotiffs/tier1/images/hurricane-matthew_00000083_post_disaster.tif',\n",
              " '/content/drive/MyDrive/ML/geotiffs/tier1/images/hurricane-matthew_00000362_post_disaster.tif',\n",
              " '/content/drive/MyDrive/ML/geotiffs/tier1/images/hurricane-matthew_00000302_post_disaster.tif',\n",
              " '/content/drive/MyDrive/ML/geotiffs/tier1/images/hurricane-matthew_00000328_post_disaster.tif',\n",
              " '/content/drive/MyDrive/ML/geotiffs/tier1/images/hurricane-matthew_00000219_post_disaster.tif',\n",
              " '/content/drive/MyDrive/ML/geotiffs/tier1/images/hurricane-matthew_00000268_post_disaster.tif',\n",
              " '/content/drive/MyDrive/ML/geotiffs/tier1/images/hurricane-matthew_00000398_post_disaster.tif',\n",
              " '/content/drive/MyDrive/ML/geotiffs/tier1/images/hurricane-matthew_00000332_post_disaster.tif',\n",
              " '/content/drive/MyDrive/ML/geotiffs/tier1/images/hurricane-matthew_00000310_post_disaster.tif',\n",
              " '/content/drive/MyDrive/ML/geotiffs/tier1/images/hurricane-matthew_00000006_post_disaster.tif',\n",
              " '/content/drive/MyDrive/ML/geotiffs/tier1/images/hurricane-matthew_00000283_post_disaster.tif',\n",
              " '/content/drive/MyDrive/ML/geotiffs/tier1/images/hurricane-matthew_00000140_post_disaster.tif',\n",
              " '/content/drive/MyDrive/ML/geotiffs/tier1/images/hurricane-matthew_00000263_post_disaster.tif',\n",
              " '/content/drive/MyDrive/ML/geotiffs/tier1/images/hurricane-matthew_00000343_post_disaster.tif',\n",
              " '/content/drive/MyDrive/ML/geotiffs/tier1/images/hurricane-matthew_00000034_post_disaster.tif',\n",
              " '/content/drive/MyDrive/ML/geotiffs/tier1/images/hurricane-matthew_00000043_post_disaster.tif',\n",
              " '/content/drive/MyDrive/ML/geotiffs/tier1/images/hurricane-matthew_00000381_post_disaster.tif',\n",
              " '/content/drive/MyDrive/ML/geotiffs/tier1/images/hurricane-matthew_00000204_post_disaster.tif',\n",
              " '/content/drive/MyDrive/ML/geotiffs/tier1/images/hurricane-matthew_00000013_post_disaster.tif',\n",
              " '/content/drive/MyDrive/ML/geotiffs/tier1/images/hurricane-matthew_00000197_post_disaster.tif',\n",
              " '/content/drive/MyDrive/ML/geotiffs/tier1/images/hurricane-matthew_00000023_post_disaster.tif',\n",
              " '/content/drive/MyDrive/ML/geotiffs/tier1/images/hurricane-matthew_00000365_post_disaster.tif',\n",
              " '/content/drive/MyDrive/ML/geotiffs/tier1/images/hurricane-matthew_00000242_post_disaster.tif',\n",
              " '/content/drive/MyDrive/ML/geotiffs/tier1/images/hurricane-matthew_00000017_post_disaster.tif',\n",
              " '/content/drive/MyDrive/ML/geotiffs/tier1/images/hurricane-matthew_00000206_post_disaster.tif',\n",
              " '/content/drive/MyDrive/ML/geotiffs/tier1/images/hurricane-matthew_00000354_post_disaster.tif',\n",
              " '/content/drive/MyDrive/ML/geotiffs/tier1/images/hurricane-matthew_00000215_post_disaster.tif',\n",
              " '/content/drive/MyDrive/ML/geotiffs/tier1/images/hurricane-matthew_00000336_post_disaster.tif',\n",
              " '/content/drive/MyDrive/ML/geotiffs/tier1/images/hurricane-matthew_00000360_post_disaster.tif',\n",
              " '/content/drive/MyDrive/ML/geotiffs/tier1/images/hurricane-matthew_00000185_post_disaster.tif',\n",
              " '/content/drive/MyDrive/ML/geotiffs/tier1/images/hurricane-matthew_00000346_post_disaster.tif',\n",
              " '/content/drive/MyDrive/ML/geotiffs/tier1/images/hurricane-matthew_00000186_post_disaster.tif',\n",
              " '/content/drive/MyDrive/ML/geotiffs/tier1/images/hurricane-matthew_00000265_post_disaster.tif',\n",
              " '/content/drive/MyDrive/ML/geotiffs/tier1/images/hurricane-matthew_00000139_post_disaster.tif',\n",
              " '/content/drive/MyDrive/ML/geotiffs/tier1/images/hurricane-matthew_00000213_post_disaster.tif',\n",
              " '/content/drive/MyDrive/ML/geotiffs/tier1/images/hurricane-matthew_00000170_post_disaster.tif',\n",
              " '/content/drive/MyDrive/ML/geotiffs/tier1/images/hurricane-matthew_00000260_post_disaster.tif',\n",
              " '/content/drive/MyDrive/ML/geotiffs/tier1/images/hurricane-matthew_00000393_post_disaster.tif',\n",
              " '/content/drive/MyDrive/ML/geotiffs/tier1/images/hurricane-matthew_00000093_post_disaster.tif',\n",
              " '/content/drive/MyDrive/ML/geotiffs/tier1/images/hurricane-matthew_00000289_post_disaster.tif',\n",
              " '/content/drive/MyDrive/ML/geotiffs/tier1/images/hurricane-matthew_00000084_post_disaster.tif',\n",
              " '/content/drive/MyDrive/ML/geotiffs/tier1/images/hurricane-matthew_00000092_post_disaster.tif',\n",
              " '/content/drive/MyDrive/ML/geotiffs/tier1/images/hurricane-matthew_00000134_post_disaster.tif',\n",
              " '/content/drive/MyDrive/ML/geotiffs/tier1/images/hurricane-matthew_00000202_post_disaster.tif',\n",
              " '/content/drive/MyDrive/ML/geotiffs/tier1/images/hurricane-matthew_00000380_post_disaster.tif',\n",
              " '/content/drive/MyDrive/ML/geotiffs/tier1/images/hurricane-matthew_00000244_post_disaster (1).tif',\n",
              " '/content/drive/MyDrive/ML/geotiffs/tier1/images/hurricane-matthew_00000228_post_disaster.tif',\n",
              " '/content/drive/MyDrive/ML/geotiffs/tier1/images/hurricane-matthew_00000000_post_disaster.tif',\n",
              " '/content/drive/MyDrive/ML/geotiffs/tier1/images/hurricane-matthew_00000244_post_disaster.tif',\n",
              " '/content/drive/MyDrive/ML/geotiffs/tier1/images/hurricane-matthew_00000035_post_disaster.tif',\n",
              " '/content/drive/MyDrive/ML/geotiffs/tier1/images/hurricane-matthew_00000347_post_disaster.tif',\n",
              " '/content/drive/MyDrive/ML/geotiffs/tier1/images/hurricane-matthew_00000195_post_disaster.tif',\n",
              " '/content/drive/MyDrive/ML/geotiffs/tier1/images/hurricane-matthew_00000181_post_disaster.tif',\n",
              " '/content/drive/MyDrive/ML/geotiffs/tier1/images/hurricane-matthew_00000071_post_disaster.tif',\n",
              " '/content/drive/MyDrive/ML/geotiffs/tier1/images/hurricane-matthew_00000070_post_disaster.tif',\n",
              " '/content/drive/MyDrive/ML/geotiffs/tier1/images/hurricane-matthew_00000120_post_disaster.tif',\n",
              " '/content/drive/MyDrive/ML/geotiffs/tier1/images/hurricane-matthew_00000251_post_disaster.tif',\n",
              " '/content/drive/MyDrive/ML/geotiffs/tier1/images/hurricane-matthew_00000056_post_disaster.tif',\n",
              " '/content/drive/MyDrive/ML/geotiffs/tier1/images/hurricane-matthew_00000174_post_disaster.tif',\n",
              " '/content/drive/MyDrive/ML/geotiffs/tier1/images/hurricane-matthew_00000248_post_disaster.tif',\n",
              " '/content/drive/MyDrive/ML/geotiffs/tier1/images/hurricane-matthew_00000164_post_disaster.tif',\n",
              " '/content/drive/MyDrive/ML/geotiffs/tier1/images/hurricane-matthew_00000372_post_disaster.tif',\n",
              " '/content/drive/MyDrive/ML/geotiffs/tier1/images/hurricane-matthew_00000001_post_disaster.tif',\n",
              " '/content/drive/MyDrive/ML/geotiffs/tier1/images/hurricane-matthew_00000233_post_disaster.tif',\n",
              " '/content/drive/MyDrive/ML/geotiffs/tier1/images/hurricane-matthew_00000005_post_disaster.tif',\n",
              " '/content/drive/MyDrive/ML/geotiffs/tier1/images/hurricane-matthew_00000128_post_disaster.tif',\n",
              " '/content/drive/MyDrive/ML/geotiffs/tier1/images/hurricane-matthew_00000367_post_disaster (2).tif',\n",
              " '/content/drive/MyDrive/ML/geotiffs/tier1/images/hurricane-matthew_00000367_post_disaster (1).tif',\n",
              " '/content/drive/MyDrive/ML/geotiffs/tier1/images/hurricane-matthew_00000367_post_disaster.tif',\n",
              " '/content/drive/MyDrive/ML/geotiffs/tier1/images/hurricane-matthew_00000155_post_disaster.tif',\n",
              " '/content/drive/MyDrive/ML/geotiffs/tier1/images/hurricane-matthew_00000388_post_disaster.tif',\n",
              " '/content/drive/MyDrive/ML/geotiffs/tier1/images/hurricane-matthew_00000171_post_disaster.tif',\n",
              " '/content/drive/MyDrive/ML/geotiffs/tier1/images/hurricane-matthew_00000110_post_disaster.tif',\n",
              " '/content/drive/MyDrive/ML/geotiffs/tier1/images/hurricane-matthew_00000049_post_disaster.tif',\n",
              " '/content/drive/MyDrive/ML/geotiffs/tier1/images/hurricane-matthew_00000252_post_disaster (1).tif',\n",
              " '/content/drive/MyDrive/ML/geotiffs/tier1/images/hurricane-matthew_00000252_post_disaster.tif',\n",
              " '/content/drive/MyDrive/ML/geotiffs/tier1/images/hurricane-matthew_00000007_post_disaster.tif',\n",
              " '/content/drive/MyDrive/ML/geotiffs/tier1/images/hurricane-matthew_00000044_post_disaster.tif',\n",
              " '/content/drive/MyDrive/ML/geotiffs/tier1/images/hurricane-matthew_00000392_post_disaster.tif',\n",
              " '/content/drive/MyDrive/ML/geotiffs/tier1/images/hurricane-matthew_00000205_post_disaster.tif',\n",
              " '/content/drive/MyDrive/ML/geotiffs/tier1/images/hurricane-matthew_00000062_post_disaster.tif',\n",
              " '/content/drive/MyDrive/ML/geotiffs/tier1/images/hurricane-matthew_00000281_post_disaster.tif',\n",
              " '/content/drive/MyDrive/ML/geotiffs/tier1/images/hurricane-matthew_00000261_post_disaster.tif',\n",
              " '/content/drive/MyDrive/ML/geotiffs/tier1/images/hurricane-matthew_00000090_post_disaster.tif',\n",
              " '/content/drive/MyDrive/ML/geotiffs/tier1/images/hurricane-matthew_00000041_post_disaster.tif',\n",
              " '/content/drive/MyDrive/ML/geotiffs/tier1/images/hurricane-matthew_00000002_post_disaster.tif',\n",
              " '/content/drive/MyDrive/ML/geotiffs/tier1/images/hurricane-matthew_00000156_post_disaster.tif',\n",
              " '/content/drive/MyDrive/ML/geotiffs/tier1/images/hurricane-matthew_00000014_post_disaster.tif',\n",
              " '/content/drive/MyDrive/ML/geotiffs/tier1/images/hurricane-matthew_00000234_post_disaster.tif',\n",
              " '/content/drive/MyDrive/ML/geotiffs/tier1/images/hurricane-matthew_00000390_post_disaster.tif',\n",
              " '/content/drive/MyDrive/ML/geotiffs/tier1/images/hurricane-matthew_00000094_post_disaster.tif',\n",
              " '/content/drive/MyDrive/ML/geotiffs/tier1/images/hurricane-matthew_00000198_post_disaster.tif',\n",
              " '/content/drive/MyDrive/ML/geotiffs/tier1/images/hurricane-matthew_00000241_post_disaster.tif',\n",
              " '/content/drive/MyDrive/ML/geotiffs/tier1/images/hurricane-matthew_00000379_post_disaster.tif',\n",
              " '/content/drive/MyDrive/ML/geotiffs/tier1/images/hurricane-matthew_00000279_post_disaster.tif',\n",
              " '/content/drive/MyDrive/ML/geotiffs/tier1/images/hurricane-matthew_00000223_post_disaster.tif',\n",
              " '/content/drive/MyDrive/ML/geotiffs/tier1/images/hurricane-matthew_00000329_post_disaster.tif',\n",
              " '/content/drive/MyDrive/ML/geotiffs/tier1/images/hurricane-matthew_00000129_post_disaster.tif',\n",
              " '/content/drive/MyDrive/ML/geotiffs/tier1/images/hurricane-matthew_00000077_post_disaster.tif',\n",
              " '/content/drive/MyDrive/ML/geotiffs/tier1/images/hurricane-matthew_00000368_post_disaster.tif',\n",
              " '/content/drive/MyDrive/ML/geotiffs/tier1/images/hurricane-matthew_00000209_post_disaster.tif',\n",
              " '/content/drive/MyDrive/ML/geotiffs/tier1/images/hurricane-matthew_00000178_post_disaster (1).tif',\n",
              " '/content/drive/MyDrive/ML/geotiffs/tier1/images/hurricane-matthew_00000178_post_disaster.tif',\n",
              " '/content/drive/MyDrive/ML/geotiffs/tier1/images/hurricane-matthew_00000188_post_disaster.tif',\n",
              " '/content/drive/MyDrive/ML/geotiffs/tier1/images/hurricane-matthew_00000276_post_disaster.tif',\n",
              " '/content/drive/MyDrive/ML/geotiffs/tier1/images/hurricane-matthew_00000031_post_disaster.tif',\n",
              " '/content/drive/MyDrive/ML/geotiffs/tier1/images/hurricane-matthew_00000040_post_disaster.tif',\n",
              " '/content/drive/MyDrive/ML/geotiffs/tier1/images/hurricane-matthew_00000158_post_disaster (2).tif',\n",
              " '/content/drive/MyDrive/ML/geotiffs/tier1/images/hurricane-matthew_00000158_post_disaster (1).tif',\n",
              " '/content/drive/MyDrive/ML/geotiffs/tier1/images/hurricane-matthew_00000158_post_disaster.tif',\n",
              " '/content/drive/MyDrive/ML/geotiffs/tier1/images/hurricane-matthew_00000350_post_disaster.tif',\n",
              " '/content/drive/MyDrive/ML/geotiffs/tier1/images/hurricane-matthew_00000149_post_disaster.tif',\n",
              " '/content/drive/MyDrive/ML/geotiffs/tier1/images/hurricane-matthew_00000069_post_disaster.tif',\n",
              " '/content/drive/MyDrive/ML/geotiffs/tier1/images/hurricane-matthew_00000402_post_disaster.tif',\n",
              " '/content/drive/MyDrive/ML/geotiffs/tier1/images/hurricane-matthew_00000008_post_disaster.tif',\n",
              " '/content/drive/MyDrive/ML/geotiffs/tier1/images/hurricane-matthew_00000125_post_disaster.tif',\n",
              " '/content/drive/MyDrive/ML/geotiffs/tier1/images/hurricane-matthew_00000004_post_disaster.tif',\n",
              " '/content/drive/MyDrive/ML/geotiffs/tier1/images/hurricane-matthew_00000176_post_disaster.tif',\n",
              " '/content/drive/MyDrive/ML/geotiffs/tier1/images/hurricane-matthew_00000355_post_disaster.tif',\n",
              " '/content/drive/MyDrive/ML/geotiffs/tier1/images/hurricane-matthew_00000264_post_disaster.tif',\n",
              " '/content/drive/MyDrive/ML/geotiffs/tier1/images/hurricane-michael_00000310_post_disaster.tif',\n",
              " '/content/drive/MyDrive/ML/geotiffs/tier1/images/hurricane-michael_00000077_post_disaster.tif',\n",
              " '/content/drive/MyDrive/ML/geotiffs/tier1/images/hurricane-michael_00000474_post_disaster.tif',\n",
              " '/content/drive/MyDrive/ML/geotiffs/tier1/images/hurricane-michael_00000248_post_disaster.tif',\n",
              " '/content/drive/MyDrive/ML/geotiffs/tier1/images/hurricane-michael_00000305_post_disaster.tif',\n",
              " '/content/drive/MyDrive/ML/geotiffs/tier1/images/hurricane-michael_00000461_post_disaster.tif',\n",
              " '/content/drive/MyDrive/ML/geotiffs/tier1/images/hurricane-michael_00000328_post_disaster.tif',\n",
              " '/content/drive/MyDrive/ML/geotiffs/tier1/images/hurricane-michael_00000490_post_disaster.tif',\n",
              " '/content/drive/MyDrive/ML/geotiffs/tier1/images/hurricane-michael_00000174_post_disaster.tif',\n",
              " '/content/drive/MyDrive/ML/geotiffs/tier1/images/hurricane-michael_00000124_post_disaster.tif',\n",
              " '/content/drive/MyDrive/ML/geotiffs/tier1/images/hurricane-michael_00000268_post_disaster.tif',\n",
              " '/content/drive/MyDrive/ML/geotiffs/tier1/images/hurricane-michael_00000003_post_disaster.tif',\n",
              " '/content/drive/MyDrive/ML/geotiffs/tier1/images/hurricane-michael_00000060_post_disaster.tif',\n",
              " '/content/drive/MyDrive/ML/geotiffs/tier1/images/hurricane-michael_00000281_post_disaster.tif',\n",
              " '/content/drive/MyDrive/ML/geotiffs/tier1/images/hurricane-michael_00000025_post_disaster.tif',\n",
              " '/content/drive/MyDrive/ML/geotiffs/tier1/images/hurricane-michael_00000514_post_disaster.tif',\n",
              " '/content/drive/MyDrive/ML/geotiffs/tier1/images/hurricane-michael_00000180_post_disaster.tif',\n",
              " '/content/drive/MyDrive/ML/geotiffs/tier1/images/hurricane-michael_00000325_post_disaster.tif',\n",
              " '/content/drive/MyDrive/ML/geotiffs/tier1/images/hurricane-michael_00000455_post_disaster.tif',\n",
              " '/content/drive/MyDrive/ML/geotiffs/tier1/images/hurricane-michael_00000522_post_disaster.tif',\n",
              " '/content/drive/MyDrive/ML/geotiffs/tier1/images/hurricane-michael_00000451_post_disaster.tif',\n",
              " '/content/drive/MyDrive/ML/geotiffs/tier1/images/hurricane-michael_00000250_post_disaster.tif',\n",
              " '/content/drive/MyDrive/ML/geotiffs/tier1/images/hurricane-michael_00000188_post_disaster.tif',\n",
              " '/content/drive/MyDrive/ML/geotiffs/tier1/images/hurricane-michael_00000315_post_disaster.tif',\n",
              " '/content/drive/MyDrive/ML/geotiffs/tier1/images/hurricane-michael_00000472_post_disaster.tif',\n",
              " '/content/drive/MyDrive/ML/geotiffs/tier1/images/hurricane-michael_00000540_post_disaster.tif',\n",
              " '/content/drive/MyDrive/ML/geotiffs/tier1/images/hurricane-michael_00000517_post_disaster.tif',\n",
              " '/content/drive/MyDrive/ML/geotiffs/tier1/images/hurricane-michael_00000283_post_disaster.tif',\n",
              " '/content/drive/MyDrive/ML/geotiffs/tier1/images/hurricane-michael_00000244_post_disaster.tif',\n",
              " '/content/drive/MyDrive/ML/geotiffs/tier1/images/hurricane-michael_00000355_post_disaster.tif',\n",
              " '/content/drive/MyDrive/ML/geotiffs/tier1/images/hurricane-michael_00000100_post_disaster.tif',\n",
              " '/content/drive/MyDrive/ML/geotiffs/tier1/images/hurricane-michael_00000098_post_disaster.tif',\n",
              " '/content/drive/MyDrive/ML/geotiffs/tier1/images/hurricane-michael_00000051_post_disaster.tif',\n",
              " '/content/drive/MyDrive/ML/geotiffs/tier1/images/hurricane-michael_00000341_post_disaster (1).tif',\n",
              " '/content/drive/MyDrive/ML/geotiffs/tier1/images/hurricane-michael_00000341_post_disaster.tif',\n",
              " '/content/drive/MyDrive/ML/geotiffs/tier1/images/hurricane-michael_00000393_post_disaster.tif',\n",
              " '/content/drive/MyDrive/ML/geotiffs/tier1/images/hurricane-michael_00000302_post_disaster.tif',\n",
              " '/content/drive/MyDrive/ML/geotiffs/tier1/images/hurricane-michael_00000101_post_disaster.tif',\n",
              " '/content/drive/MyDrive/ML/geotiffs/tier1/images/hurricane-michael_00000122_post_disaster.tif',\n",
              " '/content/drive/MyDrive/ML/geotiffs/tier1/images/hurricane-michael_00000511_post_disaster.tif',\n",
              " '/content/drive/MyDrive/ML/geotiffs/tier1/images/hurricane-michael_00000287_post_disaster.tif',\n",
              " '/content/drive/MyDrive/ML/geotiffs/tier1/images/hurricane-michael_00000039_post_disaster.tif',\n",
              " '/content/drive/MyDrive/ML/geotiffs/tier1/images/hurricane-michael_00000512_post_disaster.tif',\n",
              " '/content/drive/MyDrive/ML/geotiffs/tier1/images/hurricane-michael_00000172_post_disaster.tif',\n",
              " '/content/drive/MyDrive/ML/geotiffs/tier1/images/hurricane-michael_00000527_post_disaster.tif',\n",
              " '/content/drive/MyDrive/ML/geotiffs/tier1/images/hurricane-michael_00000136_post_disaster.tif',\n",
              " '/content/drive/MyDrive/ML/geotiffs/tier1/images/hurricane-michael_00000542_post_disaster.tif',\n",
              " '/content/drive/MyDrive/ML/geotiffs/tier1/images/hurricane-michael_00000454_post_disaster.tif',\n",
              " '/content/drive/MyDrive/ML/geotiffs/tier1/images/hurricane-michael_00000053_post_disaster.tif',\n",
              " '/content/drive/MyDrive/ML/geotiffs/tier1/images/hurricane-michael_00000406_post_disaster.tif',\n",
              " '/content/drive/MyDrive/ML/geotiffs/tier1/images/hurricane-michael_00000247_post_disaster.tif',\n",
              " '/content/drive/MyDrive/ML/geotiffs/tier1/images/hurricane-michael_00000181_post_disaster.tif',\n",
              " '/content/drive/MyDrive/ML/geotiffs/tier1/images/hurricane-michael_00000040_post_disaster.tif',\n",
              " '/content/drive/MyDrive/ML/geotiffs/tier1/images/hurricane-michael_00000497_post_disaster.tif',\n",
              " '/content/drive/MyDrive/ML/geotiffs/tier1/images/hurricane-michael_00000020_post_disaster.tif',\n",
              " '/content/drive/MyDrive/ML/geotiffs/tier1/images/hurricane-michael_00000150_post_disaster.tif',\n",
              " '/content/drive/MyDrive/ML/geotiffs/tier1/images/hurricane-michael_00000388_post_disaster.tif',\n",
              " '/content/drive/MyDrive/ML/geotiffs/tier1/images/hurricane-michael_00000330_post_disaster.tif',\n",
              " '/content/drive/MyDrive/ML/geotiffs/tier1/images/hurricane-michael_00000409_post_disaster.tif',\n",
              " '/content/drive/MyDrive/ML/geotiffs/tier1/images/hurricane-michael_00000103_post_disaster.tif',\n",
              " '/content/drive/MyDrive/ML/geotiffs/tier1/images/hurricane-michael_00000329_post_disaster (1).tif',\n",
              " '/content/drive/MyDrive/ML/geotiffs/tier1/images/hurricane-michael_00000473_post_disaster.tif',\n",
              " '/content/drive/MyDrive/ML/geotiffs/tier1/images/hurricane-michael_00000489_post_disaster.tif',\n",
              " '/content/drive/MyDrive/ML/geotiffs/tier1/images/hurricane-michael_00000301_post_disaster.tif',\n",
              " '/content/drive/MyDrive/ML/geotiffs/tier1/images/hurricane-michael_00000156_post_disaster.tif',\n",
              " '/content/drive/MyDrive/ML/geotiffs/tier1/images/hurricane-michael_00000260_post_disaster.tif',\n",
              " '/content/drive/MyDrive/ML/geotiffs/tier1/images/hurricane-michael_00000329_post_disaster.tif',\n",
              " '/content/drive/MyDrive/ML/geotiffs/tier1/images/hurricane-michael_00000295_post_disaster.tif',\n",
              " '/content/drive/MyDrive/ML/geotiffs/tier1/images/hurricane-michael_00000412_post_disaster.tif',\n",
              " '/content/drive/MyDrive/ML/geotiffs/tier1/images/hurricane-michael_00000492_post_disaster.tif',\n",
              " '/content/drive/MyDrive/ML/geotiffs/tier1/images/hurricane-michael_00000204_post_disaster.tif',\n",
              " '/content/drive/MyDrive/ML/geotiffs/tier1/images/hurricane-michael_00000011_post_disaster.tif',\n",
              " '/content/drive/MyDrive/ML/geotiffs/tier1/images/hurricane-michael_00000275_post_disaster.tif',\n",
              " '/content/drive/MyDrive/ML/geotiffs/tier1/images/hurricane-michael_00000353_post_disaster.tif',\n",
              " '/content/drive/MyDrive/ML/geotiffs/tier1/images/hurricane-michael_00000200_post_disaster.tif',\n",
              " '/content/drive/MyDrive/ML/geotiffs/tier1/images/hurricane-michael_00000475_post_disaster.tif',\n",
              " '/content/drive/MyDrive/ML/geotiffs/tier1/images/hurricane-michael_00000137_post_disaster.tif',\n",
              " '/content/drive/MyDrive/ML/geotiffs/tier1/images/hurricane-michael_00000357_post_disaster (1).tif',\n",
              " '/content/drive/MyDrive/ML/geotiffs/tier1/images/hurricane-michael_00000367_post_disaster (1).tif',\n",
              " '/content/drive/MyDrive/ML/geotiffs/tier1/images/hurricane-michael_00000480_post_disaster.tif',\n",
              " '/content/drive/MyDrive/ML/geotiffs/tier1/images/hurricane-michael_00000357_post_disaster.tif',\n",
              " '/content/drive/MyDrive/ML/geotiffs/tier1/images/hurricane-michael_00000304_post_disaster.tif',\n",
              " '/content/drive/MyDrive/ML/geotiffs/tier1/images/hurricane-michael_00000367_post_disaster.tif',\n",
              " '/content/drive/MyDrive/ML/geotiffs/tier1/images/hurricane-michael_00000313_post_disaster.tif',\n",
              " '/content/drive/MyDrive/ML/geotiffs/tier1/images/hurricane-michael_00000285_post_disaster.tif',\n",
              " '/content/drive/MyDrive/ML/geotiffs/tier1/images/hurricane-michael_00000415_post_disaster.tif',\n",
              " '/content/drive/MyDrive/ML/geotiffs/tier1/images/hurricane-michael_00000299_post_disaster.tif',\n",
              " '/content/drive/MyDrive/ML/geotiffs/tier1/images/hurricane-michael_00000486_post_disaster.tif',\n",
              " '/content/drive/MyDrive/ML/geotiffs/tier1/images/hurricane-michael_00000216_post_disaster.tif',\n",
              " '/content/drive/MyDrive/ML/geotiffs/tier1/images/hurricane-michael_00000159_post_disaster.tif',\n",
              " '/content/drive/MyDrive/ML/geotiffs/tier1/images/hurricane-michael_00000147_post_disaster.tif',\n",
              " ...]"
            ]
          },
          "metadata": {},
          "execution_count": 36
        }
      ]
    },
    {
      "cell_type": "code",
      "execution_count": null,
      "metadata": {
        "id": "qC68e7YI4lx0"
      },
      "outputs": [],
      "source": [
        "import json\n"
      ]
    },
    {
      "cell_type": "code",
      "execution_count": null,
      "metadata": {
        "id": "Mv4a1r0Z4nO2"
      },
      "outputs": [],
      "source": [
        "f = open(allTrainLabels[0])"
      ]
    },
    {
      "cell_type": "code",
      "execution_count": null,
      "metadata": {
        "id": "VyviiNLM4vDV"
      },
      "outputs": [],
      "source": [
        "data = json.load(f)"
      ]
    },
    {
      "cell_type": "code",
      "execution_count": null,
      "metadata": {
        "colab": {
          "base_uri": "https://localhost:8080/",
          "height": 35
        },
        "id": "IUbeaf7A6y3K",
        "outputId": "73ff7350-db7b-4bbb-e9b8-4ba684d6da5b"
      },
      "outputs": [
        {
          "output_type": "execute_result",
          "data": {
            "text/plain": [
              "'no-damage'"
            ],
            "application/vnd.google.colaboratory.intrinsic+json": {
              "type": "string"
            }
          },
          "metadata": {},
          "execution_count": 33
        }
      ],
      "source": [
        "data['features']['lng_lat'][0]['properties']['subtype']"
      ]
    },
    {
      "cell_type": "code",
      "execution_count": null,
      "metadata": {
        "id": "fKSRmtPW6Dv5"
      },
      "outputs": [],
      "source": [
        "idx = 0\n",
        "while idx < len(allTrainLabels): \n",
        "  f = open(allTrainLabels[idx])\n",
        "  data = json.load(f)\n",
        "  if len(data['features']['lng_lat']) == 0: \n",
        "    allTrainLabels = np.delete(allTrainLabels, idx)\n",
        "    allTrainImages = np.delete(allTrainImages, idx)\n",
        "  else:\n",
        "    idx += 1\n",
        "  \n",
        "\n",
        "\n"
      ]
    },
    {
      "cell_type": "code",
      "source": [
        "len(allTrainLabels)"
      ],
      "metadata": {
        "colab": {
          "base_uri": "https://localhost:8080/"
        },
        "id": "PWA-CFWTPDK7",
        "outputId": "eebe264c-6c4e-4104-abff-008494e92acb"
      },
      "execution_count": null,
      "outputs": [
        {
          "output_type": "execute_result",
          "data": {
            "text/plain": [
              "1205"
            ]
          },
          "metadata": {},
          "execution_count": 37
        }
      ]
    },
    {
      "cell_type": "code",
      "source": [
        "len(allTrainImages)"
      ],
      "metadata": {
        "colab": {
          "base_uri": "https://localhost:8080/"
        },
        "id": "KUM51bzPPFdi",
        "outputId": "a9cfebf0-2c1d-4d26-fcb2-5d36e83a2d53"
      },
      "execution_count": null,
      "outputs": [
        {
          "output_type": "execute_result",
          "data": {
            "text/plain": [
              "1205"
            ]
          },
          "metadata": {},
          "execution_count": 38
        }
      ]
    },
    {
      "cell_type": "code",
      "execution_count": null,
      "metadata": {
        "id": "Dfk7P-db9KMk"
      },
      "outputs": [],
      "source": [
        "idx = 0\n",
        "while idx < len(allHoldLabels): \n",
        "  f = open(allHoldLabels[idx])\n",
        "  data = json.load(f)\n",
        "  if len(data['features']['lng_lat']) == 0: \n",
        "    allHoldLabels = np.delete(allHoldLabels, idx)\n",
        "    allHoldImages = np.delete(allHoldImages, idx)\n",
        "  else:\n",
        "    idx += 1\n",
        "  \n",
        "\n",
        "\n"
      ]
    },
    {
      "cell_type": "code",
      "execution_count": null,
      "metadata": {
        "id": "aw_JZGZl88PE"
      },
      "outputs": [],
      "source": [
        "idx = 0\n",
        "while idx < len(allTestLabels): \n",
        "  f = open(allTestLabels[idx])\n",
        "  data = json.load(f)\n",
        "  if len(data['features']['lng_lat']) == 0: \n",
        "    allTestLabels = np.delete(allTestLabels, idx)\n",
        "    allTestImages = np.delete(allTestImages, idx)\n",
        "  else:\n",
        "    idx += 1\n",
        "  \n",
        "\n",
        "\n"
      ]
    },
    {
      "cell_type": "code",
      "execution_count": null,
      "metadata": {
        "id": "M0ssy3mw9_xw"
      },
      "outputs": [],
      "source": [
        "idx = 0\n",
        "yTrain = []\n",
        "xTrain = []\n",
        "while idx < len(allTrainLabels):\n",
        "  f = open(allTrainLabels[idx])\n",
        "  data = json.load(f)\n",
        "  if data['features']['lng_lat'][0]['properties']['subtype'] != 'un-classified':\n",
        "    yTrain.append(data['features']['lng_lat'][0]['properties']['subtype'])\n",
        "    xTrain.append(allTrainImages[idx])\n",
        "  idx += 1\n",
        "yTrain = np.array(yTrain)\n",
        "xTrain = np.array(xTrain)"
      ]
    },
    {
      "cell_type": "code",
      "source": [
        "xTrain"
      ],
      "metadata": {
        "colab": {
          "base_uri": "https://localhost:8080/"
        },
        "id": "EN6pP9kvWi8F",
        "outputId": "b3f1aa2c-df7f-4189-cb18-9490f604c84f"
      },
      "execution_count": null,
      "outputs": [
        {
          "output_type": "execute_result",
          "data": {
            "text/plain": [
              "array(['/content/drive/MyDrive/ML/geotiffs/tier1/images/hurricane-florence_00000023_post_disaster.tif',\n",
              "       '/content/drive/MyDrive/ML/geotiffs/tier1/images/hurricane-florence_00000473_post_disaster.tif',\n",
              "       '/content/drive/MyDrive/ML/geotiffs/tier1/images/hurricane-florence_00000390_post_disaster.tif',\n",
              "       ...,\n",
              "       '/content/drive/MyDrive/ML/geotiffs/tier1/images/hurricane-michael_00000326_post_disaster.tif',\n",
              "       '/content/drive/MyDrive/ML/geotiffs/tier1/images/hurricane-michael_00000208_post_disaster.tif',\n",
              "       '/content/drive/MyDrive/ML/geotiffs/tier1/images/hurricane-michael_00000440_post_disaster.tif'],\n",
              "      dtype='<U97')"
            ]
          },
          "metadata": {},
          "execution_count": 41
        }
      ]
    },
    {
      "cell_type": "code",
      "source": [
        "xTrain"
      ],
      "metadata": {
        "colab": {
          "base_uri": "https://localhost:8080/"
        },
        "id": "nOBu5zzuWk3P",
        "outputId": "e0527caa-01f5-4865-c229-f604d70f554a"
      },
      "execution_count": null,
      "outputs": [
        {
          "output_type": "execute_result",
          "data": {
            "text/plain": [
              "array(['/content/drive/MyDrive/ML/geotiffs/tier1/images/hurricane-florence_00000023_post_disaster.tif',\n",
              "       '/content/drive/MyDrive/ML/geotiffs/tier1/images/hurricane-florence_00000473_post_disaster.tif',\n",
              "       '/content/drive/MyDrive/ML/geotiffs/tier1/images/hurricane-florence_00000390_post_disaster.tif',\n",
              "       ...,\n",
              "       '/content/drive/MyDrive/ML/geotiffs/tier1/images/hurricane-michael_00000326_post_disaster.tif',\n",
              "       '/content/drive/MyDrive/ML/geotiffs/tier1/images/hurricane-michael_00000208_post_disaster.tif',\n",
              "       '/content/drive/MyDrive/ML/geotiffs/tier1/images/hurricane-michael_00000440_post_disaster.tif'],\n",
              "      dtype='<U97')"
            ]
          },
          "metadata": {},
          "execution_count": 69
        }
      ]
    },
    {
      "cell_type": "code",
      "execution_count": null,
      "metadata": {
        "id": "OkWu-6Y7_O1O"
      },
      "outputs": [],
      "source": [
        "idx = 0\n",
        "yHold = []\n",
        "xHold = []\n",
        "while idx < len(allHoldLabels):\n",
        "  f = open(allHoldLabels[idx])\n",
        "  data = json.load(f)\n",
        "  if data['features']['lng_lat'][0]['properties']['subtype'] != 'un-classified':\n",
        "    yHold.append(data['features']['lng_lat'][0]['properties']['subtype'])\n",
        "    xHold.append(allHoldImages[idx])\n",
        "  idx += 1\n",
        "yHold = np.array(yHold)\n",
        "xHold = np.array(xHold)"
      ]
    },
    {
      "cell_type": "code",
      "execution_count": null,
      "metadata": {
        "id": "xKdo01Sz_Xk8"
      },
      "outputs": [],
      "source": [
        "idx = 0\n",
        "yTest = []\n",
        "xTest = []\n",
        "while idx < len(allTestLabels):\n",
        "  f = open(allTestLabels[idx])\n",
        "  data = json.load(f)\n",
        "  if data['features']['lng_lat'][0]['properties']['subtype'] != 'un-classified':\n",
        "    yTest.append(data['features']['lng_lat'][0]['properties']['subtype'])\n",
        "    xTest.append(allTestImages[idx])\n",
        "  idx += 1\n",
        "yTest = np.array(yTest)\n",
        "xTest = np.array(xTest)"
      ]
    },
    {
      "cell_type": "code",
      "execution_count": null,
      "metadata": {
        "id": "iRGiMV6KAP5r"
      },
      "outputs": [],
      "source": [
        "newXTest = []\n",
        "newYTest = []\n",
        "count = 0\n",
        "idx = 0\n",
        "while idx < len(xTest): \n",
        "  elem = xTest[idx]\n",
        "  try:\n",
        "    img = io.imread(elem)\n",
        "    img = np.array(img)\n",
        "    data = img\n",
        "    normalizedData = (data-np.min(data))/(np.max(data)-np.min(data))\n",
        "    normalizedData = normalizedData*2\n",
        "    normalizedData = normalizedData - 1\n",
        "    newXTest.append(normalizedData)\n",
        "    newYTest.append(yTest[idx])\n",
        "  except OSError as e:\n",
        "    count += 1\n",
        "  idx += 1\n",
        "  \n",
        "\n",
        "\n",
        "\n",
        "newXTest = np.array(newXTest)\n",
        "newYTest = np.array(newYTest)"
      ]
    },
    {
      "cell_type": "code",
      "execution_count": null,
      "metadata": {
        "id": "jbB6y8iHBUXx"
      },
      "outputs": [],
      "source": [
        "newXTrain = []\n",
        "newYTrain = []\n",
        "count = 0\n",
        "idx = 0\n",
        "while idx < len(xTrain): \n",
        "  elem = xTrain[idx]\n",
        "  try:\n",
        "    img = io.imread(elem)\n",
        "    img = np.array(img)\n",
        "    data = img\n",
        "    normalizedData = (data-np.min(data))/(np.max(data)-np.min(data))\n",
        "    normalizedData = normalizedData*2\n",
        "    normalizedData = normalizedData - 1\n",
        "    newXTrain.append(normalizedData)\n",
        "    newYTrain.append(yTrain[idx])\n",
        "  except OSError as e:\n",
        "    count += 1\n",
        "  idx += 1\n",
        "  \n",
        "\n",
        "\n",
        "\n",
        "newXTrain = np.array(newXTrain)\n",
        "newYTrain = np.array(newYTrain)"
      ]
    },
    {
      "cell_type": "code",
      "execution_count": null,
      "metadata": {
        "id": "QYbDv0IJQzS0"
      },
      "outputs": [],
      "source": [
        "newXHold = []\n",
        "newYHold = []\n",
        "count = 0\n",
        "idx = 0\n",
        "while idx < len(xHold): \n",
        "  elem = xHold[idx]\n",
        "  try:\n",
        "    img = io.imread(elem)\n",
        "    img = np.array(img)\n",
        "    data = img\n",
        "    normalizedData = (data-np.min(data))/(np.max(data)-np.min(data))\n",
        "    normalizedData = normalizedData*2\n",
        "    normalizedData = normalizedData - 1\n",
        "    newXHold.append(normalizedData)\n",
        "    newYHold.append(yHold[idx])\n",
        "  except OSError as e:\n",
        "    count += 1\n",
        "  idx += 1\n",
        "  \n",
        "\n",
        "\n",
        "\n",
        "newXHold= np.array(newXHold)\n",
        "newYHold = np.array(newYHold)"
      ]
    },
    {
      "cell_type": "code",
      "source": [],
      "metadata": {
        "colab": {
          "base_uri": "https://localhost:8080/"
        },
        "id": "_AHMuqLGvVxq",
        "outputId": "34b551c1-14a2-413c-d182-8c0d5896161b"
      },
      "execution_count": null,
      "outputs": [
        {
          "output_type": "execute_result",
          "data": {
            "text/plain": [
              "[2, 2]"
            ]
          },
          "metadata": {},
          "execution_count": 103
        }
      ]
    },
    {
      "cell_type": "code",
      "source": [
        "yTrain"
      ],
      "metadata": {
        "colab": {
          "base_uri": "https://localhost:8080/"
        },
        "id": "f9pz1tLUmBbO",
        "outputId": "b0b85ebe-4bed-4e57-a4db-c383f0650e0a"
      },
      "execution_count": null,
      "outputs": [
        {
          "output_type": "execute_result",
          "data": {
            "text/plain": [
              "array(['no-damage', 'major-damage', 'major-damage', ..., 'no-damage',\n",
              "       'no-damage', 'no-damage'], dtype='<U12')"
            ]
          },
          "metadata": {},
          "execution_count": 42
        }
      ]
    },
    {
      "cell_type": "code",
      "source": [
        "import torch\n",
        "import torch.nn as nn\n",
        "import torch.optim as optim\n",
        "from torch.utils.data import DataLoader\n",
        "from torchvision import datasets, transforms\n",
        "import os\n",
        "import matplotlib.pyplot as plt\n",
        "from sklearn.model_selection import train_test_split\n",
        "import shutil"
      ],
      "metadata": {
        "id": "5KOx_1ylmaCo"
      },
      "execution_count": null,
      "outputs": []
    },
    {
      "cell_type": "code",
      "source": [
        "newXTrain.shape"
      ],
      "metadata": {
        "colab": {
          "base_uri": "https://localhost:8080/"
        },
        "id": "_hlbp_vGm4V5",
        "outputId": "cd3f4ba9-b1db-4231-ea62-976cfe809755"
      },
      "execution_count": null,
      "outputs": [
        {
          "output_type": "execute_result",
          "data": {
            "text/plain": [
              "(1110, 1024, 1024, 3)"
            ]
          },
          "metadata": {},
          "execution_count": 42
        }
      ]
    },
    {
      "cell_type": "code",
      "source": [
        "newYTrain.shape"
      ],
      "metadata": {
        "colab": {
          "base_uri": "https://localhost:8080/"
        },
        "id": "vQK-p6XOnAoF",
        "outputId": "c355e794-3032-4174-db91-a9151b16a5e4"
      },
      "execution_count": null,
      "outputs": [
        {
          "output_type": "execute_result",
          "data": {
            "text/plain": [
              "(1110,)"
            ]
          },
          "metadata": {},
          "execution_count": 43
        }
      ]
    },
    {
      "cell_type": "code",
      "source": [
        "np.unique(newYTrain)"
      ],
      "metadata": {
        "colab": {
          "base_uri": "https://localhost:8080/"
        },
        "id": "yScBTzeEnJHI",
        "outputId": "6cc75039-c271-42a4-be52-346ae1f6cdb4"
      },
      "execution_count": null,
      "outputs": [
        {
          "output_type": "execute_result",
          "data": {
            "text/plain": [
              "array(['destroyed', 'major-damage', 'minor-damage', 'no-damage'],\n",
              "      dtype='<U12')"
            ]
          },
          "metadata": {},
          "execution_count": 44
        }
      ]
    },
    {
      "cell_type": "code",
      "source": [
        "import torch\n",
        "from torch import nn\n",
        "\n",
        "class MyModel(nn.Module):\n",
        "    def __init__(self):\n",
        "        super(MyModel, self).__init__()\n",
        "        self.model = nn.Sequential(\n",
        "            nn.Conv2d(3, 32, kernel_size=(3, 3), stride=(1, 1), padding=(1, 1)),\n",
        "            nn.ReLU(),\n",
        "            nn.MaxPool2d(kernel_size=(2, 2), stride=(2, 2), padding=0),\n",
        "            nn.Conv2d(32, 64, kernel_size=(3, 3), stride=(1, 1), padding=(1, 1)),\n",
        "            nn.ReLU(),\n",
        "            nn.MaxPool2d(kernel_size=(2, 2), stride=(2, 2), padding=0),\n",
        "            nn.Conv2d(64, 128, kernel_size=(3, 3), stride=(1, 1), padding=(1, 1)),\n",
        "            nn.ReLU(),\n",
        "            nn.MaxPool2d(kernel_size=(2, 2), stride=(2, 2), padding=0),\n",
        "            nn.Conv2d(128, 128, kernel_size=(3, 3), stride=(1, 1), padding=(1, 1)),\n",
        "            nn.ReLU(),\n",
        "            nn.MaxPool2d(kernel_size=(2, 2), stride=(2, 2), padding=0),\n",
        "            nn.Flatten(),\n",
        "            nn.Linear(128 * 9 * 9, 512),\n",
        "            nn.ReLU(),\n",
        "            nn.Linear(512, 1),\n",
        "            nn.Sigmoid()\n",
        "        )\n",
        "\n",
        "    def forward(self, x):\n",
        "        return self.model(x)\n",
        "\n",
        "model = MyModel()"
      ],
      "metadata": {
        "id": "Fj8RppX9nRaq"
      },
      "execution_count": null,
      "outputs": []
    },
    {
      "cell_type": "code",
      "source": [
        "# Set the loss function and optimizer\n",
        "criterion = nn.BCELoss()\n",
        "optimizer = optim.RMSprop(model.parameters(), lr=1e-4)\n",
        "\n",
        "import os\n",
        "from torch.utils.data import DataLoader\n",
        "from torchvision import datasets, transforms\n",
        "\n",
        "# Data preprocessing and normalization\n",
        "data_transforms = transforms.Compose([\n",
        "    transforms.Resize((150, 150)),\n",
        "    transforms.ToTensor(),\n",
        "    transforms.Normalize([0.5, 0.5, 0.5], [0.5, 0.5, 0.5])\n",
        "])\n"
      ],
      "metadata": {
        "id": "e_GmNaBpnSge"
      },
      "execution_count": null,
      "outputs": []
    },
    {
      "cell_type": "code",
      "source": [
        "\n",
        "\n",
        "num_epochs = 10\n",
        "device = torch.device('cuda' if torch.cuda.is_available() else 'cpu')\n",
        "model = model.to(device)\n",
        "\n",
        "train_acc_values = []\n",
        "val_acc_values = []\n",
        "train_loss_values = []\n",
        "val_loss_values = []\n"
      ],
      "metadata": {
        "id": "lGumE_Qinccb"
      },
      "execution_count": null,
      "outputs": []
    },
    {
      "cell_type": "code",
      "source": [
        "newYTrain[newYTrain == 'no-damage'] = 0"
      ],
      "metadata": {
        "id": "WFQi0WPbssMB"
      },
      "execution_count": null,
      "outputs": []
    },
    {
      "cell_type": "code",
      "source": [
        "newYTrain[newYTrain == 'minor-damage'] = 1\n",
        "newYTrain[newYTrain == 'major-damage'] = 2\n",
        "newYTrain[newYTrain == 'destroyed'] = 3"
      ],
      "metadata": {
        "id": "Wzx2zi_0tA3j"
      },
      "execution_count": null,
      "outputs": []
    },
    {
      "cell_type": "code",
      "source": [
        "newYTrain[newYTrain == '0'] = int(0)"
      ],
      "metadata": {
        "id": "7gLzhcMytGMv"
      },
      "execution_count": null,
      "outputs": []
    },
    {
      "cell_type": "code",
      "source": [
        "np.array([1,2,3,4])"
      ],
      "metadata": {
        "colab": {
          "base_uri": "https://localhost:8080/"
        },
        "id": "5gI3LvzBtouk",
        "outputId": "aa2fcf54-acf3-40af-d07c-67c88b4cb4cd"
      },
      "execution_count": null,
      "outputs": [
        {
          "output_type": "execute_result",
          "data": {
            "text/plain": [
              "array([1, 2, 3, 4])"
            ]
          },
          "metadata": {},
          "execution_count": 89
        }
      ]
    },
    {
      "cell_type": "code",
      "source": [
        "newXTrain"
      ],
      "metadata": {
        "colab": {
          "base_uri": "https://localhost:8080/"
        },
        "id": "ozGv0dhdt3zR",
        "outputId": "328a32dc-9903-4533-e3f3-dc6976e2a41f"
      },
      "execution_count": null,
      "outputs": [
        {
          "output_type": "execute_result",
          "data": {
            "text/plain": [
              "array(['0', '2', '2', ..., '0', '0', '0'], dtype='<U12')"
            ]
          },
          "metadata": {},
          "execution_count": 90
        }
      ]
    },
    {
      "cell_type": "code",
      "source": [
        "yTrain = []\n",
        "for elem in newYTrain: \n",
        "  yTrain.append(int(elem))\n",
        "\n",
        "yTrain = np.array(yTrain)\n",
        "yTrain\n"
      ],
      "metadata": {
        "colab": {
          "base_uri": "https://localhost:8080/"
        },
        "id": "0w72ELjLt9tb",
        "outputId": "29386959-37fb-4066-f5cc-d10e20f725c2"
      },
      "execution_count": null,
      "outputs": [
        {
          "output_type": "execute_result",
          "data": {
            "text/plain": [
              "array([0, 2, 2, ..., 0, 0, 0])"
            ]
          },
          "metadata": {},
          "execution_count": 29
        }
      ]
    },
    {
      "cell_type": "code",
      "source": [
        "train_data = []\n",
        "xTrain\n",
        "for i in range(len(newXTrain)):\n",
        "   train_data.append([newXTrain[i], yTrain[i]])"
      ],
      "metadata": {
        "id": "KhNDV5PcqZoZ"
      },
      "execution_count": null,
      "outputs": []
    },
    {
      "cell_type": "code",
      "source": [],
      "metadata": {
        "id": "uItfXFQItiDX"
      },
      "execution_count": null,
      "outputs": []
    },
    {
      "cell_type": "code",
      "source": [
        "newYHold[newYHold == 'no-damage'] = 0\n",
        "newYHold[newYHold == 'minor-damage'] = 1\n",
        "newYHold[newYHold == 'major-damage'] = 2\n",
        "newYHold[newYHold == 'destroyed'] = 3"
      ],
      "metadata": {
        "id": "t_GgqU4QtIeF"
      },
      "execution_count": null,
      "outputs": []
    },
    {
      "cell_type": "code",
      "source": [
        "newYHold"
      ],
      "metadata": {
        "colab": {
          "base_uri": "https://localhost:8080/"
        },
        "id": "dDG3_5TKu31S",
        "outputId": "1036a08a-730c-4ed4-f688-08cce7d96dce"
      },
      "execution_count": null,
      "outputs": [
        {
          "output_type": "execute_result",
          "data": {
            "text/plain": [
              "array(['2', '2', '0', '0', '0', '0', '0', '2', '2', '0', '2', '0', '0',\n",
              "       '0', '0', '0', '1', '0', '2', '0', '1', '0', '2', '2', '0', '2',\n",
              "       '2', '2', '0', '0', '2', '0', '0', '2', '2', '2', '0', '0', '0',\n",
              "       '2', '0', '0', '0', '2', '0', '0', '0', '1', '0', '0', '0', '2',\n",
              "       '0', '0', '2', '0', '0', '0', '0', '0', '0', '0', '2', '2', '0',\n",
              "       '2', '2', '0', '2', '2', '2', '2', '0', '0', '0', '0', '2', '0',\n",
              "       '2', '0', '0', '2', '2', '0', '0', '0', '0', '2', '0', '2', '0',\n",
              "       '3', '2', '2', '0', '2', '2', '0', '2', '2', '0', '2', '0', '0',\n",
              "       '1', '0', '0', '0', '2', '0', '1', '2', '3', '0', '0', '0', '2',\n",
              "       '2', '0', '0', '0', '2', '2', '1', '0', '0', '2', '0', '3', '2',\n",
              "       '0', '2', '2', '0', '2', '0', '2', '0', '2', '0', '3', '0', '2',\n",
              "       '2', '2', '0', '1', '2', '0', '0', '0', '1', '0', '2', '0', '0',\n",
              "       '2', '2', '0', '0', '2', '1', '2', '2', '0', '0', '0', '0', '3',\n",
              "       '2', '2', '1', '0', '3', '2', '0', '0', '1', '0', '2', '0', '2',\n",
              "       '1', '1', '0', '2', '3', '2', '2', '3', '0', '0', '1', '2', '1',\n",
              "       '1', '3', '3', '3', '1', '2', '0', '2', '1', '3', '2', '1', '2',\n",
              "       '0', '3', '3', '1', '3', '2', '3', '3', '0', '1', '3', '3', '2',\n",
              "       '2', '1', '3', '2', '3', '1', '0', '1', '1', '3', '1', '3', '3',\n",
              "       '2', '3', '3', '1', '1', '2', '3', '3', '1', '1', '1', '1', '1',\n",
              "       '1', '1', '0', '0', '3', '1', '1', '0', '2', '2', '1', '2', '0',\n",
              "       '1', '1', '0', '3', '2', '3', '0', '2', '1', '2', '1', '1', '2',\n",
              "       '0', '0', '0', '2', '0', '0', '1', '0', '0', '2', '0', '1', '0',\n",
              "       '2', '0', '1', '0', '0', '1', '1', '3', '1', '0', '1', '1', '2',\n",
              "       '1', '1', '0', '0', '0', '2', '1', '0', '2', '1', '0', '2', '0',\n",
              "       '0', '2', '3', '1', '1', '1', '1', '1', '0', '0', '0', '0', '0',\n",
              "       '0', '0', '1', '0', '0', '1', '0', '0', '0', '0', '2', '1', '0',\n",
              "       '1', '0', '3', '0', '0', '2', '0', '0', '0', '0', '1', '0', '0',\n",
              "       '0', '2', '0', '1', '0', '2', '0', '0', '0', '1', '0', '0', '0',\n",
              "       '0', '0', '0', '0', '1', '2', '1', '2', '1', '1', '1'],\n",
              "      dtype='<U12')"
            ]
          },
          "metadata": {},
          "execution_count": 37
        }
      ]
    },
    {
      "cell_type": "code",
      "source": [
        "yHold = []\n",
        "for elem in newYHold: \n",
        "  yHold.append(int(elem))\n",
        "\n",
        "yHold = np.array(yHold)\n",
        "yHold\n"
      ],
      "metadata": {
        "colab": {
          "base_uri": "https://localhost:8080/"
        },
        "id": "U23T7ST5utqv",
        "outputId": "b8f26469-69ba-4ad3-82d7-139d839b7a1d"
      },
      "execution_count": null,
      "outputs": [
        {
          "output_type": "execute_result",
          "data": {
            "text/plain": [
              "array([2, 2, 0, 0, 0, 0, 0, 2, 2, 0, 2, 0, 0, 0, 0, 0, 1, 0, 2, 0, 1, 0,\n",
              "       2, 2, 0, 2, 2, 2, 0, 0, 2, 0, 0, 2, 2, 2, 0, 0, 0, 2, 0, 0, 0, 2,\n",
              "       0, 0, 0, 1, 0, 0, 0, 2, 0, 0, 2, 0, 0, 0, 0, 0, 0, 0, 2, 2, 0, 2,\n",
              "       2, 0, 2, 2, 2, 2, 0, 0, 0, 0, 2, 0, 2, 0, 0, 2, 2, 0, 0, 0, 0, 2,\n",
              "       0, 2, 0, 3, 2, 2, 0, 2, 2, 0, 2, 2, 0, 2, 0, 0, 1, 0, 0, 0, 2, 0,\n",
              "       1, 2, 3, 0, 0, 0, 2, 2, 0, 0, 0, 2, 2, 1, 0, 0, 2, 0, 3, 2, 0, 2,\n",
              "       2, 0, 2, 0, 2, 0, 2, 0, 3, 0, 2, 2, 2, 0, 1, 2, 0, 0, 0, 1, 0, 2,\n",
              "       0, 0, 2, 2, 0, 0, 2, 1, 2, 2, 0, 0, 0, 0, 3, 2, 2, 1, 0, 3, 2, 0,\n",
              "       0, 1, 0, 2, 0, 2, 1, 1, 0, 2, 3, 2, 2, 3, 0, 0, 1, 2, 1, 1, 3, 3,\n",
              "       3, 1, 2, 0, 2, 1, 3, 2, 1, 2, 0, 3, 3, 1, 3, 2, 3, 3, 0, 1, 3, 3,\n",
              "       2, 2, 1, 3, 2, 3, 1, 0, 1, 1, 3, 1, 3, 3, 2, 3, 3, 1, 1, 2, 3, 3,\n",
              "       1, 1, 1, 1, 1, 1, 1, 0, 0, 3, 1, 1, 0, 2, 2, 1, 2, 0, 1, 1, 0, 3,\n",
              "       2, 3, 0, 2, 1, 2, 1, 1, 2, 0, 0, 0, 2, 0, 0, 1, 0, 0, 2, 0, 1, 0,\n",
              "       2, 0, 1, 0, 0, 1, 1, 3, 1, 0, 1, 1, 2, 1, 1, 0, 0, 0, 2, 1, 0, 2,\n",
              "       1, 0, 2, 0, 0, 2, 3, 1, 1, 1, 1, 1, 0, 0, 0, 0, 0, 0, 0, 1, 0, 0,\n",
              "       1, 0, 0, 0, 0, 2, 1, 0, 1, 0, 3, 0, 0, 2, 0, 0, 0, 0, 1, 0, 0, 0,\n",
              "       2, 0, 1, 0, 2, 0, 0, 0, 1, 0, 0, 0, 0, 0, 0, 0, 1, 2, 1, 2, 1, 1,\n",
              "       1])"
            ]
          },
          "metadata": {},
          "execution_count": 45
        }
      ]
    },
    {
      "cell_type": "code",
      "source": [
        "val_data = []\n",
        "for i in range(len(newXHold)):\n",
        "   train_data.append([newXHold[i], yHold[i]])"
      ],
      "metadata": {
        "id": "ORoGaY_VqhKg"
      },
      "execution_count": null,
      "outputs": []
    },
    {
      "cell_type": "code",
      "source": [
        "\n",
        "# Create data loaders\n",
        "train_data   = torch.utils.data.TensorDataset(torch.tensor(newXTrain).to(device), torch.tensor(yTrain).to(device))\n",
        "train_loader = DataLoader(train_data, batch_size=20, shuffle=True, num_workers=4)\n",
        "validation_loader = DataLoader(val_data, batch_size=20, shuffle=False, num_workers=4)\n",
        "\n",
        "# Training loop\n",
        "num_epochs = 10\n",
        "device = torch.device('cuda' if torch.cuda.is_available() else 'cpu')\n",
        "model = model.to(device)\n",
        "\n",
        "train_acc_values = []\n",
        "val_acc_values = []\n",
        "train_loss_values = []\n",
        "val_loss_values = []"
      ],
      "metadata": {
        "id": "j044tj56qpHs"
      },
      "execution_count": null,
      "outputs": []
    },
    {
      "cell_type": "code",
      "source": [
        "train_loader"
      ],
      "metadata": {
        "colab": {
          "base_uri": "https://localhost:8080/"
        },
        "id": "Tz2Btj2Xtf1H",
        "outputId": "4d749f36-3d73-4ad0-c18a-edfcd67dba03"
      },
      "execution_count": null,
      "outputs": [
        {
          "output_type": "execute_result",
          "data": {
            "text/plain": [
              "<torch.utils.data.dataloader.DataLoader at 0x7fb519619bb0>"
            ]
          },
          "metadata": {},
          "execution_count": 84
        }
      ]
    },
    {
      "cell_type": "code",
      "source": [
        "type(newXTrain[0][0][0][0])"
      ],
      "metadata": {
        "colab": {
          "base_uri": "https://localhost:8080/"
        },
        "id": "3YNBJ9Q6wL73",
        "outputId": "cdb44dea-0b25-48ae-d88b-75859811616a"
      },
      "execution_count": null,
      "outputs": [
        {
          "output_type": "execute_result",
          "data": {
            "text/plain": [
              "numpy.float64"
            ]
          },
          "metadata": {},
          "execution_count": 116
        }
      ]
    },
    {
      "cell_type": "code",
      "source": [
        "newXTest"
      ],
      "metadata": {
        "colab": {
          "base_uri": "https://localhost:8080/"
        },
        "id": "4s6Rqilb5XY_",
        "outputId": "a9a48145-6186-438a-af39-764700e52779"
      },
      "execution_count": null,
      "outputs": [
        {
          "output_type": "execute_result",
          "data": {
            "text/plain": [
              "array([[[[-0.58893281, -0.43083004, -0.68379447],\n",
              "         [-0.66007905, -0.53359684, -0.73913043],\n",
              "         [-0.67588933, -0.54940711, -0.75494071],\n",
              "         ...,\n",
              "         [-0.63636364, -0.50988142, -0.66798419],\n",
              "         [-0.66798419, -0.54940711, -0.69960474],\n",
              "         [-0.6284585 , -0.50197628, -0.66007905]],\n",
              "\n",
              "        [[-0.65217391, -0.5256917 , -0.7312253 ],\n",
              "         [-0.63636364, -0.50988142, -0.72332016],\n",
              "         [-0.60474308, -0.47035573, -0.69960474],\n",
              "         ...,\n",
              "         [-0.63636364, -0.50988142, -0.66798419],\n",
              "         [-0.66798419, -0.54940711, -0.69960474],\n",
              "         [-0.64426877, -0.51778656, -0.67588933]],\n",
              "\n",
              "        [[-0.6916996 , -0.57312253, -0.76284585],\n",
              "         [-0.63636364, -0.51778656, -0.7312253 ],\n",
              "         [-0.59683794, -0.47826087, -0.69960474],\n",
              "         ...,\n",
              "         [-0.66007905, -0.54150198, -0.6916996 ],\n",
              "         [-0.57312253, -0.43083004, -0.61264822],\n",
              "         [-0.58102767, -0.43873518, -0.62055336]],\n",
              "\n",
              "        ...,\n",
              "\n",
              "        [[-0.6916996 , -0.47035573, -0.70750988],\n",
              "         [-0.7944664 , -0.63636364, -0.80237154],\n",
              "         [-0.88932806, -0.77865613, -0.88932806],\n",
              "         ...,\n",
              "         [-0.83399209, -0.65217391, -0.84189723],\n",
              "         [-0.81818182, -0.63636364, -0.83399209],\n",
              "         [-0.81027668, -0.6284585 , -0.82608696]],\n",
              "\n",
              "        [[-0.68379447, -0.46245059, -0.70750988],\n",
              "         [-0.7944664 , -0.63636364, -0.80237154],\n",
              "         [-0.88932806, -0.77865613, -0.88932806],\n",
              "         ...,\n",
              "         [-0.84980237, -0.68379447, -0.85770751],\n",
              "         [-0.77075099, -0.55731225, -0.78656126],\n",
              "         [-0.74703557, -0.5256917 , -0.77075099]],\n",
              "\n",
              "        [[-0.68379447, -0.46245059, -0.70750988],\n",
              "         [-0.78656126, -0.61264822, -0.7944664 ],\n",
              "         [-0.86561265, -0.73913043, -0.86561265],\n",
              "         ...,\n",
              "         [-0.81818182, -0.6284585 , -0.83399209],\n",
              "         [-0.75494071, -0.51778656, -0.77075099],\n",
              "         [-0.76284585, -0.54150198, -0.77865613]]],\n",
              "\n",
              "\n",
              "       [[[-0.0483871 , -0.00806452, -0.25806452],\n",
              "         [-0.10483871, -0.05645161, -0.31451613],\n",
              "         [-0.11290323, -0.06451613, -0.30645161],\n",
              "         ...,\n",
              "         [-0.68548387, -0.59677419, -0.66935484],\n",
              "         [-0.66129032, -0.58064516, -0.65322581],\n",
              "         [-0.61290323, -0.52419355, -0.59677419]],\n",
              "\n",
              "        [[-0.08064516, -0.04032258, -0.28225806],\n",
              "         [-0.12096774, -0.06451613, -0.30645161],\n",
              "         [-0.12903226, -0.07258065, -0.30645161],\n",
              "         ...,\n",
              "         [-0.62096774, -0.51612903, -0.60483871],\n",
              "         [-0.65322581, -0.56451613, -0.64516129],\n",
              "         [-0.66129032, -0.58064516, -0.65322581]],\n",
              "\n",
              "        [[-0.01612903,  0.03225806, -0.19354839],\n",
              "         [-0.12096774, -0.06451613, -0.30645161],\n",
              "         [-0.12903226, -0.07258065, -0.30645161],\n",
              "         ...,\n",
              "         [-0.60483871, -0.5       , -0.59677419],\n",
              "         [-0.61290323, -0.51612903, -0.60483871],\n",
              "         [-0.69354839, -0.61290323, -0.69354839]],\n",
              "\n",
              "        ...,\n",
              "\n",
              "        [[-0.50806452, -0.4516129 , -0.66935484],\n",
              "         [-0.44354839, -0.38709677, -0.62903226],\n",
              "         [-0.41129032, -0.34677419, -0.59677419],\n",
              "         ...,\n",
              "         [-0.64516129, -0.52419355, -0.76612903],\n",
              "         [-0.61290323, -0.47580645, -0.73387097],\n",
              "         [-0.57258065, -0.43548387, -0.70967742]],\n",
              "\n",
              "        [[-0.42741935, -0.36290323, -0.61290323],\n",
              "         [-0.36290323, -0.29032258, -0.55645161],\n",
              "         [-0.41129032, -0.33870968, -0.59677419],\n",
              "         ...,\n",
              "         [-0.65322581, -0.53225806, -0.77419355],\n",
              "         [-0.55645161, -0.40322581, -0.68548387],\n",
              "         [-0.57258065, -0.43548387, -0.70967742]],\n",
              "\n",
              "        [[-0.44354839, -0.37096774, -0.62096774],\n",
              "         [-0.41935484, -0.34677419, -0.60483871],\n",
              "         [-0.40322581, -0.33064516, -0.58870968],\n",
              "         ...,\n",
              "         [-0.65322581, -0.53225806, -0.77419355],\n",
              "         [-0.55645161, -0.40322581, -0.68548387],\n",
              "         [-0.51612903, -0.35483871, -0.65322581]]],\n",
              "\n",
              "\n",
              "       [[[-0.6846473 , -0.51037344, -0.75103734],\n",
              "         [-0.70954357, -0.54356846, -0.77593361],\n",
              "         [-0.63485477, -0.4439834 , -0.70954357],\n",
              "         ...,\n",
              "         [-0.70124481, -0.56846473, -0.66804979],\n",
              "         [-0.75103734, -0.64315353, -0.73443983],\n",
              "         [-0.74273859, -0.63485477, -0.71784232]],\n",
              "\n",
              "        [[-0.71784232, -0.55186722, -0.76763485],\n",
              "         [-0.70954357, -0.56016598, -0.77593361],\n",
              "         [-0.70954357, -0.56846473, -0.77593361],\n",
              "         ...,\n",
              "         [-0.71784232, -0.593361  , -0.69294606],\n",
              "         [-0.79253112, -0.70124481, -0.78423237],\n",
              "         [-0.70954357, -0.58506224, -0.67634855]],\n",
              "\n",
              "        [[-0.65975104, -0.48547718, -0.70124481],\n",
              "         [-0.70954357, -0.56846473, -0.76763485],\n",
              "         [-0.80912863, -0.70954357, -0.85892116],\n",
              "         ...,\n",
              "         [-0.73443983, -0.60995851, -0.70124481],\n",
              "         [-0.70124481, -0.57676349, -0.67634855],\n",
              "         [-0.6846473 , -0.54356846, -0.64315353]],\n",
              "\n",
              "        ...,\n",
              "\n",
              "        [[-0.77593361, -0.63485477, -0.81742739],\n",
              "         [-0.70954357, -0.52697095, -0.7593361 ],\n",
              "         [-0.62655602, -0.39419087, -0.67634855],\n",
              "         ...,\n",
              "         [-0.61825726, -0.4439834 , -0.72614108],\n",
              "         [-0.6846473 , -0.54356846, -0.77593361],\n",
              "         [-0.73443983, -0.60995851, -0.81742739]],\n",
              "\n",
              "        [[-0.70954357, -0.54356846, -0.7593361 ],\n",
              "         [-0.70954357, -0.53526971, -0.7593361 ],\n",
              "         [-0.64315353, -0.41908714, -0.6846473 ],\n",
              "         ...,\n",
              "         [-0.62655602, -0.45228216, -0.72614108],\n",
              "         [-0.67634855, -0.52697095, -0.77593361],\n",
              "         [-0.74273859, -0.60165975, -0.81742739]],\n",
              "\n",
              "        [[-0.66804979, -0.48547718, -0.71784232],\n",
              "         [-0.72614108, -0.56016598, -0.76763485],\n",
              "         [-0.65145228, -0.42738589, -0.6846473 ],\n",
              "         ...,\n",
              "         [-0.593361  , -0.40248963, -0.70954357],\n",
              "         [-0.65975104, -0.50207469, -0.7593361 ],\n",
              "         [-0.70124481, -0.53526971, -0.77593361]]],\n",
              "\n",
              "\n",
              "       ...,\n",
              "\n",
              "\n",
              "       [[[ 0.504     ,  0.512     ,  0.424     ],\n",
              "         [ 0.328     ,  0.352     ,  0.264     ],\n",
              "         [ 0.232     ,  0.264     ,  0.176     ],\n",
              "         ...,\n",
              "         [-0.08      , -0.04      , -0.184     ],\n",
              "         [-0.104     , -0.064     , -0.208     ],\n",
              "         [-0.08      , -0.04      , -0.192     ]],\n",
              "\n",
              "        [[ 0.264     ,  0.312     ,  0.208     ],\n",
              "         [ 0.336     ,  0.368     ,  0.264     ],\n",
              "         [ 0.296     ,  0.328     ,  0.224     ],\n",
              "         ...,\n",
              "         [-0.024     ,  0.        , -0.128     ],\n",
              "         [-0.056     , -0.032     , -0.16      ],\n",
              "         [-0.056     , -0.032     , -0.168     ]],\n",
              "\n",
              "        [[ 0.312     ,  0.344     ,  0.224     ],\n",
              "         [ 0.312     ,  0.344     ,  0.224     ],\n",
              "         [ 0.296     ,  0.32      ,  0.2       ],\n",
              "         ...,\n",
              "         [-0.024     ,  0.        , -0.128     ],\n",
              "         [-0.056     , -0.032     , -0.16      ],\n",
              "         [-0.056     , -0.032     , -0.168     ]],\n",
              "\n",
              "        ...,\n",
              "\n",
              "        [[-0.224     , -0.128     , -0.192     ],\n",
              "         [-0.184     , -0.096     , -0.128     ],\n",
              "         [-0.12      , -0.04      , -0.048     ],\n",
              "         ...,\n",
              "         [ 0.576     ,  0.592     ,  0.552     ],\n",
              "         [ 0.776     ,  0.768     ,  0.736     ],\n",
              "         [ 0.92      ,  0.896     ,  0.856     ]],\n",
              "\n",
              "        [[-0.224     , -0.128     , -0.192     ],\n",
              "         [-0.184     , -0.096     , -0.128     ],\n",
              "         [-0.12      , -0.04      , -0.048     ],\n",
              "         ...,\n",
              "         [ 0.656     ,  0.672     ,  0.632     ],\n",
              "         [ 0.848     ,  0.84      ,  0.808     ],\n",
              "         [ 0.92      ,  0.896     ,  0.864     ]],\n",
              "\n",
              "        [[-0.224     , -0.128     , -0.168     ],\n",
              "         [-0.2       , -0.112     , -0.12      ],\n",
              "         [-0.152     , -0.072     , -0.056     ],\n",
              "         ...,\n",
              "         [ 0.92      ,  0.896     ,  0.872     ],\n",
              "         [ 0.96      ,  0.936     ,  0.912     ],\n",
              "         [ 0.944     ,  0.92      ,  0.896     ]]],\n",
              "\n",
              "\n",
              "       [[[-0.00398406, -0.01992032, -0.21912351],\n",
              "         [ 0.07569721,  0.05179283, -0.16334661],\n",
              "         [ 0.1314741 ,  0.09960159, -0.12350598],\n",
              "         ...,\n",
              "         [-0.24302789, -0.17131474, -0.42629482],\n",
              "         [-0.28286853, -0.21115538, -0.4501992 ],\n",
              "         [-0.25099602, -0.19521912, -0.43426295]],\n",
              "\n",
              "        [[ 0.01992032, -0.00398406, -0.21115538],\n",
              "         [-0.01992032, -0.02788845, -0.24302789],\n",
              "         [-0.0438247 , -0.05179283, -0.25896414],\n",
              "         ...,\n",
              "         [-0.24302789, -0.17131474, -0.42629482],\n",
              "         [-0.28286853, -0.21115538, -0.4501992 ],\n",
              "         [-0.25099602, -0.19521912, -0.43426295]],\n",
              "\n",
              "        [[-0.0438247 , -0.05179283, -0.25896414],\n",
              "         [-0.07569721, -0.07569721, -0.29083665],\n",
              "         [-0.12350598, -0.12350598, -0.32270916],\n",
              "         ...,\n",
              "         [-0.28286853, -0.20318725, -0.4501992 ],\n",
              "         [-0.25896414, -0.187251  , -0.43426295],\n",
              "         [-0.2749004 , -0.21115538, -0.45816733]],\n",
              "\n",
              "        ...,\n",
              "\n",
              "        [[-0.90438247, -0.80876494, -0.88844622],\n",
              "         [-0.92031873, -0.84860558, -0.9123506 ],\n",
              "         [-0.9123506 , -0.83266932, -0.90438247],\n",
              "         ...,\n",
              "         [-0.55378486, -0.49003984, -0.66533865],\n",
              "         [-0.41035857, -0.3625498 , -0.56972112],\n",
              "         [-0.49800797, -0.44223108, -0.62549801]],\n",
              "\n",
              "        [[-0.92828685, -0.86454183, -0.92031873],\n",
              "         [-0.9123506 , -0.84063745, -0.9123506 ],\n",
              "         [-0.9123506 , -0.83266932, -0.90438247],\n",
              "         ...,\n",
              "         [-0.46613546, -0.39442231, -0.60159363],\n",
              "         [-0.33067729, -0.2749004 , -0.49800797],\n",
              "         [-0.49003984, -0.42629482, -0.61752988]],\n",
              "\n",
              "        [[-0.90438247, -0.81673307, -0.89641434],\n",
              "         [-0.90438247, -0.81673307, -0.89641434],\n",
              "         [-0.92828685, -0.85657371, -0.92031873],\n",
              "         ...,\n",
              "         [-0.41035857, -0.35458167, -0.56175299],\n",
              "         [-0.30677291, -0.25099602, -0.48207171],\n",
              "         [-0.40239044, -0.33864542, -0.54581673]]],\n",
              "\n",
              "\n",
              "       [[[-1.        , -1.        , -1.        ],\n",
              "         [-1.        , -1.        , -1.        ],\n",
              "         [-1.        , -1.        , -1.        ],\n",
              "         ...,\n",
              "         [-1.        , -1.        , -1.        ],\n",
              "         [-1.        , -1.        , -1.        ],\n",
              "         [-1.        , -1.        , -1.        ]],\n",
              "\n",
              "        [[-1.        , -1.        , -1.        ],\n",
              "         [-1.        , -1.        , -1.        ],\n",
              "         [-1.        , -1.        , -1.        ],\n",
              "         ...,\n",
              "         [-1.        , -1.        , -1.        ],\n",
              "         [-1.        , -1.        , -1.        ],\n",
              "         [-1.        , -1.        , -1.        ]],\n",
              "\n",
              "        [[-1.        , -1.        , -1.        ],\n",
              "         [-1.        , -1.        , -1.        ],\n",
              "         [-1.        , -1.        , -1.        ],\n",
              "         ...,\n",
              "         [-1.        , -1.        , -1.        ],\n",
              "         [-1.        , -1.        , -1.        ],\n",
              "         [-1.        , -1.        , -1.        ]],\n",
              "\n",
              "        ...,\n",
              "\n",
              "        [[-0.0745098 , -0.0745098 , -0.23137255],\n",
              "         [ 0.15294118,  0.10588235, -0.0745098 ],\n",
              "         [ 0.14509804,  0.09803922, -0.08235294],\n",
              "         ...,\n",
              "         [ 0.16078431,  0.2       ,  0.06666667],\n",
              "         [ 0.16078431,  0.2       ,  0.06666667],\n",
              "         [ 0.17647059,  0.21568627,  0.08235294]],\n",
              "\n",
              "        [[ 0.01960784,  0.01960784, -0.14509804],\n",
              "         [ 0.11372549,  0.09019608, -0.0745098 ],\n",
              "         [ 0.09803922,  0.0745098 , -0.09019608],\n",
              "         ...,\n",
              "         [ 0.18431373,  0.21568627,  0.0745098 ],\n",
              "         [ 0.1372549 ,  0.16862745,  0.03529412],\n",
              "         [ 0.09803922,  0.1372549 ,  0.00392157]],\n",
              "\n",
              "        [[-0.01176471, -0.00392157, -0.14509804],\n",
              "         [-0.02745098, -0.01960784, -0.16862745],\n",
              "         [-0.0745098 , -0.06666667, -0.2       ],\n",
              "         ...,\n",
              "         [ 0.18431373,  0.21568627,  0.0745098 ],\n",
              "         [ 0.1372549 ,  0.16862745,  0.03529412],\n",
              "         [ 0.09803922,  0.1372549 ,  0.00392157]]]])"
            ]
          },
          "metadata": {},
          "execution_count": 66
        }
      ]
    },
    {
      "cell_type": "code",
      "source": [
        "newYTest[newYTest == 'no-damage'] = 0\n",
        "newYTest[newYTest == 'minor-damage'] = 1\n",
        "newYTest[newYTest == 'major-damage'] = 2\n",
        "newYTest[newYTest == 'destroyed'] = 3"
      ],
      "metadata": {
        "id": "a4JABX1Z5o5S"
      },
      "execution_count": null,
      "outputs": []
    },
    {
      "cell_type": "code",
      "source": [
        "allX = np.concatenate((newXTrain, newXHold, newXTest), axis=0)"
      ],
      "metadata": {
        "id": "pWFTp1Le5v7m"
      },
      "execution_count": null,
      "outputs": []
    },
    {
      "cell_type": "code",
      "source": [],
      "metadata": {
        "id": "LvpPI8_u55iL"
      },
      "execution_count": null,
      "outputs": []
    },
    {
      "cell_type": "code",
      "source": [
        "import torch\n",
        "\n",
        "if torch.cuda.is_available():\n",
        "    print(\"GPU is available!\")\n",
        "    device = torch.device(\"cuda\")\n",
        "else:\n",
        "    print(\"GPU is not available. Using CPU.\")\n",
        "    device = torch.device(\"cpu\")"
      ],
      "metadata": {
        "colab": {
          "base_uri": "https://localhost:8080/"
        },
        "id": "ipogs_k0rEjB",
        "outputId": "13b63ee7-8211-4bfe-eed2-3d291f45bb10"
      },
      "execution_count": null,
      "outputs": [
        {
          "output_type": "stream",
          "name": "stdout",
          "text": [
            "GPU is available!\n"
          ]
        }
      ]
    },
    {
      "cell_type": "code",
      "source": [
        "import keras\n",
        "from keras.utils import np_utils\n",
        "from keras.models import Model, Sequential\n"
      ],
      "metadata": {
        "id": "XVysyAajzNkt"
      },
      "execution_count": null,
      "outputs": []
    },
    {
      "cell_type": "code",
      "source": [
        "from keras.applications.vgg16 import VGG16, preprocess_input\n",
        "from tensorflow.keras.applications.resnet50 import ResNet50\n",
        "from keras.applications.xception import Xception\n",
        "from keras.layers import Input, Dense, GlobalAveragePooling2D, Dense, LSTM, Dropout, GRU\n",
        "from keras.preprocessing import sequence\n",
        "from tensorflow.keras.optimizers import SGD, Adam\n",
        "from keras import backend as K\n",
        "from keras.layers import Input, Dense, GlobalAveragePooling2D, Dense, LSTM, Dropout, GRU"
      ],
      "metadata": {
        "id": "dU5XkSt7zTUK"
      },
      "execution_count": null,
      "outputs": []
    },
    {
      "cell_type": "code",
      "source": [
        "from keras.layers import Embedding"
      ],
      "metadata": {
        "id": "wnCdEObw0_ei"
      },
      "execution_count": null,
      "outputs": []
    },
    {
      "cell_type": "code",
      "source": [
        "newXTrain.shape"
      ],
      "metadata": {
        "colab": {
          "base_uri": "https://localhost:8080/"
        },
        "id": "-aWTwPr-1TLA",
        "outputId": "721bda04-f20f-4a64-8423-472961d15393"
      },
      "execution_count": null,
      "outputs": [
        {
          "output_type": "execute_result",
          "data": {
            "text/plain": [
              "(1110, 1024, 1024, 3)"
            ]
          },
          "metadata": {},
          "execution_count": 63
        }
      ]
    },
    {
      "cell_type": "code",
      "source": [
        "newXTrain = newXTrain.reshape(1110, 1024, 3072)\n",
        "newXTrain.shape"
      ],
      "metadata": {
        "colab": {
          "base_uri": "https://localhost:8080/"
        },
        "id": "if88iF091Unf",
        "outputId": "1f9a9b7a-0038-46ef-fc72-cc24f0259cdd"
      },
      "execution_count": null,
      "outputs": [
        {
          "output_type": "execute_result",
          "data": {
            "text/plain": [
              "(1110, 1024, 3072)"
            ]
          },
          "metadata": {},
          "execution_count": 37
        }
      ]
    },
    {
      "cell_type": "code",
      "source": [
        "yTrain"
      ],
      "metadata": {
        "colab": {
          "base_uri": "https://localhost:8080/"
        },
        "id": "4po5O03z55Ix",
        "outputId": "b9d0e043-3410-493b-c140-305f2b8e67a4"
      },
      "execution_count": null,
      "outputs": [
        {
          "output_type": "execute_result",
          "data": {
            "text/plain": [
              "array(['no-damage', 'major-damage', 'major-damage', ..., 'no-damage',\n",
              "       'no-damage', 'no-damage'], dtype='<U12')"
            ]
          },
          "metadata": {},
          "execution_count": 40
        }
      ]
    },
    {
      "cell_type": "code",
      "source": [
        "newXHold = newXHold.reshape(375, 1024, 3072)\n",
        "newXHold.shape"
      ],
      "metadata": {
        "colab": {
          "base_uri": "https://localhost:8080/"
        },
        "id": "eUXUXVr31mRx",
        "outputId": "6251144a-d591-423b-b690-608d698e93fb"
      },
      "execution_count": null,
      "outputs": [
        {
          "output_type": "execute_result",
          "data": {
            "text/plain": [
              "(375, 1024, 3072)"
            ]
          },
          "metadata": {},
          "execution_count": 38
        }
      ]
    },
    {
      "cell_type": "code",
      "source": [
        "model = Sequential()\n",
        "model.add(LSTM(64, return_sequences=True,input_shape=(1024, 3072)))\n",
        "# model.add(Dropout(0.4))\n",
        "model.add(LSTM(64, return_sequences=True))\n",
        "# model.add(Dropout(0.4))\n",
        "model.add(LSTM(64)) \n",
        "# model.add(Dropout(0.4))\n",
        "# model.add(Dense(5, activation='softmax'))\n",
        "model.add(Dense(1, activation='softmax'))\n",
        "model.compile(loss='binary_crossentropy', optimizer='adam', metrics=['accuracy'])\n",
        "history = model.fit(newXTrain, yTrain, validation_data=(newXHold, yHold), epochs=8, batch_size=256)\n",
        "print(model.summary())\n",
        "# summarize history for accuracy\n",
        "plt.plot(history.history['accuracy'])\n",
        "plt.plot(history.history['val_accuracy'])\n",
        "plt.title('Model Accuracy')\n",
        "plt.ylabel('accuracy')\n",
        "plt.xlabel('epoch')\n",
        "plt.legend(['train', 'test'], loc='upper left')\n",
        "plt.show()\n",
        "# summarize history for loss\n",
        "plt.plot(history.history['loss'])\n",
        "plt.plot(history.history['val_loss'])\n",
        "plt.title('Model Loss')\n",
        "plt.ylabel('loss')\n",
        "plt.xlabel('epoch')\n",
        "plt.legend(['train', 'test'], loc='upper left')\n",
        "plt.show()\n",
        "saveModel = model"
      ],
      "metadata": {
        "colab": {
          "base_uri": "https://localhost:8080/"
        },
        "id": "BJWXD_35zYsO",
        "outputId": "2bd5ad6b-61a4-4983-f74c-a60913101bcd"
      },
      "execution_count": null,
      "outputs": [
        {
          "output_type": "stream",
          "name": "stdout",
          "text": [
            "Epoch 1/8\n"
          ]
        }
      ]
    },
    {
      "cell_type": "code",
      "source": [
        "import matplotlib.pyplot as plt"
      ],
      "metadata": {
        "id": "MHtmZ8rhzp9h"
      },
      "execution_count": null,
      "outputs": []
    },
    {
      "cell_type": "code",
      "source": [
        "##display accuracy of model for each play type\n",
        "types = ['no-damage', 'minor-damage', 'major-damage', 'destroyed']\n",
        "corrects =  [0.0 for _ in range(len(types))]\n",
        "counts = [0.0 for _ in range(len(types))]\n",
        "\n",
        "for idx in range(len(y_test)):\n",
        "    counts[np.argmax(y_test[idx])] += 1.0\n",
        "    pred = model.predict(X_test_pad[idx:idx+1])\n",
        "    if np.argmax(y_test[idx]) == np.argmax(pred):\n",
        "        corrects[np.argmax(y_test[idx])] += 1.0\n",
        "\n",
        "\n",
        "for i in range(len(types)):\n",
        "    print(types[i] + \" Accuracy: %.2f%%\" % (100 * corrects[i]/counts[i]))"
      ],
      "metadata": {
        "id": "FZlKV-lH3h_w"
      },
      "execution_count": null,
      "outputs": []
    },
    {
      "cell_type": "code",
      "source": [
        "# yTrain"
      ],
      "metadata": {
        "id": "5HozC5Tx3CbS",
        "colab": {
          "base_uri": "https://localhost:8080/"
        },
        "outputId": "a82c44ec-f629-482e-f7e3-091cb59cc9d7"
      },
      "execution_count": null,
      "outputs": [
        {
          "output_type": "execute_result",
          "data": {
            "text/plain": [
              "array([0, 2, 2, ..., 0, 0, 0])"
            ]
          },
          "metadata": {},
          "execution_count": 30
        }
      ]
    },
    {
      "cell_type": "code",
      "source": [
        "# newXTrain"
      ],
      "metadata": {
        "colab": {
          "base_uri": "https://localhost:8080/"
        },
        "id": "QlPTVOUx69Hg",
        "outputId": "6a17ed1d-ede1-41b8-8ef1-c0c008086def"
      },
      "execution_count": null,
      "outputs": [
        {
          "output_type": "execute_result",
          "data": {
            "text/plain": [
              "array([[[[-0.71794872, -0.57264957, -0.8034188 ],\n",
              "         [-0.69230769, -0.55555556, -0.78632479],\n",
              "         [-0.69230769, -0.55555556, -0.78632479],\n",
              "         ...,\n",
              "         [-0.84615385, -0.7008547 , -0.87179487],\n",
              "         [-0.83760684, -0.69230769, -0.86324786],\n",
              "         [-0.79487179, -0.64102564, -0.82905983]],\n",
              "\n",
              "        [[-0.76068376, -0.64102564, -0.83760684],\n",
              "         [-0.75213675, -0.63247863, -0.82905983],\n",
              "         [-0.70940171, -0.57264957, -0.79487179],\n",
              "         ...,\n",
              "         [-0.82051282, -0.68376068, -0.85470085],\n",
              "         [-0.82905983, -0.69230769, -0.85470085],\n",
              "         [-0.76923077, -0.61538462, -0.81196581]],\n",
              "\n",
              "        [[-0.75213675, -0.63247863, -0.82905983],\n",
              "         [-0.75213675, -0.63247863, -0.82905983],\n",
              "         [-0.70940171, -0.57264957, -0.79487179],\n",
              "         ...,\n",
              "         [-0.8034188 , -0.67521368, -0.84615385],\n",
              "         [-0.82051282, -0.69230769, -0.86324786],\n",
              "         [-0.76923077, -0.63247863, -0.81196581]],\n",
              "\n",
              "        ...,\n",
              "\n",
              "        [[-0.75213675, -0.57264957, -0.79487179],\n",
              "         [-0.72649573, -0.53846154, -0.78632479],\n",
              "         [-0.69230769, -0.52136752, -0.76068376],\n",
              "         ...,\n",
              "         [-0.70940171, -0.52136752, -0.78632479],\n",
              "         [-0.69230769, -0.5042735 , -0.78632479],\n",
              "         [-0.67521368, -0.47863248, -0.77777778]],\n",
              "\n",
              "        [[-0.70940171, -0.51282051, -0.76068376],\n",
              "         [-0.69230769, -0.4957265 , -0.74358974],\n",
              "         [-0.71794872, -0.54700855, -0.77777778],\n",
              "         ...,\n",
              "         [-0.76068376, -0.58974359, -0.82905983],\n",
              "         [-0.71794872, -0.53846154, -0.79487179],\n",
              "         [-0.69230769, -0.5042735 , -0.77777778]],\n",
              "\n",
              "        [[-0.70940171, -0.51282051, -0.75213675],\n",
              "         [-0.64102564, -0.45299145, -0.70940171],\n",
              "         [-0.68376068, -0.51282051, -0.75213675],\n",
              "         ...,\n",
              "         [-0.78632479, -0.63247863, -0.84615385],\n",
              "         [-0.77777778, -0.60683761, -0.82905983],\n",
              "         [-0.76923077, -0.5982906 , -0.82905983]]],\n",
              "\n",
              "\n",
              "       [[[-0.42857143, -0.30952381, -0.58730159],\n",
              "         [-0.43650794, -0.31746032, -0.5952381 ],\n",
              "         [-0.45238095, -0.33333333, -0.61111111],\n",
              "         ...,\n",
              "         [-0.70634921, -0.54761905, -0.64285714],\n",
              "         [-0.69047619, -0.51587302, -0.61904762],\n",
              "         [-0.67460317, -0.49206349, -0.61111111]],\n",
              "\n",
              "        [[-0.35714286, -0.23015873, -0.53174603],\n",
              "         [-0.43650794, -0.30952381, -0.5952381 ],\n",
              "         [-0.5       , -0.38888889, -0.65079365],\n",
              "         ...,\n",
              "         [-0.68253968, -0.52380952, -0.61904762],\n",
              "         [-0.73809524, -0.58730159, -0.68253968],\n",
              "         [-0.68253968, -0.50793651, -0.61904762]],\n",
              "\n",
              "        [[-0.41269841, -0.27777778, -0.57142857],\n",
              "         [-0.43650794, -0.3015873 , -0.5952381 ],\n",
              "         [-0.46825397, -0.34126984, -0.62698413],\n",
              "         ...,\n",
              "         [-0.73015873, -0.58730159, -0.68253968],\n",
              "         [-0.72222222, -0.57936508, -0.67460317],\n",
              "         [-0.71428571, -0.54761905, -0.65079365]],\n",
              "\n",
              "        ...,\n",
              "\n",
              "        [[-0.3968254 , -0.21428571, -0.56349206],\n",
              "         [-0.3968254 , -0.23015873, -0.57142857],\n",
              "         [-0.38888889, -0.23015873, -0.56349206],\n",
              "         ...,\n",
              "         [-0.17460317, -0.07142857, -0.34126984],\n",
              "         [-0.25396825, -0.13492063, -0.42063492],\n",
              "         [-0.26984127, -0.13492063, -0.43650794]],\n",
              "\n",
              "        [[-0.41269841, -0.25396825, -0.58730159],\n",
              "         [-0.43650794, -0.28571429, -0.6031746 ],\n",
              "         [-0.41269841, -0.26984127, -0.58730159],\n",
              "         ...,\n",
              "         [-0.23015873, -0.13492063, -0.38888889],\n",
              "         [-0.19047619, -0.07936508, -0.34920635],\n",
              "         [-0.20634921, -0.08730159, -0.37301587]],\n",
              "\n",
              "        [[-0.4047619 , -0.24603175, -0.57936508],\n",
              "         [-0.41269841, -0.26190476, -0.57936508],\n",
              "         [-0.42063492, -0.28571429, -0.5952381 ],\n",
              "         ...,\n",
              "         [ 0.01587302,  0.11904762, -0.15873016],\n",
              "         [-0.14285714, -0.03968254, -0.30952381],\n",
              "         [-0.21428571, -0.11111111, -0.37301587]]],\n",
              "\n",
              "\n",
              "       [[[-1.        , -1.        , -1.        ],\n",
              "         [-1.        , -1.        , -1.        ],\n",
              "         [-1.        , -1.        , -1.        ],\n",
              "         ...,\n",
              "         [-1.        , -1.        , -1.        ],\n",
              "         [-1.        , -1.        , -1.        ],\n",
              "         [-1.        , -1.        , -1.        ]],\n",
              "\n",
              "        [[-1.        , -1.        , -1.        ],\n",
              "         [-1.        , -1.        , -1.        ],\n",
              "         [-1.        , -1.        , -1.        ],\n",
              "         ...,\n",
              "         [-1.        , -1.        , -1.        ],\n",
              "         [-1.        , -1.        , -1.        ],\n",
              "         [-1.        , -1.        , -1.        ]],\n",
              "\n",
              "        [[-1.        , -1.        , -1.        ],\n",
              "         [-1.        , -1.        , -1.        ],\n",
              "         [-1.        , -1.        , -1.        ],\n",
              "         ...,\n",
              "         [-1.        , -1.        , -1.        ],\n",
              "         [-1.        , -1.        , -1.        ],\n",
              "         [-1.        , -1.        , -1.        ]],\n",
              "\n",
              "        ...,\n",
              "\n",
              "        [[-0.63921569, -0.52941176, -0.7254902 ],\n",
              "         [-0.58431373, -0.45098039, -0.6627451 ],\n",
              "         [-0.5372549 , -0.39607843, -0.61568627],\n",
              "         ...,\n",
              "         [-0.64705882, -0.49803922, -0.74901961],\n",
              "         [-0.62352941, -0.46666667, -0.7254902 ],\n",
              "         [-0.62352941, -0.46666667, -0.71764706]],\n",
              "\n",
              "        [[-0.63137255, -0.52156863, -0.70980392],\n",
              "         [-0.57647059, -0.44313725, -0.65490196],\n",
              "         [-0.52156863, -0.35686275, -0.59215686],\n",
              "         ...,\n",
              "         [-0.6627451 , -0.51372549, -0.75686275],\n",
              "         [-0.61568627, -0.45098039, -0.71764706],\n",
              "         [-0.56862745, -0.38039216, -0.67058824]],\n",
              "\n",
              "        [[-0.65490196, -0.55294118, -0.73333333],\n",
              "         [-0.60784314, -0.48235294, -0.69411765],\n",
              "         [-0.54509804, -0.40392157, -0.62352941],\n",
              "         ...,\n",
              "         [-0.63921569, -0.48235294, -0.74117647],\n",
              "         [-0.63921569, -0.4745098 , -0.74117647],\n",
              "         [-0.6       , -0.41176471, -0.69411765]]],\n",
              "\n",
              "\n",
              "       ...,\n",
              "\n",
              "\n",
              "       [[[-0.66935484, -0.52419355, -0.77419355],\n",
              "         [-0.66129032, -0.52419355, -0.76612903],\n",
              "         [-0.67741935, -0.5483871 , -0.78225806],\n",
              "         ...,\n",
              "         [-0.89516129, -0.7983871 , -0.85483871],\n",
              "         [-0.88709677, -0.79032258, -0.84677419],\n",
              "         [-0.87903226, -0.79032258, -0.83870968]],\n",
              "\n",
              "        [[-0.66129032, -0.51612903, -0.76612903],\n",
              "         [-0.68548387, -0.5483871 , -0.78225806],\n",
              "         [-0.72580645, -0.59677419, -0.80645161],\n",
              "         ...,\n",
              "         [-0.88709677, -0.79032258, -0.84677419],\n",
              "         [-0.90322581, -0.81451613, -0.86290323],\n",
              "         [-0.84677419, -0.75806452, -0.81451613]],\n",
              "\n",
              "        [[-0.66935484, -0.52419355, -0.77419355],\n",
              "         [-0.70967742, -0.57258065, -0.7983871 ],\n",
              "         [-0.74193548, -0.60483871, -0.81451613],\n",
              "         ...,\n",
              "         [-0.85483871, -0.75806452, -0.82258065],\n",
              "         [-0.82258065, -0.72580645, -0.7983871 ],\n",
              "         [-0.87096774, -0.79032258, -0.83870968]],\n",
              "\n",
              "        ...,\n",
              "\n",
              "        [[-0.31451613, -0.2016129 , -0.33064516],\n",
              "         [-0.30645161, -0.19354839, -0.31451613],\n",
              "         [-0.34677419, -0.23387097, -0.35483871],\n",
              "         ...,\n",
              "         [-0.58064516, -0.48387097, -0.69354839],\n",
              "         [-0.58064516, -0.48387097, -0.69354839],\n",
              "         [-0.58064516, -0.48387097, -0.68548387]],\n",
              "\n",
              "        [[-0.26612903, -0.15322581, -0.27419355],\n",
              "         [-0.2983871 , -0.18548387, -0.2983871 ],\n",
              "         [-0.2983871 , -0.18548387, -0.29032258],\n",
              "         ...,\n",
              "         [-0.44354839, -0.34677419, -0.59677419],\n",
              "         [-0.48387097, -0.39516129, -0.62096774],\n",
              "         [-0.52419355, -0.44354839, -0.64516129]],\n",
              "\n",
              "        [[-0.30645161, -0.18548387, -0.30645161],\n",
              "         [-0.25      , -0.12903226, -0.24193548],\n",
              "         [-0.26612903, -0.14516129, -0.25      ],\n",
              "         ...,\n",
              "         [-0.44354839, -0.34677419, -0.59677419],\n",
              "         [-0.48387097, -0.39516129, -0.62096774],\n",
              "         [-0.52419355, -0.44354839, -0.64516129]]],\n",
              "\n",
              "\n",
              "       [[[-0.49794239, -0.43209877, -0.65432099],\n",
              "         [-0.50617284, -0.45679012, -0.67078189],\n",
              "         [-0.48971193, -0.44032922, -0.67078189],\n",
              "         ...,\n",
              "         [-0.28395062, -0.22633745, -0.45679012],\n",
              "         [-0.25925926, -0.20164609, -0.43209877],\n",
              "         [-0.218107  , -0.17695473, -0.3909465 ]],\n",
              "\n",
              "        [[-0.48148148, -0.42386831, -0.64609053],\n",
              "         [-0.46502058, -0.41563786, -0.64609053],\n",
              "         [-0.46502058, -0.42386831, -0.65432099],\n",
              "         ...,\n",
              "         [-0.26748971, -0.20987654, -0.44855967],\n",
              "         [-0.24279835, -0.18518519, -0.42386831],\n",
              "         [-0.218107  , -0.16872428, -0.39917695]],\n",
              "\n",
              "        [[-0.48148148, -0.41563786, -0.64609053],\n",
              "         [-0.46502058, -0.40740741, -0.64609053],\n",
              "         [-0.48148148, -0.43209877, -0.66255144],\n",
              "         ...,\n",
              "         [-0.25102881, -0.20164609, -0.44032922],\n",
              "         [-0.2345679 , -0.18518519, -0.42386831],\n",
              "         [-0.2345679 , -0.18518519, -0.41563786]],\n",
              "\n",
              "        ...,\n",
              "\n",
              "        [[-0.43209877, -0.25102881, -0.58847737],\n",
              "         [-0.41563786, -0.2345679 , -0.57201646],\n",
              "         [-0.38271605, -0.20987654, -0.53909465],\n",
              "         ...,\n",
              "         [-0.7037037 , -0.60493827, -0.81069959],\n",
              "         [-0.69547325, -0.58847737, -0.81069959],\n",
              "         [-0.71193416, -0.61316872, -0.82716049]],\n",
              "\n",
              "        [[-0.43209877, -0.25102881, -0.58847737],\n",
              "         [-0.41563786, -0.2345679 , -0.57201646],\n",
              "         [-0.42386831, -0.25102881, -0.57201646],\n",
              "         ...,\n",
              "         [-0.59670782, -0.48971193, -0.74485597],\n",
              "         [-0.67901235, -0.57201646, -0.80246914],\n",
              "         [-0.7037037 , -0.60493827, -0.81893004]],\n",
              "\n",
              "        [[-0.41563786, -0.2345679 , -0.58024691],\n",
              "         [-0.42386831, -0.24279835, -0.58024691],\n",
              "         [-0.42386831, -0.25102881, -0.57201646],\n",
              "         ...,\n",
              "         [-0.64609053, -0.5308642 , -0.77777778],\n",
              "         [-0.71193416, -0.60493827, -0.81893004],\n",
              "         [-0.66255144, -0.55555556, -0.79423868]]],\n",
              "\n",
              "\n",
              "       [[[-0.216     , -0.128     , -0.28      ],\n",
              "         [-0.336     , -0.248     , -0.368     ],\n",
              "         [-0.336     , -0.248     , -0.352     ],\n",
              "         ...,\n",
              "         [-0.2       , -0.152     , -0.248     ],\n",
              "         [-0.336     , -0.272     , -0.368     ],\n",
              "         [-0.376     , -0.296     , -0.408     ]],\n",
              "\n",
              "        [[-0.216     , -0.128     , -0.296     ],\n",
              "         [-0.352     , -0.264     , -0.4       ],\n",
              "         [-0.312     , -0.224     , -0.344     ],\n",
              "         ...,\n",
              "         [ 0.032     ,  0.064     , -0.064     ],\n",
              "         [-0.232     , -0.168     , -0.28      ],\n",
              "         [-0.312     , -0.24      , -0.36      ]],\n",
              "\n",
              "        [[-0.248     , -0.152     , -0.328     ],\n",
              "         [-0.32      , -0.224     , -0.392     ],\n",
              "         [-0.264     , -0.176     , -0.32      ],\n",
              "         ...,\n",
              "         [ 0.096     ,  0.136     , -0.024     ],\n",
              "         [-0.016     ,  0.04      , -0.112     ],\n",
              "         [-0.256     , -0.176     , -0.312     ]],\n",
              "\n",
              "        ...,\n",
              "\n",
              "        [[-0.272     , -0.16      , -0.24      ],\n",
              "         [-0.136     , -0.024     , -0.128     ],\n",
              "         [ 0.184     ,  0.264     ,  0.128     ],\n",
              "         ...,\n",
              "         [ 0.28      ,  0.28      ,  0.216     ],\n",
              "         [ 0.272     ,  0.264     ,  0.2       ],\n",
              "         [-0.112     , -0.064     , -0.128     ]],\n",
              "\n",
              "        [[-0.152     , -0.032     , -0.12      ],\n",
              "         [-0.056     ,  0.056     , -0.048     ],\n",
              "         [ 0.232     ,  0.32      ,  0.184     ],\n",
              "         ...,\n",
              "         [ 0.176     ,  0.176     ,  0.112     ],\n",
              "         [-0.304     , -0.248     , -0.296     ],\n",
              "         [ 0.032     ,  0.056     , -0.008     ]],\n",
              "\n",
              "        [[-0.152     , -0.024     , -0.112     ],\n",
              "         [-0.04      ,  0.072     , -0.016     ],\n",
              "         [ 0.136     ,  0.24      ,  0.12      ],\n",
              "         ...,\n",
              "         [ 0.168     ,  0.16      ,  0.096     ],\n",
              "         [-0.112     , -0.08      , -0.144     ],\n",
              "         [ 0.48      ,  0.44      ,  0.36      ]]]])"
            ]
          },
          "metadata": {},
          "execution_count": 31
        }
      ]
    },
    {
      "cell_type": "code",
      "source": [
        "yTrain[yTrain == 1] = 5 "
      ],
      "metadata": {
        "id": "x62n_h4N6-nM",
        "colab": {
          "base_uri": "https://localhost:8080/"
        },
        "outputId": "19913e18-ef09-40a3-912c-77dc8cf27885"
      },
      "execution_count": null,
      "outputs": [
        {
          "output_type": "stream",
          "name": "stderr",
          "text": [
            "<ipython-input-43-21964494a8f4>:1: FutureWarning: elementwise comparison failed; returning scalar instead, but in the future will perform elementwise comparison\n",
            "  yTrain[yTrain == 1] = 5\n"
          ]
        }
      ]
    },
    {
      "cell_type": "code",
      "source": [
        "# yTrain"
      ],
      "metadata": {
        "colab": {
          "base_uri": "https://localhost:8080/"
        },
        "id": "mh7tQhFB7L3U",
        "outputId": "7a81511c-b997-4abd-8251-35700f5d901b"
      },
      "execution_count": null,
      "outputs": [
        {
          "output_type": "execute_result",
          "data": {
            "text/plain": [
              "array([0, 2, 2, ..., 0, 0, 0])"
            ]
          },
          "metadata": {},
          "execution_count": 33
        }
      ]
    },
    {
      "cell_type": "code",
      "source": [
        "yTrain[yTrain == 0] = 1 #1 is no-damage"
      ],
      "metadata": {
        "id": "Vy1bN-qN7NG-",
        "colab": {
          "base_uri": "https://localhost:8080/"
        },
        "outputId": "10aab692-6a70-4d34-8e82-375e7f7f1919"
      },
      "execution_count": null,
      "outputs": [
        {
          "output_type": "stream",
          "name": "stderr",
          "text": [
            "<ipython-input-44-f4896f3a8090>:1: FutureWarning: elementwise comparison failed; returning scalar instead, but in the future will perform elementwise comparison\n",
            "  yTrain[yTrain == 0] = 1 #1 is no-damage\n"
          ]
        }
      ]
    },
    {
      "cell_type": "code",
      "source": [
        "yTrain[yTrain == 2] = 0\n",
        "yTrain[yTrain == 3] = 0\n",
        "yTrain[yTrain == 5] = 0\n"
      ],
      "metadata": {
        "id": "3dgwbKAS7POa",
        "colab": {
          "base_uri": "https://localhost:8080/"
        },
        "outputId": "d1b4825d-aeae-4171-af9f-0d93c08d1851"
      },
      "execution_count": null,
      "outputs": [
        {
          "output_type": "stream",
          "name": "stderr",
          "text": [
            "<ipython-input-45-ff590d61f820>:1: FutureWarning: elementwise comparison failed; returning scalar instead, but in the future will perform elementwise comparison\n",
            "  yTrain[yTrain == 2] = 0\n",
            "<ipython-input-45-ff590d61f820>:2: FutureWarning: elementwise comparison failed; returning scalar instead, but in the future will perform elementwise comparison\n",
            "  yTrain[yTrain == 3] = 0\n",
            "<ipython-input-45-ff590d61f820>:3: FutureWarning: elementwise comparison failed; returning scalar instead, but in the future will perform elementwise comparison\n",
            "  yTrain[yTrain == 5] = 0\n"
          ]
        }
      ]
    },
    {
      "cell_type": "code",
      "source": [
        "yTrain.shape"
      ],
      "metadata": {
        "colab": {
          "base_uri": "https://localhost:8080/"
        },
        "id": "zsK5WK7V7V4N",
        "outputId": "b26cd25c-f1c7-4597-af23-6e4db15c8627"
      },
      "execution_count": null,
      "outputs": [
        {
          "output_type": "execute_result",
          "data": {
            "text/plain": [
              "(1152,)"
            ]
          },
          "metadata": {},
          "execution_count": 46
        }
      ]
    },
    {
      "cell_type": "code",
      "source": [
        "xTrain.shape"
      ],
      "metadata": {
        "colab": {
          "base_uri": "https://localhost:8080/"
        },
        "id": "zvWF-3hq7Zf8",
        "outputId": "2690ad16-de51-4530-dcda-396fb46e1419"
      },
      "execution_count": null,
      "outputs": [
        {
          "output_type": "execute_result",
          "data": {
            "text/plain": [
              "(1152,)"
            ]
          },
          "metadata": {},
          "execution_count": 47
        }
      ]
    },
    {
      "cell_type": "code",
      "source": [
        "tensorX = torch.from_numpy(newXTrain)\n",
        "tensorY = torch.from_numpy(yTrain)"
      ],
      "metadata": {
        "id": "9t-FIp6X7dQX"
      },
      "execution_count": null,
      "outputs": []
    },
    {
      "cell_type": "code",
      "source": [
        "from torch.utils.data import DataLoader\n",
        "from torchvision import datasets, transforms"
      ],
      "metadata": {
        "id": "A_Quddwq74TA"
      },
      "execution_count": null,
      "outputs": []
    },
    {
      "cell_type": "code",
      "source": [
        "data_transforms = transforms.Compose([\n",
        "    transforms.Resize((150, 150)),\n",
        "    transforms.ToTensor(),\n",
        "    transforms.Normalize([0.5, 0.5, 0.5], [0.5, 0.5, 0.5])\n",
        "])"
      ],
      "metadata": {
        "id": "ihy-gLkR8CJe"
      },
      "execution_count": null,
      "outputs": []
    },
    {
      "cell_type": "code",
      "source": [
        "tensorX.shape"
      ],
      "metadata": {
        "colab": {
          "base_uri": "https://localhost:8080/"
        },
        "id": "q5Ds8YSh8PLo",
        "outputId": "3b46cd9c-b7fc-42ec-f2e5-395bbbc6316d"
      },
      "execution_count": null,
      "outputs": [
        {
          "output_type": "execute_result",
          "data": {
            "text/plain": [
              "torch.Size([1110, 1024, 1024, 3])"
            ]
          },
          "metadata": {},
          "execution_count": 44
        }
      ]
    },
    {
      "cell_type": "code",
      "source": [
        "from PIL import Image as im"
      ],
      "metadata": {
        "id": "d6PwdvGa8a1R"
      },
      "execution_count": null,
      "outputs": []
    },
    {
      "cell_type": "code",
      "source": [
        "import torch\n",
        "from torch import nn\n",
        "\n",
        "class MyModel(nn.Module):\n",
        "    def __init__(self):\n",
        "        super(MyModel, self).__init__()\n",
        "        self.model = nn.Sequential(\n",
        "            nn.Conv2d(3, 32, kernel_size=(3, 3), stride=(1, 1), padding=(1, 1)),\n",
        "            nn.ReLU(),\n",
        "            nn.MaxPool2d(kernel_size=(2, 2), stride=(2, 2), padding=0),\n",
        "            nn.Conv2d(32, 64, kernel_size=(3, 3), stride=(1, 1), padding=(1, 1)),\n",
        "            nn.ReLU(),\n",
        "            nn.MaxPool2d(kernel_size=(2, 2), stride=(2, 2), padding=0),\n",
        "            nn.Conv2d(64, 128, kernel_size=(3, 3), stride=(1, 1), padding=(1, 1)),\n",
        "            nn.ReLU(),\n",
        "            nn.MaxPool2d(kernel_size=(2, 2), stride=(2, 2), padding=0),\n",
        "            nn.Conv2d(128, 128, kernel_size=(3, 3), stride=(1, 1), padding=(1, 1)),\n",
        "            nn.ReLU(),\n",
        "            nn.MaxPool2d(kernel_size=(2, 2), stride=(2, 2), padding=0),\n",
        "            nn.Flatten(),\n",
        "            nn.Linear(128 * 9 * 9, 512),\n",
        "            nn.ReLU(),\n",
        "            nn.Linear(512, 1),\n",
        "            nn.Sigmoid()\n",
        "        )\n",
        "\n",
        "    def forward(self, x):\n",
        "        return self.model(x)\n",
        "\n",
        "model = MyModel()"
      ],
      "metadata": {
        "id": "a8bQlUoW8vS-"
      },
      "execution_count": null,
      "outputs": []
    },
    {
      "cell_type": "code",
      "source": [
        "# Instantiate the model architecture\n",
        "model_path = '/content/drive/MyDrive/ML/model_baseline2.pth'\n",
        "loaded_model = MyModel()\n",
        "# Load the saved state_dict\n",
        "loaded_model.load_state_dict(torch.load(model_path))\n",
        "# Set the model to evaluation mode\n",
        "loaded_model.eval()"
      ],
      "metadata": {
        "colab": {
          "base_uri": "https://localhost:8080/"
        },
        "id": "UTbfPRuE_dMr",
        "outputId": "f5a020da-b69f-43e5-fffa-402ab9aa22ea"
      },
      "execution_count": null,
      "outputs": [
        {
          "output_type": "execute_result",
          "data": {
            "text/plain": [
              "MyModel(\n",
              "  (model): Sequential(\n",
              "    (0): Conv2d(3, 32, kernel_size=(3, 3), stride=(1, 1), padding=(1, 1))\n",
              "    (1): ReLU()\n",
              "    (2): MaxPool2d(kernel_size=(2, 2), stride=(2, 2), padding=0, dilation=1, ceil_mode=False)\n",
              "    (3): Conv2d(32, 64, kernel_size=(3, 3), stride=(1, 1), padding=(1, 1))\n",
              "    (4): ReLU()\n",
              "    (5): MaxPool2d(kernel_size=(2, 2), stride=(2, 2), padding=0, dilation=1, ceil_mode=False)\n",
              "    (6): Conv2d(64, 128, kernel_size=(3, 3), stride=(1, 1), padding=(1, 1))\n",
              "    (7): ReLU()\n",
              "    (8): MaxPool2d(kernel_size=(2, 2), stride=(2, 2), padding=0, dilation=1, ceil_mode=False)\n",
              "    (9): Conv2d(128, 128, kernel_size=(3, 3), stride=(1, 1), padding=(1, 1))\n",
              "    (10): ReLU()\n",
              "    (11): MaxPool2d(kernel_size=(2, 2), stride=(2, 2), padding=0, dilation=1, ceil_mode=False)\n",
              "    (12): Flatten(start_dim=1, end_dim=-1)\n",
              "    (13): Linear(in_features=10368, out_features=512, bias=True)\n",
              "    (14): ReLU()\n",
              "    (15): Linear(in_features=512, out_features=1, bias=True)\n",
              "    (16): Sigmoid()\n",
              "  )\n",
              ")"
            ]
          },
          "metadata": {},
          "execution_count": 11
        }
      ]
    },
    {
      "cell_type": "code",
      "source": [
        "temp = tensorX.resize_(1110, 150, 150, 3)"
      ],
      "metadata": {
        "id": "HpcVGXM-AEgc"
      },
      "execution_count": null,
      "outputs": []
    },
    {
      "cell_type": "code",
      "source": [
        "temp.shape"
      ],
      "metadata": {
        "colab": {
          "base_uri": "https://localhost:8080/"
        },
        "id": "HiwqfjswANBN",
        "outputId": "55b5efd6-e154-4e49-e90a-839bed785c95"
      },
      "execution_count": null,
      "outputs": [
        {
          "output_type": "execute_result",
          "data": {
            "text/plain": [
              "torch.Size([1110, 150, 150, 3])"
            ]
          },
          "metadata": {},
          "execution_count": 52
        }
      ]
    },
    {
      "cell_type": "code",
      "source": [
        "data_transforms = transforms.Compose([\n",
        "    transforms.Resize((150, 150)),\n",
        "    transforms.ToTensor(),\n",
        "    transforms.Normalize([0.5, 0.5, 0.5], [0.5, 0.5, 0.5])\n",
        "])"
      ],
      "metadata": {
        "id": "6EY5h14SAr6d"
      },
      "execution_count": null,
      "outputs": []
    },
    {
      "cell_type": "code",
      "source": [
        "test_dataset = datasets.ImageFolder(testing, transform=data_transforms)"
      ],
      "metadata": {
        "id": "OOz8C-dIAOfy"
      },
      "execution_count": null,
      "outputs": []
    },
    {
      "cell_type": "code",
      "source": [
        "testing = '/content/drive/MyDrive/ML/geotiffs/tier1/testFold'"
      ],
      "metadata": {
        "id": "WglxTi6WCkyl"
      },
      "execution_count": null,
      "outputs": []
    },
    {
      "cell_type": "code",
      "source": [
        "test_loader = DataLoader(test_dataset, batch_size=20, shuffle=False, num_workers=4)"
      ],
      "metadata": {
        "id": "zb9IgecrDcOy"
      },
      "execution_count": null,
      "outputs": []
    },
    {
      "cell_type": "code",
      "source": [
        "for inputs, labels in test_loader:\n",
        "  print(inputs.shape)\n",
        "  break"
      ],
      "metadata": {
        "colab": {
          "base_uri": "https://localhost:8080/"
        },
        "id": "18VRJZZsTiRm",
        "outputId": "10516385-3419-4995-b6fd-0185991da904"
      },
      "execution_count": null,
      "outputs": [
        {
          "output_type": "stream",
          "name": "stdout",
          "text": [
            "torch.Size([20, 3, 150, 150])\n"
          ]
        }
      ]
    },
    {
      "cell_type": "code",
      "source": [
        "if torch.cuda.is_available():\n",
        "    print(\"GPU is available!\")\n",
        "    device = torch.device(\"cuda\")\n",
        "else:\n",
        "    print(\"GPU is not available. Using CPU.\")\n",
        "    device = torch.device(\"cpu\")"
      ],
      "metadata": {
        "colab": {
          "base_uri": "https://localhost:8080/"
        },
        "id": "IEdupia7EHd5",
        "outputId": "393602b4-3b12-486d-f92f-bd8b9dbedf56"
      },
      "execution_count": null,
      "outputs": [
        {
          "output_type": "stream",
          "name": "stdout",
          "text": [
            "GPU is available!\n"
          ]
        }
      ]
    },
    {
      "cell_type": "code",
      "source": [
        "model.eval()\n",
        "test_acc = 0.0\n",
        "\n",
        "with torch.no_grad():\n",
        "    for inputs, labels in test_loader:\n",
        "        # inputs, labels = inputs.to(device), labels.to(device)\n",
        "        outputs = model(inputs).squeeze()\n",
        "        test_acc += ((outputs > 0.5).float() == labels.float()).float().sum().item()\n",
        "test_acc /= len(test_dataset)\n",
        "\n",
        "print(f'Test Acc: {test_acc:.4f}')"
      ],
      "metadata": {
        "colab": {
          "base_uri": "https://localhost:8080/"
        },
        "id": "I0fshvqOEA13",
        "outputId": "f2e9c84d-2fe1-4b0d-e176-5a55071bebc4"
      },
      "execution_count": null,
      "outputs": [
        {
          "output_type": "stream",
          "name": "stdout",
          "text": [
            "Test Acc: 0.5735\n"
          ]
        }
      ]
    },
    {
      "cell_type": "code",
      "source": [
        "##Runtime, Precision, F1 score, Accuracy, False Positives and Negatives \n",
        "##PULL 1 correctly classified example"
      ],
      "metadata": {
        "id": "W2iB_sgtEi6M"
      },
      "execution_count": null,
      "outputs": []
    },
    {
      "cell_type": "code",
      "source": [
        "allTrainImages"
      ],
      "metadata": {
        "colab": {
          "base_uri": "https://localhost:8080/"
        },
        "id": "q-H_ZGZUEwxO",
        "outputId": "585b92e2-2206-4a43-f277-637ffda5172a"
      },
      "execution_count": null,
      "outputs": [
        {
          "output_type": "execute_result",
          "data": {
            "text/plain": [
              "['/content/drive/MyDrive/ML/geotiffs/tier1/images/hurricane-florence_00000023_post_disaster.tif',\n",
              " '/content/drive/MyDrive/ML/geotiffs/tier1/images/hurricane-florence_00000473_post_disaster.tif',\n",
              " '/content/drive/MyDrive/ML/geotiffs/tier1/images/hurricane-florence_00000390_post_disaster.tif',\n",
              " '/content/drive/MyDrive/ML/geotiffs/tier1/images/hurricane-florence_00000272_post_disaster.tif',\n",
              " '/content/drive/MyDrive/ML/geotiffs/tier1/images/hurricane-florence_00000066_post_disaster.tif',\n",
              " '/content/drive/MyDrive/ML/geotiffs/tier1/images/hurricane-florence_00000395_post_disaster.tif',\n",
              " '/content/drive/MyDrive/ML/geotiffs/tier1/images/hurricane-florence_00000455_post_disaster.tif',\n",
              " '/content/drive/MyDrive/ML/geotiffs/tier1/images/hurricane-florence_00000293_post_disaster.tif',\n",
              " '/content/drive/MyDrive/ML/geotiffs/tier1/images/hurricane-florence_00000193_post_disaster.tif',\n",
              " '/content/drive/MyDrive/ML/geotiffs/tier1/images/hurricane-florence_00000333_post_disaster.tif',\n",
              " '/content/drive/MyDrive/ML/geotiffs/tier1/images/hurricane-florence_00000446_post_disaster.tif',\n",
              " '/content/drive/MyDrive/ML/geotiffs/tier1/images/hurricane-florence_00000360_post_disaster.tif',\n",
              " '/content/drive/MyDrive/ML/geotiffs/tier1/images/hurricane-florence_00000028_post_disaster.tif',\n",
              " '/content/drive/MyDrive/ML/geotiffs/tier1/images/hurricane-florence_00000496_post_disaster.tif',\n",
              " '/content/drive/MyDrive/ML/geotiffs/tier1/images/hurricane-florence_00000393_post_disaster.tif',\n",
              " '/content/drive/MyDrive/ML/geotiffs/tier1/images/hurricane-florence_00000231_post_disaster.tif',\n",
              " '/content/drive/MyDrive/ML/geotiffs/tier1/images/hurricane-florence_00000303_post_disaster.tif',\n",
              " '/content/drive/MyDrive/ML/geotiffs/tier1/images/hurricane-florence_00000260_post_disaster.tif',\n",
              " '/content/drive/MyDrive/ML/geotiffs/tier1/images/hurricane-florence_00000486_post_disaster.tif',\n",
              " '/content/drive/MyDrive/ML/geotiffs/tier1/images/hurricane-florence_00000030_post_disaster (1).tif',\n",
              " '/content/drive/MyDrive/ML/geotiffs/tier1/images/hurricane-florence_00000064_post_disaster.tif',\n",
              " '/content/drive/MyDrive/ML/geotiffs/tier1/images/hurricane-florence_00000330_post_disaster.tif',\n",
              " '/content/drive/MyDrive/ML/geotiffs/tier1/images/hurricane-florence_00000030_post_disaster.tif',\n",
              " '/content/drive/MyDrive/ML/geotiffs/tier1/images/hurricane-florence_00000540_post_disaster.tif',\n",
              " '/content/drive/MyDrive/ML/geotiffs/tier1/images/hurricane-florence_00000012_post_disaster.tif',\n",
              " '/content/drive/MyDrive/ML/geotiffs/tier1/images/hurricane-florence_00000083_post_disaster (1).tif',\n",
              " '/content/drive/MyDrive/ML/geotiffs/tier1/images/hurricane-florence_00000147_post_disaster.tif',\n",
              " '/content/drive/MyDrive/ML/geotiffs/tier1/images/hurricane-florence_00000083_post_disaster.tif',\n",
              " '/content/drive/MyDrive/ML/geotiffs/tier1/images/hurricane-florence_00000085_post_disaster (1).tif',\n",
              " '/content/drive/MyDrive/ML/geotiffs/tier1/images/hurricane-florence_00000085_post_disaster.tif',\n",
              " '/content/drive/MyDrive/ML/geotiffs/tier1/images/hurricane-florence_00000406_post_disaster.tif',\n",
              " '/content/drive/MyDrive/ML/geotiffs/tier1/images/hurricane-florence_00000482_post_disaster.tif',\n",
              " '/content/drive/MyDrive/ML/geotiffs/tier1/images/hurricane-florence_00000476_post_disaster.tif',\n",
              " '/content/drive/MyDrive/ML/geotiffs/tier1/images/hurricane-florence_00000110_post_disaster.tif',\n",
              " '/content/drive/MyDrive/ML/geotiffs/tier1/images/hurricane-florence_00000443_post_disaster.tif',\n",
              " '/content/drive/MyDrive/ML/geotiffs/tier1/images/hurricane-florence_00000427_post_disaster.tif',\n",
              " '/content/drive/MyDrive/ML/geotiffs/tier1/images/hurricane-florence_00000464_post_disaster.tif',\n",
              " '/content/drive/MyDrive/ML/geotiffs/tier1/images/hurricane-florence_00000308_post_disaster.tif',\n",
              " '/content/drive/MyDrive/ML/geotiffs/tier1/images/hurricane-florence_00000094_post_disaster.tif',\n",
              " '/content/drive/MyDrive/ML/geotiffs/tier1/images/hurricane-florence_00000099_post_disaster.tif',\n",
              " '/content/drive/MyDrive/ML/geotiffs/tier1/images/hurricane-florence_00000337_post_disaster.tif',\n",
              " '/content/drive/MyDrive/ML/geotiffs/tier1/images/hurricane-florence_00000088_post_disaster.tif',\n",
              " '/content/drive/MyDrive/ML/geotiffs/tier1/images/hurricane-florence_00000477_post_disaster.tif',\n",
              " '/content/drive/MyDrive/ML/geotiffs/tier1/images/hurricane-florence_00000054_post_disaster.tif',\n",
              " '/content/drive/MyDrive/ML/geotiffs/tier1/images/hurricane-florence_00000180_post_disaster.tif',\n",
              " '/content/drive/MyDrive/ML/geotiffs/tier1/images/hurricane-florence_00000221_post_disaster.tif',\n",
              " '/content/drive/MyDrive/ML/geotiffs/tier1/images/hurricane-florence_00000517_post_disaster.tif',\n",
              " '/content/drive/MyDrive/ML/geotiffs/tier1/images/hurricane-florence_00000123_post_disaster.tif',\n",
              " '/content/drive/MyDrive/ML/geotiffs/tier1/images/hurricane-florence_00000296_post_disaster.tif',\n",
              " '/content/drive/MyDrive/ML/geotiffs/tier1/images/hurricane-florence_00000181_post_disaster.tif',\n",
              " '/content/drive/MyDrive/ML/geotiffs/tier1/images/hurricane-florence_00000078_post_disaster.tif',\n",
              " '/content/drive/MyDrive/ML/geotiffs/tier1/images/hurricane-florence_00000199_post_disaster.tif',\n",
              " '/content/drive/MyDrive/ML/geotiffs/tier1/images/hurricane-florence_00000394_post_disaster.tif',\n",
              " '/content/drive/MyDrive/ML/geotiffs/tier1/images/hurricane-florence_00000278_post_disaster.tif',\n",
              " '/content/drive/MyDrive/ML/geotiffs/tier1/images/hurricane-florence_00000437_post_disaster.tif',\n",
              " '/content/drive/MyDrive/ML/geotiffs/tier1/images/hurricane-florence_00000183_post_disaster.tif',\n",
              " '/content/drive/MyDrive/ML/geotiffs/tier1/images/hurricane-florence_00000002_post_disaster.tif',\n",
              " '/content/drive/MyDrive/ML/geotiffs/tier1/images/hurricane-florence_00000356_post_disaster.tif',\n",
              " '/content/drive/MyDrive/ML/geotiffs/tier1/images/hurricane-florence_00000365_post_disaster.tif',\n",
              " '/content/drive/MyDrive/ML/geotiffs/tier1/images/hurricane-florence_00000319_post_disaster.tif',\n",
              " '/content/drive/MyDrive/ML/geotiffs/tier1/images/hurricane-florence_00000067_post_disaster.tif',\n",
              " '/content/drive/MyDrive/ML/geotiffs/tier1/images/hurricane-florence_00000252_post_disaster.tif',\n",
              " '/content/drive/MyDrive/ML/geotiffs/tier1/images/hurricane-florence_00000469_post_disaster.tif',\n",
              " '/content/drive/MyDrive/ML/geotiffs/tier1/images/hurricane-florence_00000084_post_disaster.tif',\n",
              " '/content/drive/MyDrive/ML/geotiffs/tier1/images/hurricane-florence_00000398_post_disaster.tif',\n",
              " '/content/drive/MyDrive/ML/geotiffs/tier1/images/hurricane-florence_00000310_post_disaster.tif',\n",
              " '/content/drive/MyDrive/ML/geotiffs/tier1/images/hurricane-florence_00000450_post_disaster.tif',\n",
              " '/content/drive/MyDrive/ML/geotiffs/tier1/images/hurricane-florence_00000237_post_disaster.tif',\n",
              " '/content/drive/MyDrive/ML/geotiffs/tier1/images/hurricane-florence_00000533_post_disaster.tif',\n",
              " '/content/drive/MyDrive/ML/geotiffs/tier1/images/hurricane-florence_00000224_post_disaster.tif',\n",
              " '/content/drive/MyDrive/ML/geotiffs/tier1/images/hurricane-florence_00000188_post_disaster.tif',\n",
              " '/content/drive/MyDrive/ML/geotiffs/tier1/images/hurricane-florence_00000101_post_disaster.tif',\n",
              " '/content/drive/MyDrive/ML/geotiffs/tier1/images/hurricane-florence_00000285_post_disaster.tif',\n",
              " '/content/drive/MyDrive/ML/geotiffs/tier1/images/hurricane-florence_00000531_post_disaster.tif',\n",
              " '/content/drive/MyDrive/ML/geotiffs/tier1/images/hurricane-florence_00000149_post_disaster.tif',\n",
              " '/content/drive/MyDrive/ML/geotiffs/tier1/images/hurricane-florence_00000153_post_disaster.tif',\n",
              " '/content/drive/MyDrive/ML/geotiffs/tier1/images/hurricane-florence_00000042_post_disaster.tif',\n",
              " '/content/drive/MyDrive/ML/geotiffs/tier1/images/hurricane-florence_00000044_post_disaster.tif',\n",
              " '/content/drive/MyDrive/ML/geotiffs/tier1/images/hurricane-florence_00000454_post_disaster.tif',\n",
              " '/content/drive/MyDrive/ML/geotiffs/tier1/images/hurricane-florence_00000425_post_disaster.tif',\n",
              " '/content/drive/MyDrive/ML/geotiffs/tier1/images/hurricane-florence_00000043_post_disaster.tif',\n",
              " '/content/drive/MyDrive/ML/geotiffs/tier1/images/hurricane-florence_00000132_post_disaster.tif',\n",
              " '/content/drive/MyDrive/ML/geotiffs/tier1/images/hurricane-florence_00000408_post_disaster.tif',\n",
              " '/content/drive/MyDrive/ML/geotiffs/tier1/images/hurricane-florence_00000494_post_disaster.tif',\n",
              " '/content/drive/MyDrive/ML/geotiffs/tier1/images/hurricane-florence_00000423_post_disaster.tif',\n",
              " '/content/drive/MyDrive/ML/geotiffs/tier1/images/hurricane-florence_00000139_post_disaster.tif',\n",
              " '/content/drive/MyDrive/ML/geotiffs/tier1/images/hurricane-florence_00000366_post_disaster.tif',\n",
              " '/content/drive/MyDrive/ML/geotiffs/tier1/images/hurricane-florence_00000372_post_disaster (1).tif',\n",
              " '/content/drive/MyDrive/ML/geotiffs/tier1/images/hurricane-florence_00000372_post_disaster.tif',\n",
              " '/content/drive/MyDrive/ML/geotiffs/tier1/images/hurricane-florence_00000500_post_disaster.tif',\n",
              " '/content/drive/MyDrive/ML/geotiffs/tier1/images/hurricane-florence_00000226_post_disaster.tif',\n",
              " '/content/drive/MyDrive/ML/geotiffs/tier1/images/hurricane-florence_00000420_post_disaster.tif',\n",
              " '/content/drive/MyDrive/ML/geotiffs/tier1/images/hurricane-florence_00000079_post_disaster.tif',\n",
              " '/content/drive/MyDrive/ML/geotiffs/tier1/images/hurricane-florence_00000344_post_disaster.tif',\n",
              " '/content/drive/MyDrive/ML/geotiffs/tier1/images/hurricane-florence_00000174_post_disaster.tif',\n",
              " '/content/drive/MyDrive/ML/geotiffs/tier1/images/hurricane-florence_00000335_post_disaster.tif',\n",
              " '/content/drive/MyDrive/ML/geotiffs/tier1/images/hurricane-florence_00000233_post_disaster.tif',\n",
              " '/content/drive/MyDrive/ML/geotiffs/tier1/images/hurricane-florence_00000115_post_disaster.tif',\n",
              " '/content/drive/MyDrive/ML/geotiffs/tier1/images/hurricane-florence_00000462_post_disaster.tif',\n",
              " '/content/drive/MyDrive/ML/geotiffs/tier1/images/hurricane-florence_00000312_post_disaster.tif',\n",
              " '/content/drive/MyDrive/ML/geotiffs/tier1/images/hurricane-florence_00000508_post_disaster.tif',\n",
              " '/content/drive/MyDrive/ML/geotiffs/tier1/images/hurricane-florence_00000302_post_disaster.tif',\n",
              " '/content/drive/MyDrive/ML/geotiffs/tier1/images/hurricane-florence_00000332_post_disaster.tif',\n",
              " '/content/drive/MyDrive/ML/geotiffs/tier1/images/hurricane-florence_00000355_post_disaster.tif',\n",
              " '/content/drive/MyDrive/ML/geotiffs/tier1/images/hurricane-florence_00000474_post_disaster.tif',\n",
              " '/content/drive/MyDrive/ML/geotiffs/tier1/images/hurricane-florence_00000334_post_disaster.tif',\n",
              " '/content/drive/MyDrive/ML/geotiffs/tier1/images/hurricane-florence_00000016_post_disaster.tif',\n",
              " '/content/drive/MyDrive/ML/geotiffs/tier1/images/hurricane-florence_00000003_post_disaster.tif',\n",
              " '/content/drive/MyDrive/ML/geotiffs/tier1/images/hurricane-florence_00000072_post_disaster.tif',\n",
              " '/content/drive/MyDrive/ML/geotiffs/tier1/images/hurricane-florence_00000026_post_disaster.tif',\n",
              " '/content/drive/MyDrive/ML/geotiffs/tier1/images/hurricane-florence_00000506_post_disaster.tif',\n",
              " '/content/drive/MyDrive/ML/geotiffs/tier1/images/hurricane-florence_00000091_post_disaster.tif',\n",
              " '/content/drive/MyDrive/ML/geotiffs/tier1/images/hurricane-florence_00000191_post_disaster.tif',\n",
              " '/content/drive/MyDrive/ML/geotiffs/tier1/images/hurricane-florence_00000263_post_disaster.tif',\n",
              " '/content/drive/MyDrive/ML/geotiffs/tier1/images/hurricane-florence_00000086_post_disaster.tif',\n",
              " '/content/drive/MyDrive/ML/geotiffs/tier1/images/hurricane-florence_00000195_post_disaster.tif',\n",
              " '/content/drive/MyDrive/ML/geotiffs/tier1/images/hurricane-florence_00000058_post_disaster.tif',\n",
              " '/content/drive/MyDrive/ML/geotiffs/tier1/images/hurricane-florence_00000126_post_disaster.tif',\n",
              " '/content/drive/MyDrive/ML/geotiffs/tier1/images/hurricane-florence_00000284_post_disaster.tif',\n",
              " '/content/drive/MyDrive/ML/geotiffs/tier1/images/hurricane-florence_00000217_post_disaster.tif',\n",
              " '/content/drive/MyDrive/ML/geotiffs/tier1/images/hurricane-florence_00000057_post_disaster.tif',\n",
              " '/content/drive/MyDrive/ML/geotiffs/tier1/images/hurricane-florence_00000478_post_disaster.tif',\n",
              " '/content/drive/MyDrive/ML/geotiffs/tier1/images/hurricane-florence_00000542_post_disaster.tif',\n",
              " '/content/drive/MyDrive/ML/geotiffs/tier1/images/hurricane-florence_00000382_post_disaster.tif',\n",
              " '/content/drive/MyDrive/ML/geotiffs/tier1/images/hurricane-florence_00000036_post_disaster.tif',\n",
              " '/content/drive/MyDrive/ML/geotiffs/tier1/images/hurricane-florence_00000368_post_disaster.tif',\n",
              " '/content/drive/MyDrive/ML/geotiffs/tier1/images/hurricane-florence_00000264_post_disaster.tif',\n",
              " '/content/drive/MyDrive/ML/geotiffs/tier1/images/hurricane-florence_00000210_post_disaster.tif',\n",
              " '/content/drive/MyDrive/ML/geotiffs/tier1/images/hurricane-florence_00000490_post_disaster.tif',\n",
              " '/content/drive/MyDrive/ML/geotiffs/tier1/images/hurricane-florence_00000275_post_disaster.tif',\n",
              " '/content/drive/MyDrive/ML/geotiffs/tier1/images/hurricane-florence_00000304_post_disaster.tif',\n",
              " '/content/drive/MyDrive/ML/geotiffs/tier1/images/hurricane-florence_00000114_post_disaster.tif',\n",
              " '/content/drive/MyDrive/ML/geotiffs/tier1/images/hurricane-florence_00000336_post_disaster.tif',\n",
              " '/content/drive/MyDrive/ML/geotiffs/tier1/images/hurricane-florence_00000212_post_disaster.tif',\n",
              " '/content/drive/MyDrive/ML/geotiffs/tier1/images/hurricane-florence_00000256_post_disaster.tif',\n",
              " '/content/drive/MyDrive/ML/geotiffs/tier1/images/hurricane-florence_00000061_post_disaster.tif',\n",
              " '/content/drive/MyDrive/ML/geotiffs/tier1/images/hurricane-florence_00000369_post_disaster (1).tif',\n",
              " '/content/drive/MyDrive/ML/geotiffs/tier1/images/hurricane-florence_00000369_post_disaster.tif',\n",
              " '/content/drive/MyDrive/ML/geotiffs/tier1/images/hurricane-florence_00000111_post_disaster.tif',\n",
              " '/content/drive/MyDrive/ML/geotiffs/tier1/images/hurricane-florence_00000527_post_disaster.tif',\n",
              " '/content/drive/MyDrive/ML/geotiffs/tier1/images/hurricane-florence_00000370_post_disaster.tif',\n",
              " '/content/drive/MyDrive/ML/geotiffs/tier1/images/hurricane-florence_00000229_post_disaster.tif',\n",
              " '/content/drive/MyDrive/ML/geotiffs/tier1/images/hurricane-florence_00000331_post_disaster.tif',\n",
              " '/content/drive/MyDrive/ML/geotiffs/tier1/images/hurricane-florence_00000282_post_disaster.tif',\n",
              " '/content/drive/MyDrive/ML/geotiffs/tier1/images/hurricane-florence_00000300_post_disaster.tif',\n",
              " '/content/drive/MyDrive/ML/geotiffs/tier1/images/hurricane-florence_00000106_post_disaster.tif',\n",
              " '/content/drive/MyDrive/ML/geotiffs/tier1/images/hurricane-florence_00000403_post_disaster (1).tif',\n",
              " '/content/drive/MyDrive/ML/geotiffs/tier1/images/hurricane-florence_00000403_post_disaster.tif',\n",
              " '/content/drive/MyDrive/ML/geotiffs/tier1/images/hurricane-florence_00000104_post_disaster.tif',\n",
              " '/content/drive/MyDrive/ML/geotiffs/tier1/images/hurricane-florence_00000222_post_disaster.tif',\n",
              " '/content/drive/MyDrive/ML/geotiffs/tier1/images/hurricane-florence_00000399_post_disaster.tif',\n",
              " '/content/drive/MyDrive/ML/geotiffs/tier1/images/hurricane-florence_00000514_post_disaster.tif',\n",
              " '/content/drive/MyDrive/ML/geotiffs/tier1/images/hurricane-florence_00000273_post_disaster.tif',\n",
              " '/content/drive/MyDrive/ML/geotiffs/tier1/images/hurricane-florence_00000498_post_disaster.tif',\n",
              " '/content/drive/MyDrive/ML/geotiffs/tier1/images/hurricane-florence_00000484_post_disaster.tif',\n",
              " '/content/drive/MyDrive/ML/geotiffs/tier1/images/hurricane-florence_00000424_post_disaster.tif',\n",
              " '/content/drive/MyDrive/ML/geotiffs/tier1/images/hurricane-florence_00000018_post_disaster.tif',\n",
              " '/content/drive/MyDrive/ML/geotiffs/tier1/images/hurricane-florence_00000156_post_disaster.tif',\n",
              " '/content/drive/MyDrive/ML/geotiffs/tier1/images/hurricane-florence_00000357_post_disaster.tif',\n",
              " '/content/drive/MyDrive/ML/geotiffs/tier1/images/hurricane-florence_00000315_post_disaster.tif',\n",
              " '/content/drive/MyDrive/ML/geotiffs/tier1/images/hurricane-florence_00000136_post_disaster.tif',\n",
              " '/content/drive/MyDrive/ML/geotiffs/tier1/images/hurricane-florence_00000073_post_disaster.tif',\n",
              " '/content/drive/MyDrive/ML/geotiffs/tier1/images/hurricane-florence_00000192_post_disaster.tif',\n",
              " '/content/drive/MyDrive/ML/geotiffs/tier1/images/hurricane-florence_00000397_post_disaster.tif',\n",
              " '/content/drive/MyDrive/ML/geotiffs/tier1/images/hurricane-florence_00000381_post_disaster.tif',\n",
              " '/content/drive/MyDrive/ML/geotiffs/tier1/images/hurricane-florence_00000320_post_disaster.tif',\n",
              " '/content/drive/MyDrive/ML/geotiffs/tier1/images/hurricane-florence_00000457_post_disaster.tif',\n",
              " '/content/drive/MyDrive/ML/geotiffs/tier1/images/hurricane-florence_00000404_post_disaster.tif',\n",
              " '/content/drive/MyDrive/ML/geotiffs/tier1/images/hurricane-florence_00000401_post_disaster.tif',\n",
              " '/content/drive/MyDrive/ML/geotiffs/tier1/images/hurricane-florence_00000063_post_disaster.tif',\n",
              " '/content/drive/MyDrive/ML/geotiffs/tier1/images/hurricane-florence_00000032_post_disaster.tif',\n",
              " '/content/drive/MyDrive/ML/geotiffs/tier1/images/hurricane-florence_00000251_post_disaster.tif',\n",
              " '/content/drive/MyDrive/ML/geotiffs/tier1/images/hurricane-florence_00000266_post_disaster.tif',\n",
              " '/content/drive/MyDrive/ML/geotiffs/tier1/images/hurricane-florence_00000515_post_disaster.tif',\n",
              " '/content/drive/MyDrive/ML/geotiffs/tier1/images/hurricane-florence_00000485_post_disaster.tif',\n",
              " '/content/drive/MyDrive/ML/geotiffs/tier1/images/hurricane-florence_00000279_post_disaster.tif',\n",
              " '/content/drive/MyDrive/ML/geotiffs/tier1/images/hurricane-florence_00000389_post_disaster.tif',\n",
              " '/content/drive/MyDrive/ML/geotiffs/tier1/images/hurricane-florence_00000522_post_disaster.tif',\n",
              " '/content/drive/MyDrive/ML/geotiffs/tier1/images/hurricane-florence_00000538_post_disaster.tif',\n",
              " '/content/drive/MyDrive/ML/geotiffs/tier1/images/hurricane-florence_00000497_post_disaster.tif',\n",
              " '/content/drive/MyDrive/ML/geotiffs/tier1/images/hurricane-florence_00000350_post_disaster.tif',\n",
              " '/content/drive/MyDrive/ML/geotiffs/tier1/images/hurricane-florence_00000159_post_disaster.tif',\n",
              " '/content/drive/MyDrive/ML/geotiffs/tier1/images/hurricane-florence_00000409_post_disaster.tif',\n",
              " '/content/drive/MyDrive/ML/geotiffs/tier1/images/hurricane-florence_00000218_post_disaster.tif',\n",
              " '/content/drive/MyDrive/ML/geotiffs/tier1/images/hurricane-florence_00000362_post_disaster (2).tif',\n",
              " '/content/drive/MyDrive/ML/geotiffs/tier1/images/hurricane-florence_00000362_post_disaster (1).tif',\n",
              " '/content/drive/MyDrive/ML/geotiffs/tier1/images/hurricane-florence_00000362_post_disaster.tif',\n",
              " '/content/drive/MyDrive/ML/geotiffs/tier1/images/hurricane-florence_00000428_post_disaster.tif',\n",
              " '/content/drive/MyDrive/ML/geotiffs/tier1/images/hurricane-florence_00000290_post_disaster.tif',\n",
              " '/content/drive/MyDrive/ML/geotiffs/tier1/images/hurricane-florence_00000151_post_disaster.tif',\n",
              " '/content/drive/MyDrive/ML/geotiffs/tier1/images/hurricane-florence_00000444_post_disaster.tif',\n",
              " '/content/drive/MyDrive/ML/geotiffs/tier1/images/hurricane-florence_00000536_post_disaster.tif',\n",
              " '/content/drive/MyDrive/ML/geotiffs/tier1/images/hurricane-florence_00000379_post_disaster.tif',\n",
              " '/content/drive/MyDrive/ML/geotiffs/tier1/images/hurricane-florence_00000503_post_disaster.tif',\n",
              " '/content/drive/MyDrive/ML/geotiffs/tier1/images/hurricane-florence_00000031_post_disaster.tif',\n",
              " '/content/drive/MyDrive/ML/geotiffs/tier1/images/hurricane-florence_00000492_post_disaster.tif',\n",
              " '/content/drive/MyDrive/ML/geotiffs/tier1/images/hurricane-florence_00000510_post_disaster.tif',\n",
              " '/content/drive/MyDrive/ML/geotiffs/tier1/images/hurricane-florence_00000467_post_disaster.tif',\n",
              " '/content/drive/MyDrive/ML/geotiffs/tier1/images/hurricane-florence_00000165_post_disaster.tif',\n",
              " '/content/drive/MyDrive/ML/geotiffs/tier1/images/hurricane-florence_00000493_post_disaster.tif',\n",
              " '/content/drive/MyDrive/ML/geotiffs/tier1/images/hurricane-florence_00000008_post_disaster.tif',\n",
              " '/content/drive/MyDrive/ML/geotiffs/tier1/images/hurricane-florence_00000053_post_disaster.tif',\n",
              " '/content/drive/MyDrive/ML/geotiffs/tier1/images/hurricane-florence_00000442_post_disaster.tif',\n",
              " '/content/drive/MyDrive/ML/geotiffs/tier1/images/hurricane-florence_00000277_post_disaster.tif',\n",
              " '/content/drive/MyDrive/ML/geotiffs/tier1/images/hurricane-florence_00000142_post_disaster.tif',\n",
              " '/content/drive/MyDrive/ML/geotiffs/tier1/images/hurricane-florence_00000316_post_disaster.tif',\n",
              " '/content/drive/MyDrive/ML/geotiffs/tier1/images/hurricane-florence_00000166_post_disaster.tif',\n",
              " '/content/drive/MyDrive/ML/geotiffs/tier1/images/hurricane-florence_00000431_post_disaster.tif',\n",
              " '/content/drive/MyDrive/ML/geotiffs/tier1/images/hurricane-florence_00000045_post_disaster.tif',\n",
              " '/content/drive/MyDrive/ML/geotiffs/tier1/images/hurricane-florence_00000472_post_disaster.tif',\n",
              " '/content/drive/MyDrive/ML/geotiffs/tier1/images/hurricane-florence_00000027_post_disaster.tif',\n",
              " '/content/drive/MyDrive/ML/geotiffs/tier1/images/hurricane-florence_00000361_post_disaster.tif',\n",
              " '/content/drive/MyDrive/ML/geotiffs/tier1/images/hurricane-florence_00000049_post_disaster.tif',\n",
              " '/content/drive/MyDrive/ML/geotiffs/tier1/images/hurricane-florence_00000140_post_disaster.tif',\n",
              " '/content/drive/MyDrive/ML/geotiffs/tier1/images/hurricane-florence_00000024_post_disaster.tif',\n",
              " '/content/drive/MyDrive/ML/geotiffs/tier1/images/hurricane-florence_00000020_post_disaster.tif',\n",
              " '/content/drive/MyDrive/ML/geotiffs/tier1/images/hurricane-florence_00000245_post_disaster.tif',\n",
              " '/content/drive/MyDrive/ML/geotiffs/tier1/images/hurricane-florence_00000445_post_disaster.tif',\n",
              " '/content/drive/MyDrive/ML/geotiffs/tier1/images/hurricane-florence_00000516_post_disaster.tif',\n",
              " '/content/drive/MyDrive/ML/geotiffs/tier1/images/hurricane-florence_00000037_post_disaster.tif',\n",
              " '/content/drive/MyDrive/ML/geotiffs/tier1/images/hurricane-florence_00000501_post_disaster.tif',\n",
              " '/content/drive/MyDrive/ML/geotiffs/tier1/images/hurricane-florence_00000001_post_disaster.tif',\n",
              " '/content/drive/MyDrive/ML/geotiffs/tier1/images/hurricane-florence_00000452_post_disaster.tif',\n",
              " '/content/drive/MyDrive/ML/geotiffs/tier1/images/hurricane-florence_00000069_post_disaster.tif',\n",
              " '/content/drive/MyDrive/ML/geotiffs/tier1/images/hurricane-florence_00000470_post_disaster.tif',\n",
              " '/content/drive/MyDrive/ML/geotiffs/tier1/images/hurricane-florence_00000055_post_disaster.tif',\n",
              " '/content/drive/MyDrive/ML/geotiffs/tier1/images/hurricane-florence_00000178_post_disaster.tif',\n",
              " '/content/drive/MyDrive/ML/geotiffs/tier1/images/hurricane-florence_00000146_post_disaster.tif',\n",
              " '/content/drive/MyDrive/ML/geotiffs/tier1/images/hurricane-florence_00000048_post_disaster.tif',\n",
              " '/content/drive/MyDrive/ML/geotiffs/tier1/images/hurricane-florence_00000451_post_disaster.tif',\n",
              " '/content/drive/MyDrive/ML/geotiffs/tier1/images/hurricane-florence_00000426_post_disaster.tif',\n",
              " '/content/drive/MyDrive/ML/geotiffs/tier1/images/hurricane-florence_00000513_post_disaster.tif',\n",
              " '/content/drive/MyDrive/ML/geotiffs/tier1/images/hurricane-florence_00000376_post_disaster.tif',\n",
              " '/content/drive/MyDrive/ML/geotiffs/tier1/images/hurricane-florence_00000100_post_disaster.tif',\n",
              " '/content/drive/MyDrive/ML/geotiffs/tier1/images/hurricane-florence_00000274_post_disaster.tif',\n",
              " '/content/drive/MyDrive/ML/geotiffs/tier1/images/hurricane-florence_00000459_post_disaster.tif',\n",
              " '/content/drive/MyDrive/ML/geotiffs/tier1/images/hurricane-florence_00000148_post_disaster.tif',\n",
              " '/content/drive/MyDrive/ML/geotiffs/tier1/images/hurricane-florence_00000269_post_disaster.tif',\n",
              " '/content/drive/MyDrive/ML/geotiffs/tier1/images/hurricane-florence_00000405_post_disaster.tif',\n",
              " '/content/drive/MyDrive/ML/geotiffs/tier1/images/hurricane-florence_00000313_post_disaster.tif',\n",
              " '/content/drive/MyDrive/ML/geotiffs/tier1/images/hurricane-florence_00000512_post_disaster.tif',\n",
              " '/content/drive/MyDrive/ML/geotiffs/tier1/images/hurricane-florence_00000203_post_disaster.tif',\n",
              " '/content/drive/MyDrive/ML/geotiffs/tier1/images/hurricane-florence_00000309_post_disaster.tif',\n",
              " '/content/drive/MyDrive/ML/geotiffs/tier1/images/hurricane-florence_00000093_post_disaster (1).tif',\n",
              " '/content/drive/MyDrive/ML/geotiffs/tier1/images/hurricane-florence_00000093_post_disaster.tif',\n",
              " '/content/drive/MyDrive/ML/geotiffs/tier1/images/hurricane-florence_00000122_post_disaster.tif',\n",
              " '/content/drive/MyDrive/ML/geotiffs/tier1/images/hurricane-florence_00000324_post_disaster.tif',\n",
              " '/content/drive/MyDrive/ML/geotiffs/tier1/images/hurricane-florence_00000460_post_disaster.tif',\n",
              " '/content/drive/MyDrive/ML/geotiffs/tier1/images/hurricane-florence_00000414_post_disaster.tif',\n",
              " '/content/drive/MyDrive/ML/geotiffs/tier1/images/hurricane-florence_00000325_post_disaster.tif',\n",
              " '/content/drive/MyDrive/ML/geotiffs/tier1/images/hurricane-florence_00000118_post_disaster.tif',\n",
              " '/content/drive/MyDrive/ML/geotiffs/tier1/images/hurricane-florence_00000120_post_disaster.tif',\n",
              " '/content/drive/MyDrive/ML/geotiffs/tier1/images/hurricane-florence_00000329_post_disaster.tif',\n",
              " '/content/drive/MyDrive/ML/geotiffs/tier1/images/hurricane-florence_00000340_post_disaster.tif',\n",
              " '/content/drive/MyDrive/ML/geotiffs/tier1/images/hurricane-florence_00000144_post_disaster.tif',\n",
              " '/content/drive/MyDrive/ML/geotiffs/tier1/images/hurricane-florence_00000435_post_disaster.tif',\n",
              " '/content/drive/MyDrive/ML/geotiffs/tier1/images/hurricane-florence_00000441_post_disaster.tif',\n",
              " '/content/drive/MyDrive/ML/geotiffs/tier1/images/hurricane-florence_00000523_post_disaster.tif',\n",
              " '/content/drive/MyDrive/ML/geotiffs/tier1/images/hurricane-florence_00000537_post_disaster.tif',\n",
              " '/content/drive/MyDrive/ML/geotiffs/tier1/images/hurricane-florence_00000102_post_disaster.tif',\n",
              " '/content/drive/MyDrive/ML/geotiffs/tier1/images/hurricane-florence_00000168_post_disaster.tif',\n",
              " '/content/drive/MyDrive/ML/geotiffs/tier1/images/hurricane-florence_00000062_post_disaster.tif',\n",
              " '/content/drive/MyDrive/ML/geotiffs/tier1/images/hurricane-florence_00000449_post_disaster.tif',\n",
              " '/content/drive/MyDrive/ML/geotiffs/tier1/images/hurricane-florence_00000453_post_disaster.tif',\n",
              " '/content/drive/MyDrive/ML/geotiffs/tier1/images/hurricane-florence_00000407_post_disaster.tif',\n",
              " '/content/drive/MyDrive/ML/geotiffs/tier1/images/hurricane-florence_00000388_post_disaster.tif',\n",
              " '/content/drive/MyDrive/ML/geotiffs/tier1/images/hurricane-florence_00000349_post_disaster.tif',\n",
              " '/content/drive/MyDrive/ML/geotiffs/tier1/images/hurricane-florence_00000185_post_disaster.tif',\n",
              " '/content/drive/MyDrive/ML/geotiffs/tier1/images/hurricane-florence_00000416_post_disaster.tif',\n",
              " '/content/drive/MyDrive/ML/geotiffs/tier1/images/hurricane-florence_00000244_post_disaster.tif',\n",
              " '/content/drive/MyDrive/ML/geotiffs/tier1/images/hurricane-florence_00000138_post_disaster.tif',\n",
              " '/content/drive/MyDrive/ML/geotiffs/tier1/images/hurricane-florence_00000314_post_disaster.tif',\n",
              " '/content/drive/MyDrive/ML/geotiffs/tier1/images/hurricane-florence_00000022_post_disaster.tif',\n",
              " '/content/drive/MyDrive/ML/geotiffs/tier1/images/hurricane-florence_00000529_post_disaster.tif',\n",
              " '/content/drive/MyDrive/ML/geotiffs/tier1/images/hurricane-florence_00000346_post_disaster.tif',\n",
              " '/content/drive/MyDrive/ML/geotiffs/tier1/images/hurricane-florence_00000065_post_disaster.tif',\n",
              " '/content/drive/MyDrive/ML/geotiffs/tier1/images/hurricane-florence_00000080_post_disaster.tif',\n",
              " '/content/drive/MyDrive/ML/geotiffs/tier1/images/hurricane-florence_00000164_post_disaster.tif',\n",
              " '/content/drive/MyDrive/ML/geotiffs/tier1/images/hurricane-florence_00000163_post_disaster.tif',\n",
              " '/content/drive/MyDrive/ML/geotiffs/tier1/images/hurricane-florence_00000051_post_disaster.tif',\n",
              " '/content/drive/MyDrive/ML/geotiffs/tier1/images/hurricane-florence_00000419_post_disaster.tif',\n",
              " '/content/drive/MyDrive/ML/geotiffs/tier1/images/hurricane-florence_00000374_post_disaster.tif',\n",
              " '/content/drive/MyDrive/ML/geotiffs/tier1/images/hurricane-florence_00000353_post_disaster.tif',\n",
              " '/content/drive/MyDrive/ML/geotiffs/tier1/images/hurricane-florence_00000392_post_disaster.tif',\n",
              " '/content/drive/MyDrive/ML/geotiffs/tier1/images/hurricane-florence_00000000_post_disaster.tif',\n",
              " '/content/drive/MyDrive/ML/geotiffs/tier1/images/hurricane-florence_00000545_post_disaster.tif',\n",
              " '/content/drive/MyDrive/ML/geotiffs/tier1/images/hurricane-florence_00000289_post_disaster.tif',\n",
              " '/content/drive/MyDrive/ML/geotiffs/tier1/images/hurricane-florence_00000298_post_disaster.tif',\n",
              " '/content/drive/MyDrive/ML/geotiffs/tier1/images/hurricane-florence_00000387_post_disaster.tif',\n",
              " '/content/drive/MyDrive/ML/geotiffs/tier1/images/hurricane-florence_00000096_post_disaster.tif',\n",
              " '/content/drive/MyDrive/ML/geotiffs/tier1/images/hurricane-florence_00000504_post_disaster.tif',\n",
              " '/content/drive/MyDrive/ML/geotiffs/tier1/images/hurricane-florence_00000070_post_disaster.tif',\n",
              " '/content/drive/MyDrive/ML/geotiffs/tier1/images/hurricane-florence_00000526_post_disaster.tif',\n",
              " '/content/drive/MyDrive/ML/geotiffs/tier1/images/hurricane-florence_00000247_post_disaster.tif',\n",
              " '/content/drive/MyDrive/ML/geotiffs/tier1/images/hurricane-florence_00000438_post_disaster.tif',\n",
              " '/content/drive/MyDrive/ML/geotiffs/tier1/images/hurricane-florence_00000345_post_disaster.tif',\n",
              " '/content/drive/MyDrive/ML/geotiffs/tier1/images/hurricane-florence_00000380_post_disaster.tif',\n",
              " '/content/drive/MyDrive/ML/geotiffs/tier1/images/hurricane-florence_00000341_post_disaster.tif',\n",
              " '/content/drive/MyDrive/ML/geotiffs/tier1/images/hurricane-florence_00000418_post_disaster (1).tif',\n",
              " '/content/drive/MyDrive/ML/geotiffs/tier1/images/hurricane-florence_00000418_post_disaster.tif',\n",
              " '/content/drive/MyDrive/ML/geotiffs/tier1/images/hurricane-florence_00000481_post_disaster.tif',\n",
              " '/content/drive/MyDrive/ML/geotiffs/tier1/images/hurricane-florence_00000347_post_disaster.tif',\n",
              " '/content/drive/MyDrive/ML/geotiffs/tier1/images/hurricane-florence_00000060_post_disaster.tif',\n",
              " '/content/drive/MyDrive/ML/geotiffs/tier1/images/hurricane-florence_00000436_post_disaster.tif',\n",
              " '/content/drive/MyDrive/ML/geotiffs/tier1/images/hurricane-florence_00000059_post_disaster.tif',\n",
              " '/content/drive/MyDrive/ML/geotiffs/tier1/images/hurricane-florence_00000461_post_disaster.tif',\n",
              " '/content/drive/MyDrive/ML/geotiffs/tier1/images/hurricane-florence_00000189_post_disaster.tif',\n",
              " '/content/drive/MyDrive/ML/geotiffs/tier1/images/hurricane-florence_00000259_post_disaster.tif',\n",
              " '/content/drive/MyDrive/ML/geotiffs/tier1/images/hurricane-florence_00000255_post_disaster.tif',\n",
              " '/content/drive/MyDrive/ML/geotiffs/tier1/images/hurricane-florence_00000103_post_disaster.tif',\n",
              " '/content/drive/MyDrive/ML/geotiffs/tier1/images/hurricane-florence_00000306_post_disaster.tif',\n",
              " '/content/drive/MyDrive/ML/geotiffs/tier1/images/hurricane-florence_00000475_post_disaster.tif',\n",
              " '/content/drive/MyDrive/ML/geotiffs/tier1/images/hurricane-florence_00000338_post_disaster.tif',\n",
              " '/content/drive/MyDrive/ML/geotiffs/tier1/images/hurricane-florence_00000410_post_disaster.tif',\n",
              " '/content/drive/MyDrive/ML/geotiffs/tier1/images/hurricane-florence_00000158_post_disaster.tif',\n",
              " '/content/drive/MyDrive/ML/geotiffs/tier1/images/hurricane-florence_00000328_post_disaster.tif',\n",
              " '/content/drive/MyDrive/ML/geotiffs/tier1/images/hurricane-florence_00000075_post_disaster.tif',\n",
              " '/content/drive/MyDrive/ML/geotiffs/tier1/images/hurricane-florence_00000216_post_disaster.tif',\n",
              " '/content/drive/MyDrive/ML/geotiffs/tier1/images/hurricane-florence_00000411_post_disaster.tif',\n",
              " '/content/drive/MyDrive/ML/geotiffs/tier1/images/hurricane-florence_00000433_post_disaster.tif',\n",
              " '/content/drive/MyDrive/ML/geotiffs/tier1/images/hurricane-florence_00000371_post_disaster.tif',\n",
              " '/content/drive/MyDrive/ML/geotiffs/tier1/images/hurricane-florence_00000194_post_disaster.tif',\n",
              " '/content/drive/MyDrive/ML/geotiffs/tier1/images/hurricane-florence_00000359_post_disaster.tif',\n",
              " '/content/drive/MyDrive/ML/geotiffs/tier1/images/hurricane-florence_00000297_post_disaster (1).tif',\n",
              " '/content/drive/MyDrive/ML/geotiffs/tier1/images/hurricane-florence_00000297_post_disaster.tif',\n",
              " '/content/drive/MyDrive/ML/geotiffs/tier1/images/hurricane-florence_00000190_post_disaster.tif',\n",
              " '/content/drive/MyDrive/ML/geotiffs/tier1/images/hurricane-florence_00000242_post_disaster.tif',\n",
              " '/content/drive/MyDrive/ML/geotiffs/tier1/images/hurricane-florence_00000219_post_disaster.tif',\n",
              " '/content/drive/MyDrive/ML/geotiffs/tier1/images/hurricane-florence_00000232_post_disaster.tif',\n",
              " '/content/drive/MyDrive/ML/geotiffs/tier1/images/hurricane-florence_00000015_post_disaster.tif',\n",
              " '/content/drive/MyDrive/ML/geotiffs/tier1/images/hurricane-harvey_00000438_post_disaster.tif',\n",
              " '/content/drive/MyDrive/ML/geotiffs/tier1/images/hurricane-harvey_00000002_post_disaster.tif',\n",
              " '/content/drive/MyDrive/ML/geotiffs/tier1/images/hurricane-harvey_00000051_post_disaster.tif',\n",
              " '/content/drive/MyDrive/ML/geotiffs/tier1/images/hurricane-harvey_00000408_post_disaster.tif',\n",
              " '/content/drive/MyDrive/ML/geotiffs/tier1/images/hurricane-harvey_00000517_post_disaster.tif',\n",
              " '/content/drive/MyDrive/ML/geotiffs/tier1/images/hurricane-harvey_00000233_post_disaster.tif',\n",
              " '/content/drive/MyDrive/ML/geotiffs/tier1/images/hurricane-harvey_00000160_post_disaster.tif',\n",
              " '/content/drive/MyDrive/ML/geotiffs/tier1/images/hurricane-harvey_00000066_post_disaster.tif',\n",
              " '/content/drive/MyDrive/ML/geotiffs/tier1/images/hurricane-harvey_00000214_post_disaster.tif',\n",
              " '/content/drive/MyDrive/ML/geotiffs/tier1/images/hurricane-harvey_00000327_post_disaster.tif',\n",
              " '/content/drive/MyDrive/ML/geotiffs/tier1/images/hurricane-harvey_00000302_post_disaster.tif',\n",
              " '/content/drive/MyDrive/ML/geotiffs/tier1/images/hurricane-harvey_00000505_post_disaster.tif',\n",
              " '/content/drive/MyDrive/ML/geotiffs/tier1/images/hurricane-harvey_00000336_post_disaster.tif',\n",
              " '/content/drive/MyDrive/ML/geotiffs/tier1/images/hurricane-harvey_00000019_post_disaster (1).tif',\n",
              " '/content/drive/MyDrive/ML/geotiffs/tier1/images/hurricane-harvey_00000056_post_disaster.tif',\n",
              " '/content/drive/MyDrive/ML/geotiffs/tier1/images/hurricane-harvey_00000019_post_disaster.tif',\n",
              " '/content/drive/MyDrive/ML/geotiffs/tier1/images/hurricane-harvey_00000289_post_disaster.tif',\n",
              " '/content/drive/MyDrive/ML/geotiffs/tier1/images/hurricane-harvey_00000030_post_disaster.tif',\n",
              " '/content/drive/MyDrive/ML/geotiffs/tier1/images/hurricane-harvey_00000280_post_disaster.tif',\n",
              " '/content/drive/MyDrive/ML/geotiffs/tier1/images/hurricane-harvey_00000381_post_disaster.tif',\n",
              " '/content/drive/MyDrive/ML/geotiffs/tier1/images/hurricane-harvey_00000169_post_disaster.tif',\n",
              " '/content/drive/MyDrive/ML/geotiffs/tier1/images/hurricane-harvey_00000265_post_disaster.tif',\n",
              " '/content/drive/MyDrive/ML/geotiffs/tier1/images/hurricane-harvey_00000317_post_disaster.tif',\n",
              " '/content/drive/MyDrive/ML/geotiffs/tier1/images/hurricane-harvey_00000506_post_disaster.tif',\n",
              " '/content/drive/MyDrive/ML/geotiffs/tier1/images/hurricane-harvey_00000419_post_disaster.tif',\n",
              " '/content/drive/MyDrive/ML/geotiffs/tier1/images/hurricane-harvey_00000178_post_disaster.tif',\n",
              " '/content/drive/MyDrive/ML/geotiffs/tier1/images/hurricane-harvey_00000157_post_disaster.tif',\n",
              " '/content/drive/MyDrive/ML/geotiffs/tier1/images/hurricane-harvey_00000330_post_disaster.tif',\n",
              " '/content/drive/MyDrive/ML/geotiffs/tier1/images/hurricane-harvey_00000249_post_disaster.tif',\n",
              " '/content/drive/MyDrive/ML/geotiffs/tier1/images/hurricane-harvey_00000059_post_disaster.tif',\n",
              " '/content/drive/MyDrive/ML/geotiffs/tier1/images/hurricane-harvey_00000220_post_disaster.tif',\n",
              " '/content/drive/MyDrive/ML/geotiffs/tier1/images/hurricane-harvey_00000072_post_disaster.tif',\n",
              " '/content/drive/MyDrive/ML/geotiffs/tier1/images/hurricane-harvey_00000123_post_disaster.tif',\n",
              " '/content/drive/MyDrive/ML/geotiffs/tier1/images/hurricane-harvey_00000244_post_disaster.tif',\n",
              " '/content/drive/MyDrive/ML/geotiffs/tier1/images/hurricane-harvey_00000026_post_disaster.tif',\n",
              " '/content/drive/MyDrive/ML/geotiffs/tier1/images/hurricane-harvey_00000502_post_disaster.tif',\n",
              " '/content/drive/MyDrive/ML/geotiffs/tier1/images/hurricane-harvey_00000172_post_disaster.tif',\n",
              " '/content/drive/MyDrive/ML/geotiffs/tier1/images/hurricane-harvey_00000361_post_disaster.tif',\n",
              " '/content/drive/MyDrive/ML/geotiffs/tier1/images/hurricane-harvey_00000367_post_disaster.tif',\n",
              " '/content/drive/MyDrive/ML/geotiffs/tier1/images/hurricane-harvey_00000471_post_disaster.tif',\n",
              " '/content/drive/MyDrive/ML/geotiffs/tier1/images/hurricane-harvey_00000325_post_disaster.tif',\n",
              " '/content/drive/MyDrive/ML/geotiffs/tier1/images/hurricane-harvey_00000439_post_disaster.tif',\n",
              " '/content/drive/MyDrive/ML/geotiffs/tier1/images/hurricane-harvey_00000174_post_disaster.tif',\n",
              " '/content/drive/MyDrive/ML/geotiffs/tier1/images/hurricane-harvey_00000478_post_disaster.tif',\n",
              " '/content/drive/MyDrive/ML/geotiffs/tier1/images/hurricane-harvey_00000500_post_disaster.tif',\n",
              " '/content/drive/MyDrive/ML/geotiffs/tier1/images/hurricane-harvey_00000434_post_disaster.tif',\n",
              " '/content/drive/MyDrive/ML/geotiffs/tier1/images/hurricane-harvey_00000009_post_disaster.tif',\n",
              " '/content/drive/MyDrive/ML/geotiffs/tier1/images/hurricane-harvey_00000348_post_disaster.tif',\n",
              " '/content/drive/MyDrive/ML/geotiffs/tier1/images/hurricane-harvey_00000400_post_disaster.tif',\n",
              " '/content/drive/MyDrive/ML/geotiffs/tier1/images/hurricane-harvey_00000046_post_disaster.tif',\n",
              " '/content/drive/MyDrive/ML/geotiffs/tier1/images/hurricane-harvey_00000016_post_disaster.tif',\n",
              " '/content/drive/MyDrive/ML/geotiffs/tier1/images/hurricane-harvey_00000391_post_disaster.tif',\n",
              " '/content/drive/MyDrive/ML/geotiffs/tier1/images/hurricane-harvey_00000482_post_disaster.tif',\n",
              " '/content/drive/MyDrive/ML/geotiffs/tier1/images/hurricane-harvey_00000431_post_disaster.tif',\n",
              " '/content/drive/MyDrive/ML/geotiffs/tier1/images/hurricane-harvey_00000197_post_disaster.tif',\n",
              " '/content/drive/MyDrive/ML/geotiffs/tier1/images/hurricane-harvey_00000130_post_disaster.tif',\n",
              " '/content/drive/MyDrive/ML/geotiffs/tier1/images/hurricane-harvey_00000203_post_disaster.tif',\n",
              " '/content/drive/MyDrive/ML/geotiffs/tier1/images/hurricane-harvey_00000146_post_disaster.tif',\n",
              " '/content/drive/MyDrive/ML/geotiffs/tier1/images/hurricane-harvey_00000048_post_disaster.tif',\n",
              " '/content/drive/MyDrive/ML/geotiffs/tier1/images/hurricane-harvey_00000347_post_disaster.tif',\n",
              " '/content/drive/MyDrive/ML/geotiffs/tier1/images/hurricane-harvey_00000521_post_disaster.tif',\n",
              " '/content/drive/MyDrive/ML/geotiffs/tier1/images/hurricane-harvey_00000380_post_disaster.tif',\n",
              " '/content/drive/MyDrive/ML/geotiffs/tier1/images/hurricane-harvey_00000435_post_disaster.tif',\n",
              " '/content/drive/MyDrive/ML/geotiffs/tier1/images/hurricane-harvey_00000080_post_disaster.tif',\n",
              " '/content/drive/MyDrive/ML/geotiffs/tier1/images/hurricane-harvey_00000413_post_disaster.tif',\n",
              " '/content/drive/MyDrive/ML/geotiffs/tier1/images/hurricane-harvey_00000171_post_disaster.tif',\n",
              " '/content/drive/MyDrive/ML/geotiffs/tier1/images/hurricane-harvey_00000365_post_disaster.tif',\n",
              " '/content/drive/MyDrive/ML/geotiffs/tier1/images/hurricane-harvey_00000204_post_disaster.tif',\n",
              " '/content/drive/MyDrive/ML/geotiffs/tier1/images/hurricane-harvey_00000255_post_disaster.tif',\n",
              " '/content/drive/MyDrive/ML/geotiffs/tier1/images/hurricane-harvey_00000091_post_disaster (1).tif',\n",
              " '/content/drive/MyDrive/ML/geotiffs/tier1/images/hurricane-harvey_00000315_post_disaster.tif',\n",
              " '/content/drive/MyDrive/ML/geotiffs/tier1/images/hurricane-harvey_00000091_post_disaster.tif',\n",
              " '/content/drive/MyDrive/ML/geotiffs/tier1/images/hurricane-harvey_00000292_post_disaster.tif',\n",
              " '/content/drive/MyDrive/ML/geotiffs/tier1/images/hurricane-harvey_00000210_post_disaster.tif',\n",
              " '/content/drive/MyDrive/ML/geotiffs/tier1/images/hurricane-harvey_00000374_post_disaster.tif',\n",
              " '/content/drive/MyDrive/ML/geotiffs/tier1/images/hurricane-harvey_00000235_post_disaster.tif',\n",
              " '/content/drive/MyDrive/ML/geotiffs/tier1/images/hurricane-harvey_00000384_post_disaster.tif',\n",
              " '/content/drive/MyDrive/ML/geotiffs/tier1/images/hurricane-harvey_00000107_post_disaster.tif',\n",
              " '/content/drive/MyDrive/ML/geotiffs/tier1/images/hurricane-harvey_00000300_post_disaster.tif',\n",
              " '/content/drive/MyDrive/ML/geotiffs/tier1/images/hurricane-harvey_00000104_post_disaster.tif',\n",
              " '/content/drive/MyDrive/ML/geotiffs/tier1/images/hurricane-harvey_00000358_post_disaster.tif',\n",
              " '/content/drive/MyDrive/ML/geotiffs/tier1/images/hurricane-harvey_00000337_post_disaster.tif',\n",
              " '/content/drive/MyDrive/ML/geotiffs/tier1/images/hurricane-harvey_00000388_post_disaster.tif',\n",
              " '/content/drive/MyDrive/ML/geotiffs/tier1/images/hurricane-harvey_00000520_post_disaster.tif',\n",
              " '/content/drive/MyDrive/ML/geotiffs/tier1/images/hurricane-harvey_00000047_post_disaster.tif',\n",
              " '/content/drive/MyDrive/ML/geotiffs/tier1/images/hurricane-harvey_00000512_post_disaster.tif',\n",
              " '/content/drive/MyDrive/ML/geotiffs/tier1/images/hurricane-harvey_00000239_post_disaster.tif',\n",
              " '/content/drive/MyDrive/ML/geotiffs/tier1/images/hurricane-harvey_00000366_post_disaster.tif',\n",
              " '/content/drive/MyDrive/ML/geotiffs/tier1/images/hurricane-harvey_00000373_post_disaster.tif',\n",
              " '/content/drive/MyDrive/ML/geotiffs/tier1/images/hurricane-harvey_00000084_post_disaster.tif',\n",
              " '/content/drive/MyDrive/ML/geotiffs/tier1/images/hurricane-harvey_00000266_post_disaster.tif',\n",
              " '/content/drive/MyDrive/ML/geotiffs/tier1/images/hurricane-harvey_00000137_post_disaster.tif',\n",
              " '/content/drive/MyDrive/ML/geotiffs/tier1/images/hurricane-harvey_00000212_post_disaster.tif',\n",
              " '/content/drive/MyDrive/ML/geotiffs/tier1/images/hurricane-harvey_00000316_post_disaster.tif',\n",
              " '/content/drive/MyDrive/ML/geotiffs/tier1/images/hurricane-harvey_00000427_post_disaster.tif',\n",
              " '/content/drive/MyDrive/ML/geotiffs/tier1/images/hurricane-harvey_00000100_post_disaster.tif',\n",
              " '/content/drive/MyDrive/ML/geotiffs/tier1/images/hurricane-harvey_00000113_post_disaster.tif',\n",
              " '/content/drive/MyDrive/ML/geotiffs/tier1/images/hurricane-harvey_00000426_post_disaster.tif',\n",
              " '/content/drive/MyDrive/ML/geotiffs/tier1/images/hurricane-harvey_00000354_post_disaster.tif',\n",
              " '/content/drive/MyDrive/ML/geotiffs/tier1/images/hurricane-harvey_00000052_post_disaster.tif',\n",
              " '/content/drive/MyDrive/ML/geotiffs/tier1/images/hurricane-harvey_00000443_post_disaster.tif',\n",
              " '/content/drive/MyDrive/ML/geotiffs/tier1/images/hurricane-harvey_00000134_post_disaster.tif',\n",
              " '/content/drive/MyDrive/ML/geotiffs/tier1/images/hurricane-harvey_00000045_post_disaster.tif',\n",
              " '/content/drive/MyDrive/ML/geotiffs/tier1/images/hurricane-harvey_00000389_post_disaster.tif',\n",
              " '/content/drive/MyDrive/ML/geotiffs/tier1/images/hurricane-harvey_00000515_post_disaster.tif',\n",
              " '/content/drive/MyDrive/ML/geotiffs/tier1/images/hurricane-harvey_00000442_post_disaster.tif',\n",
              " '/content/drive/MyDrive/ML/geotiffs/tier1/images/hurricane-harvey_00000285_post_disaster (1).tif',\n",
              " '/content/drive/MyDrive/ML/geotiffs/tier1/images/hurricane-harvey_00000170_post_disaster.tif',\n",
              " '/content/drive/MyDrive/ML/geotiffs/tier1/images/hurricane-harvey_00000511_post_disaster.tif',\n",
              " '/content/drive/MyDrive/ML/geotiffs/tier1/images/hurricane-harvey_00000285_post_disaster.tif',\n",
              " '/content/drive/MyDrive/ML/geotiffs/tier1/images/hurricane-harvey_00000061_post_disaster.tif',\n",
              " '/content/drive/MyDrive/ML/geotiffs/tier1/images/hurricane-harvey_00000261_post_disaster.tif',\n",
              " '/content/drive/MyDrive/ML/geotiffs/tier1/images/hurricane-harvey_00000010_post_disaster.tif',\n",
              " '/content/drive/MyDrive/ML/geotiffs/tier1/images/hurricane-harvey_00000053_post_disaster.tif',\n",
              " '/content/drive/MyDrive/ML/geotiffs/tier1/images/hurricane-harvey_00000494_post_disaster.tif',\n",
              " '/content/drive/MyDrive/ML/geotiffs/tier1/images/hurricane-harvey_00000222_post_disaster.tif',\n",
              " '/content/drive/MyDrive/ML/geotiffs/tier1/images/hurricane-harvey_00000379_post_disaster.tif',\n",
              " '/content/drive/MyDrive/ML/geotiffs/tier1/images/hurricane-harvey_00000168_post_disaster.tif',\n",
              " '/content/drive/MyDrive/ML/geotiffs/tier1/images/hurricane-harvey_00000008_post_disaster.tif',\n",
              " '/content/drive/MyDrive/ML/geotiffs/tier1/images/hurricane-harvey_00000237_post_disaster.tif',\n",
              " '/content/drive/MyDrive/ML/geotiffs/tier1/images/hurricane-harvey_00000165_post_disaster.tif',\n",
              " '/content/drive/MyDrive/ML/geotiffs/tier1/images/hurricane-harvey_00000085_post_disaster.tif',\n",
              " '/content/drive/MyDrive/ML/geotiffs/tier1/images/hurricane-harvey_00000437_post_disaster.tif',\n",
              " '/content/drive/MyDrive/ML/geotiffs/tier1/images/hurricane-harvey_00000425_post_disaster.tif',\n",
              " '/content/drive/MyDrive/ML/geotiffs/tier1/images/hurricane-harvey_00000001_post_disaster.tif',\n",
              " '/content/drive/MyDrive/ML/geotiffs/tier1/images/hurricane-harvey_00000128_post_disaster.tif',\n",
              " '/content/drive/MyDrive/ML/geotiffs/tier1/images/hurricane-harvey_00000194_post_disaster.tif',\n",
              " '/content/drive/MyDrive/ML/geotiffs/tier1/images/hurricane-harvey_00000338_post_disaster.tif',\n",
              " '/content/drive/MyDrive/ML/geotiffs/tier1/images/hurricane-harvey_00000079_post_disaster.tif',\n",
              " '/content/drive/MyDrive/ML/geotiffs/tier1/images/hurricane-harvey_00000262_post_disaster.tif',\n",
              " '/content/drive/MyDrive/ML/geotiffs/tier1/images/hurricane-harvey_00000136_post_disaster.tif',\n",
              " '/content/drive/MyDrive/ML/geotiffs/tier1/images/hurricane-harvey_00000180_post_disaster.tif',\n",
              " '/content/drive/MyDrive/ML/geotiffs/tier1/images/hurricane-harvey_00000313_post_disaster.tif',\n",
              " '/content/drive/MyDrive/ML/geotiffs/tier1/images/hurricane-harvey_00000224_post_disaster.tif',\n",
              " '/content/drive/MyDrive/ML/geotiffs/tier1/images/hurricane-harvey_00000495_post_disaster.tif',\n",
              " '/content/drive/MyDrive/ML/geotiffs/tier1/images/hurricane-harvey_00000387_post_disaster.tif',\n",
              " '/content/drive/MyDrive/ML/geotiffs/tier1/images/hurricane-harvey_00000507_post_disaster.tif',\n",
              " '/content/drive/MyDrive/ML/geotiffs/tier1/images/hurricane-harvey_00000392_post_disaster.tif',\n",
              " '/content/drive/MyDrive/ML/geotiffs/tier1/images/hurricane-harvey_00000469_post_disaster.tif',\n",
              " '/content/drive/MyDrive/ML/geotiffs/tier1/images/hurricane-harvey_00000446_post_disaster.tif',\n",
              " '/content/drive/MyDrive/ML/geotiffs/tier1/images/hurricane-harvey_00000260_post_disaster.tif',\n",
              " '/content/drive/MyDrive/ML/geotiffs/tier1/images/hurricane-harvey_00000226_post_disaster.tif',\n",
              " '/content/drive/MyDrive/ML/geotiffs/tier1/images/hurricane-harvey_00000398_post_disaster.tif',\n",
              " '/content/drive/MyDrive/ML/geotiffs/tier1/images/hurricane-harvey_00000077_post_disaster.tif',\n",
              " '/content/drive/MyDrive/ML/geotiffs/tier1/images/hurricane-harvey_00000397_post_disaster.tif',\n",
              " '/content/drive/MyDrive/ML/geotiffs/tier1/images/hurricane-harvey_00000454_post_disaster.tif',\n",
              " '/content/drive/MyDrive/ML/geotiffs/tier1/images/hurricane-harvey_00000069_post_disaster.tif',\n",
              " '/content/drive/MyDrive/ML/geotiffs/tier1/images/hurricane-harvey_00000082_post_disaster.tif',\n",
              " '/content/drive/MyDrive/ML/geotiffs/tier1/images/hurricane-harvey_00000015_post_disaster.tif',\n",
              " '/content/drive/MyDrive/ML/geotiffs/tier1/images/hurricane-harvey_00000288_post_disaster.tif',\n",
              " '/content/drive/MyDrive/ML/geotiffs/tier1/images/hurricane-harvey_00000258_post_disaster.tif',\n",
              " '/content/drive/MyDrive/ML/geotiffs/tier1/images/hurricane-harvey_00000206_post_disaster.tif',\n",
              " '/content/drive/MyDrive/ML/geotiffs/tier1/images/hurricane-harvey_00000114_post_disaster.tif',\n",
              " '/content/drive/MyDrive/ML/geotiffs/tier1/images/hurricane-harvey_00000144_post_disaster.tif',\n",
              " '/content/drive/MyDrive/ML/geotiffs/tier1/images/hurricane-harvey_00000187_post_disaster.tif',\n",
              " '/content/drive/MyDrive/ML/geotiffs/tier1/images/hurricane-harvey_00000238_post_disaster.tif',\n",
              " '/content/drive/MyDrive/ML/geotiffs/tier1/images/hurricane-harvey_00000228_post_disaster.tif',\n",
              " '/content/drive/MyDrive/ML/geotiffs/tier1/images/hurricane-harvey_00000248_post_disaster.tif',\n",
              " '/content/drive/MyDrive/ML/geotiffs/tier1/images/hurricane-harvey_00000514_post_disaster.tif',\n",
              " '/content/drive/MyDrive/ML/geotiffs/tier1/images/hurricane-harvey_00000142_post_disaster.tif',\n",
              " '/content/drive/MyDrive/ML/geotiffs/tier1/images/hurricane-harvey_00000270_post_disaster.tif',\n",
              " '/content/drive/MyDrive/ML/geotiffs/tier1/images/hurricane-harvey_00000221_post_disaster.tif',\n",
              " '/content/drive/MyDrive/ML/geotiffs/tier1/images/hurricane-harvey_00000486_post_disaster.tif',\n",
              " '/content/drive/MyDrive/ML/geotiffs/tier1/images/hurricane-harvey_00000312_post_disaster.tif',\n",
              " '/content/drive/MyDrive/ML/geotiffs/tier1/images/hurricane-harvey_00000369_post_disaster.tif',\n",
              " '/content/drive/MyDrive/ML/geotiffs/tier1/images/hurricane-harvey_00000264_post_disaster.tif',\n",
              " '/content/drive/MyDrive/ML/geotiffs/tier1/images/hurricane-harvey_00000154_post_disaster.tif',\n",
              " '/content/drive/MyDrive/ML/geotiffs/tier1/images/hurricane-harvey_00000075_post_disaster.tif',\n",
              " '/content/drive/MyDrive/ML/geotiffs/tier1/images/hurricane-harvey_00000099_post_disaster.tif',\n",
              " '/content/drive/MyDrive/ML/geotiffs/tier1/images/hurricane-harvey_00000451_post_disaster.tif',\n",
              " '/content/drive/MyDrive/ML/geotiffs/tier1/images/hurricane-harvey_00000351_post_disaster.tif',\n",
              " '/content/drive/MyDrive/ML/geotiffs/tier1/images/hurricane-harvey_00000423_post_disaster.tif',\n",
              " '/content/drive/MyDrive/ML/geotiffs/tier1/images/hurricane-harvey_00000218_post_disaster.tif',\n",
              " '/content/drive/MyDrive/ML/geotiffs/tier1/images/hurricane-harvey_00000041_post_disaster.tif',\n",
              " '/content/drive/MyDrive/ML/geotiffs/tier1/images/hurricane-harvey_00000245_post_disaster.tif',\n",
              " '/content/drive/MyDrive/ML/geotiffs/tier1/images/hurricane-harvey_00000396_post_disaster.tif',\n",
              " '/content/drive/MyDrive/ML/geotiffs/tier1/images/hurricane-harvey_00000257_post_disaster.tif',\n",
              " '/content/drive/MyDrive/ML/geotiffs/tier1/images/hurricane-harvey_00000029_post_disaster.tif',\n",
              " '/content/drive/MyDrive/ML/geotiffs/tier1/images/hurricane-harvey_00000484_post_disaster.tif',\n",
              " '/content/drive/MyDrive/ML/geotiffs/tier1/images/hurricane-harvey_00000205_post_disaster.tif',\n",
              " '/content/drive/MyDrive/ML/geotiffs/tier1/images/hurricane-harvey_00000269_post_disaster.tif',\n",
              " '/content/drive/MyDrive/ML/geotiffs/tier1/images/hurricane-harvey_00000158_post_disaster.tif',\n",
              " '/content/drive/MyDrive/ML/geotiffs/tier1/images/hurricane-harvey_00000375_post_disaster.tif',\n",
              " '/content/drive/MyDrive/ML/geotiffs/tier1/images/hurricane-harvey_00000152_post_disaster.tif',\n",
              " '/content/drive/MyDrive/ML/geotiffs/tier1/images/hurricane-harvey_00000472_post_disaster.tif',\n",
              " '/content/drive/MyDrive/ML/geotiffs/tier1/images/hurricane-harvey_00000323_post_disaster.tif',\n",
              " '/content/drive/MyDrive/ML/geotiffs/tier1/images/hurricane-harvey_00000153_post_disaster.tif',\n",
              " '/content/drive/MyDrive/ML/geotiffs/tier1/images/hurricane-harvey_00000081_post_disaster (1).tif',\n",
              " '/content/drive/MyDrive/ML/geotiffs/tier1/images/hurricane-harvey_00000480_post_disaster.tif',\n",
              " '/content/drive/MyDrive/ML/geotiffs/tier1/images/hurricane-harvey_00000406_post_disaster.tif',\n",
              " '/content/drive/MyDrive/ML/geotiffs/tier1/images/hurricane-harvey_00000081_post_disaster.tif',\n",
              " '/content/drive/MyDrive/ML/geotiffs/tier1/images/hurricane-harvey_00000429_post_disaster.tif',\n",
              " '/content/drive/MyDrive/ML/geotiffs/tier1/images/hurricane-harvey_00000402_post_disaster.tif',\n",
              " '/content/drive/MyDrive/ML/geotiffs/tier1/images/hurricane-harvey_00000017_post_disaster.tif',\n",
              " '/content/drive/MyDrive/ML/geotiffs/tier1/images/hurricane-harvey_00000232_post_disaster.tif',\n",
              " '/content/drive/MyDrive/ML/geotiffs/tier1/images/hurricane-harvey_00000167_post_disaster.tif',\n",
              " '/content/drive/MyDrive/ML/geotiffs/tier1/images/hurricane-harvey_00000006_post_disaster.tif',\n",
              " '/content/drive/MyDrive/ML/geotiffs/tier1/images/hurricane-harvey_00000089_post_disaster.tif',\n",
              " '/content/drive/MyDrive/ML/geotiffs/tier1/images/hurricane-harvey_00000024_post_disaster.tif',\n",
              " '/content/drive/MyDrive/ML/geotiffs/tier1/images/hurricane-harvey_00000151_post_disaster.tif',\n",
              " '/content/drive/MyDrive/ML/geotiffs/tier1/images/hurricane-harvey_00000118_post_disaster.tif',\n",
              " '/content/drive/MyDrive/ML/geotiffs/tier1/images/hurricane-harvey_00000470_post_disaster.tif',\n",
              " '/content/drive/MyDrive/ML/geotiffs/tier1/images/hurricane-harvey_00000129_post_disaster.tif',\n",
              " '/content/drive/MyDrive/ML/geotiffs/tier1/images/hurricane-harvey_00000177_post_disaster.tif',\n",
              " '/content/drive/MyDrive/ML/geotiffs/tier1/images/hurricane-harvey_00000007_post_disaster.tif',\n",
              " '/content/drive/MyDrive/ML/geotiffs/tier1/images/hurricane-harvey_00000307_post_disaster.tif',\n",
              " '/content/drive/MyDrive/ML/geotiffs/tier1/images/hurricane-harvey_00000070_post_disaster.tif',\n",
              " '/content/drive/MyDrive/ML/geotiffs/tier1/images/hurricane-harvey_00000195_post_disaster.tif',\n",
              " '/content/drive/MyDrive/ML/geotiffs/tier1/images/hurricane-harvey_00000501_post_disaster.tif',\n",
              " '/content/drive/MyDrive/ML/geotiffs/tier1/images/hurricane-harvey_00000508_post_disaster.tif',\n",
              " '/content/drive/MyDrive/ML/geotiffs/tier1/images/hurricane-harvey_00000491_post_disaster.tif',\n",
              " '/content/drive/MyDrive/ML/geotiffs/tier1/images/hurricane-harvey_00000284_post_disaster.tif',\n",
              " '/content/drive/MyDrive/ML/geotiffs/tier1/images/hurricane-harvey_00000109_post_disaster.tif',\n",
              " '/content/drive/MyDrive/ML/geotiffs/tier1/images/hurricane-harvey_00000393_post_disaster.tif',\n",
              " '/content/drive/MyDrive/ML/geotiffs/tier1/images/hurricane-harvey_00000241_post_disaster.tif',\n",
              " '/content/drive/MyDrive/ML/geotiffs/tier1/images/hurricane-harvey_00000357_post_disaster.tif',\n",
              " '/content/drive/MyDrive/ML/geotiffs/tier1/images/hurricane-harvey_00000272_post_disaster.tif',\n",
              " '/content/drive/MyDrive/ML/geotiffs/tier1/images/hurricane-harvey_00000346_post_disaster.tif',\n",
              " '/content/drive/MyDrive/ML/geotiffs/tier1/images/hurricane-harvey_00000217_post_disaster.tif',\n",
              " '/content/drive/MyDrive/ML/geotiffs/tier1/images/hurricane-harvey_00000267_post_disaster.tif',\n",
              " '/content/drive/MyDrive/ML/geotiffs/tier1/images/hurricane-harvey_00000335_post_disaster.tif',\n",
              " '/content/drive/MyDrive/ML/geotiffs/tier1/images/hurricane-harvey_00000382_post_disaster.tif',\n",
              " '/content/drive/MyDrive/ML/geotiffs/tier1/images/hurricane-harvey_00000243_post_disaster.tif',\n",
              " '/content/drive/MyDrive/ML/geotiffs/tier1/images/hurricane-harvey_00000042_post_disaster.tif',\n",
              " '/content/drive/MyDrive/ML/geotiffs/tier1/images/hurricane-harvey_00000418_post_disaster.tif',\n",
              " '/content/drive/MyDrive/ML/geotiffs/tier1/images/hurricane-harvey_00000108_post_disaster.tif',\n",
              " '/content/drive/MyDrive/ML/geotiffs/tier1/images/hurricane-harvey_00000012_post_disaster.tif',\n",
              " '/content/drive/MyDrive/ML/geotiffs/tier1/images/hurricane-harvey_00000291_post_disaster.tif',\n",
              " '/content/drive/MyDrive/ML/geotiffs/tier1/images/hurricane-harvey_00000025_post_disaster.tif',\n",
              " '/content/drive/MyDrive/ML/geotiffs/tier1/images/hurricane-harvey_00000060_post_disaster.tif',\n",
              " '/content/drive/MyDrive/ML/geotiffs/tier1/images/hurricane-harvey_00000467_post_disaster.tif',\n",
              " '/content/drive/MyDrive/ML/geotiffs/tier1/images/hurricane-harvey_00000496_post_disaster.tif',\n",
              " '/content/drive/MyDrive/ML/geotiffs/tier1/images/hurricane-harvey_00000509_post_disaster.tif',\n",
              " '/content/drive/MyDrive/ML/geotiffs/tier1/images/hurricane-harvey_00000309_post_disaster.tif',\n",
              " '/content/drive/MyDrive/ML/geotiffs/tier1/images/hurricane-harvey_00000054_post_disaster.tif',\n",
              " '/content/drive/MyDrive/ML/geotiffs/tier1/images/hurricane-harvey_00000200_post_disaster.tif',\n",
              " '/content/drive/MyDrive/ML/geotiffs/tier1/images/hurricane-harvey_00000119_post_disaster.tif',\n",
              " '/content/drive/MyDrive/ML/geotiffs/tier1/images/hurricane-harvey_00000020_post_disaster.tif',\n",
              " '/content/drive/MyDrive/ML/geotiffs/tier1/images/hurricane-harvey_00000275_post_disaster.tif',\n",
              " '/content/drive/MyDrive/ML/geotiffs/tier1/images/hurricane-harvey_00000274_post_disaster.tif',\n",
              " '/content/drive/MyDrive/ML/geotiffs/tier1/images/hurricane-harvey_00000463_post_disaster.tif',\n",
              " '/content/drive/MyDrive/ML/geotiffs/tier1/images/hurricane-harvey_00000101_post_disaster (1).tif',\n",
              " '/content/drive/MyDrive/ML/geotiffs/tier1/images/hurricane-harvey_00000196_post_disaster.tif',\n",
              " '/content/drive/MyDrive/ML/geotiffs/tier1/images/hurricane-harvey_00000101_post_disaster.tif',\n",
              " '/content/drive/MyDrive/ML/geotiffs/tier1/images/hurricane-harvey_00000028_post_disaster.tif',\n",
              " '/content/drive/MyDrive/ML/geotiffs/tier1/images/hurricane-harvey_00000492_post_disaster.tif',\n",
              " '/content/drive/MyDrive/ML/geotiffs/tier1/images/hurricane-harvey_00000040_post_disaster.tif',\n",
              " '/content/drive/MyDrive/ML/geotiffs/tier1/images/hurricane-harvey_00000271_post_disaster.tif',\n",
              " '/content/drive/MyDrive/ML/geotiffs/tier1/images/hurricane-harvey_00000111_post_disaster.tif',\n",
              " '/content/drive/MyDrive/ML/geotiffs/tier1/images/hurricane-harvey_00000213_post_disaster.tif',\n",
              " '/content/drive/MyDrive/ML/geotiffs/tier1/images/hurricane-harvey_00000208_post_disaster.tif',\n",
              " '/content/drive/MyDrive/ML/geotiffs/tier1/images/hurricane-harvey_00000281_post_disaster.tif',\n",
              " '/content/drive/MyDrive/ML/geotiffs/tier1/images/hurricane-harvey_00000147_post_disaster.tif',\n",
              " '/content/drive/MyDrive/ML/geotiffs/tier1/images/hurricane-harvey_00000098_post_disaster.tif',\n",
              " '/content/drive/MyDrive/ML/geotiffs/tier1/images/hurricane-harvey_00000156_post_disaster.tif',\n",
              " '/content/drive/MyDrive/ML/geotiffs/tier1/images/hurricane-harvey_00000022_post_disaster (1).tif',\n",
              " '/content/drive/MyDrive/ML/geotiffs/tier1/images/hurricane-harvey_00000138_post_disaster.tif',\n",
              " '/content/drive/MyDrive/ML/geotiffs/tier1/images/hurricane-harvey_00000022_post_disaster.tif',\n",
              " '/content/drive/MyDrive/ML/geotiffs/tier1/images/hurricane-harvey_00000207_post_disaster.tif',\n",
              " '/content/drive/MyDrive/ML/geotiffs/tier1/images/hurricane-harvey_00000488_post_disaster.tif',\n",
              " '/content/drive/MyDrive/ML/geotiffs/tier1/images/hurricane-harvey_00000216_post_disaster (2).tif',\n",
              " '/content/drive/MyDrive/ML/geotiffs/tier1/images/hurricane-harvey_00000231_post_disaster.tif',\n",
              " '/content/drive/MyDrive/ML/geotiffs/tier1/images/hurricane-harvey_00000216_post_disaster (1).tif',\n",
              " '/content/drive/MyDrive/ML/geotiffs/tier1/images/hurricane-harvey_00000116_post_disaster.tif',\n",
              " '/content/drive/MyDrive/ML/geotiffs/tier1/images/hurricane-harvey_00000433_post_disaster.tif',\n",
              " '/content/drive/MyDrive/ML/geotiffs/tier1/images/hurricane-harvey_00000216_post_disaster.tif',\n",
              " '/content/drive/MyDrive/ML/geotiffs/tier1/images/hurricane-harvey_00000057_post_disaster.tif',\n",
              " '/content/drive/MyDrive/ML/geotiffs/tier1/images/hurricane-harvey_00000000_post_disaster.tif',\n",
              " '/content/drive/MyDrive/ML/geotiffs/tier1/images/hurricane-harvey_00000055_post_disaster.tif',\n",
              " '/content/drive/MyDrive/ML/geotiffs/tier1/images/hurricane-harvey_00000090_post_disaster.tif',\n",
              " '/content/drive/MyDrive/ML/geotiffs/tier1/images/hurricane-harvey_00000159_post_disaster.tif',\n",
              " '/content/drive/MyDrive/ML/geotiffs/tier1/images/hurricane-harvey_00000422_post_disaster.tif',\n",
              " '/content/drive/MyDrive/ML/geotiffs/tier1/images/hurricane-harvey_00000477_post_disaster.tif',\n",
              " '/content/drive/MyDrive/ML/geotiffs/tier1/images/hurricane-harvey_00000499_post_disaster.tif',\n",
              " '/content/drive/MyDrive/ML/geotiffs/tier1/images/hurricane-harvey_00000145_post_disaster.tif',\n",
              " '/content/drive/MyDrive/ML/geotiffs/tier1/images/hurricane-harvey_00000278_post_disaster.tif',\n",
              " '/content/drive/MyDrive/ML/geotiffs/tier1/images/hurricane-harvey_00000411_post_disaster (1).tif',\n",
              " '/content/drive/MyDrive/ML/geotiffs/tier1/images/hurricane-harvey_00000493_post_disaster.tif',\n",
              " '/content/drive/MyDrive/ML/geotiffs/tier1/images/hurricane-harvey_00000411_post_disaster.tif',\n",
              " '/content/drive/MyDrive/ML/geotiffs/tier1/images/hurricane-harvey_00000268_post_disaster.tif',\n",
              " '/content/drive/MyDrive/ML/geotiffs/tier1/images/hurricane-harvey_00000462_post_disaster.tif',\n",
              " '/content/drive/MyDrive/ML/geotiffs/tier1/images/hurricane-harvey_00000126_post_disaster.tif',\n",
              " '/content/drive/MyDrive/ML/geotiffs/tier1/images/hurricane-harvey_00000461_post_disaster.tif',\n",
              " '/content/drive/MyDrive/ML/geotiffs/tier1/images/hurricane-harvey_00000071_post_disaster.tif',\n",
              " '/content/drive/MyDrive/ML/geotiffs/tier1/images/hurricane-harvey_00000489_post_disaster.tif',\n",
              " '/content/drive/MyDrive/ML/geotiffs/tier1/images/hurricane-harvey_00000043_post_disaster.tif',\n",
              " '/content/drive/MyDrive/ML/geotiffs/tier1/images/hurricane-harvey_00000242_post_disaster.tif',\n",
              " '/content/drive/MyDrive/ML/geotiffs/tier1/images/hurricane-harvey_00000448_post_disaster.tif',\n",
              " '/content/drive/MyDrive/ML/geotiffs/tier1/images/hurricane-harvey_00000088_post_disaster.tif',\n",
              " '/content/drive/MyDrive/ML/geotiffs/tier1/images/hurricane-harvey_00000473_post_disaster.tif',\n",
              " '/content/drive/MyDrive/ML/geotiffs/tier1/images/hurricane-harvey_00000076_post_disaster.tif',\n",
              " '/content/drive/MyDrive/ML/geotiffs/tier1/images/hurricane-harvey_00000094_post_disaster.tif',\n",
              " '/content/drive/MyDrive/ML/geotiffs/tier1/images/hurricane-harvey_00000049_post_disaster.tif',\n",
              " '/content/drive/MyDrive/ML/geotiffs/tier1/images/hurricane-harvey_00000519_post_disaster.tif',\n",
              " '/content/drive/MyDrive/ML/geotiffs/tier1/images/hurricane-harvey_00000092_post_disaster.tif',\n",
              " '/content/drive/MyDrive/ML/geotiffs/tier1/images/hurricane-harvey_00000141_post_disaster.tif',\n",
              " '/content/drive/MyDrive/ML/geotiffs/tier1/images/hurricane-harvey_00000319_post_disaster.tif',\n",
              " '/content/drive/MyDrive/ML/geotiffs/tier1/images/hurricane-harvey_00000251_post_disaster.tif',\n",
              " '/content/drive/MyDrive/ML/geotiffs/tier1/images/hurricane-harvey_00000115_post_disaster.tif',\n",
              " '/content/drive/MyDrive/ML/geotiffs/tier1/images/hurricane-harvey_00000332_post_disaster.tif',\n",
              " '/content/drive/MyDrive/ML/geotiffs/tier1/images/hurricane-harvey_00000345_post_disaster.tif',\n",
              " '/content/drive/MyDrive/ML/geotiffs/tier1/images/hurricane-harvey_00000039_post_disaster (1).tif',\n",
              " '/content/drive/MyDrive/ML/geotiffs/tier1/images/hurricane-harvey_00000039_post_disaster.tif',\n",
              " '/content/drive/MyDrive/ML/geotiffs/tier1/images/hurricane-harvey_00000440_post_disaster.tif',\n",
              " '/content/drive/MyDrive/ML/geotiffs/tier1/images/hurricane-harvey_00000481_post_disaster.tif',\n",
              " '/content/drive/MyDrive/ML/geotiffs/tier1/images/hurricane-harvey_00000299_post_disaster.tif',\n",
              " '/content/drive/MyDrive/ML/geotiffs/tier1/images/hurricane-harvey_00000273_post_disaster.tif',\n",
              " '/content/drive/MyDrive/ML/geotiffs/tier1/images/hurricane-harvey_00000436_post_disaster.tif',\n",
              " '/content/drive/MyDrive/ML/geotiffs/tier1/images/hurricane-harvey_00000474_post_disaster.tif',\n",
              " '/content/drive/MyDrive/ML/geotiffs/tier1/images/hurricane-harvey_00000410_post_disaster.tif',\n",
              " '/content/drive/MyDrive/ML/geotiffs/tier1/images/hurricane-harvey_00000189_post_disaster.tif',\n",
              " '/content/drive/MyDrive/ML/geotiffs/tier1/images/hurricane-harvey_00000444_post_disaster.tif',\n",
              " '/content/drive/MyDrive/ML/geotiffs/tier1/images/hurricane-harvey_00000333_post_disaster.tif',\n",
              " '/content/drive/MyDrive/ML/geotiffs/tier1/images/hurricane-harvey_00000432_post_disaster.tif',\n",
              " '/content/drive/MyDrive/ML/geotiffs/tier1/images/hurricane-harvey_00000320_post_disaster.tif',\n",
              " '/content/drive/MyDrive/ML/geotiffs/tier1/images/hurricane-harvey_00000329_post_disaster.tif',\n",
              " '/content/drive/MyDrive/ML/geotiffs/tier1/images/hurricane-harvey_00000318_post_disaster.tif',\n",
              " '/content/drive/MyDrive/ML/geotiffs/tier1/images/hurricane-harvey_00000412_post_disaster.tif',\n",
              " '/content/drive/MyDrive/ML/geotiffs/tier1/images/hurricane-harvey_00000455_post_disaster.tif',\n",
              " '/content/drive/MyDrive/ML/geotiffs/tier1/images/hurricane-harvey_00000176_post_disaster.tif',\n",
              " '/content/drive/MyDrive/ML/geotiffs/tier1/images/hurricane-harvey_00000035_post_disaster.tif',\n",
              " '/content/drive/MyDrive/ML/geotiffs/tier1/images/hurricane-harvey_00000132_post_disaster.tif',\n",
              " '/content/drive/MyDrive/ML/geotiffs/tier1/images/hurricane-harvey_00000430_post_disaster.tif',\n",
              " '/content/drive/MyDrive/ML/geotiffs/tier1/images/hurricane-harvey_00000277_post_disaster.tif',\n",
              " '/content/drive/MyDrive/ML/geotiffs/tier1/images/hurricane-harvey_00000286_post_disaster.tif',\n",
              " '/content/drive/MyDrive/ML/geotiffs/tier1/images/hurricane-harvey_00000073_post_disaster.tif',\n",
              " '/content/drive/MyDrive/ML/geotiffs/tier1/images/hurricane-harvey_00000356_post_disaster.tif',\n",
              " '/content/drive/MyDrive/ML/geotiffs/tier1/images/hurricane-harvey_00000344_post_disaster.tif',\n",
              " '/content/drive/MyDrive/ML/geotiffs/tier1/images/hurricane-harvey_00000452_post_disaster.tif',\n",
              " '/content/drive/MyDrive/ML/geotiffs/tier1/images/hurricane-matthew_00000051_post_disaster.tif',\n",
              " '/content/drive/MyDrive/ML/geotiffs/tier1/images/hurricane-matthew_00000363_post_disaster.tif',\n",
              " '/content/drive/MyDrive/ML/geotiffs/tier1/images/hurricane-matthew_00000048_post_disaster.tif',\n",
              " '/content/drive/MyDrive/ML/geotiffs/tier1/images/hurricane-matthew_00000295_post_disaster.tif',\n",
              " '/content/drive/MyDrive/ML/geotiffs/tier1/images/hurricane-matthew_00000169_post_disaster.tif',\n",
              " '/content/drive/MyDrive/ML/geotiffs/tier1/images/hurricane-matthew_00000078_post_disaster.tif',\n",
              " '/content/drive/MyDrive/ML/geotiffs/tier1/images/hurricane-matthew_00000287_post_disaster.tif',\n",
              " '/content/drive/MyDrive/ML/geotiffs/tier1/images/hurricane-matthew_00000353_post_disaster.tif',\n",
              " '/content/drive/MyDrive/ML/geotiffs/tier1/images/hurricane-matthew_00000269_post_disaster.tif',\n",
              " '/content/drive/MyDrive/ML/geotiffs/tier1/images/hurricane-matthew_00000370_post_disaster.tif',\n",
              " '/content/drive/MyDrive/ML/geotiffs/tier1/images/hurricane-matthew_00000102_post_disaster.tif',\n",
              " '/content/drive/MyDrive/ML/geotiffs/tier1/images/hurricane-matthew_00000207_post_disaster.tif',\n",
              " '/content/drive/MyDrive/ML/geotiffs/tier1/images/hurricane-matthew_00000003_post_disaster.tif',\n",
              " '/content/drive/MyDrive/ML/geotiffs/tier1/images/hurricane-matthew_00000166_post_disaster.tif',\n",
              " '/content/drive/MyDrive/ML/geotiffs/tier1/images/hurricane-matthew_00000064_post_disaster.tif',\n",
              " '/content/drive/MyDrive/ML/geotiffs/tier1/images/hurricane-matthew_00000222_post_disaster.tif',\n",
              " '/content/drive/MyDrive/ML/geotiffs/tier1/images/hurricane-matthew_00000136_post_disaster.tif',\n",
              " '/content/drive/MyDrive/ML/geotiffs/tier1/images/hurricane-matthew_00000192_post_disaster.tif',\n",
              " '/content/drive/MyDrive/ML/geotiffs/tier1/images/hurricane-matthew_00000075_post_disaster.tif',\n",
              " '/content/drive/MyDrive/ML/geotiffs/tier1/images/hurricane-matthew_00000116_post_disaster (1).tif',\n",
              " '/content/drive/MyDrive/ML/geotiffs/tier1/images/hurricane-matthew_00000341_post_disaster.tif',\n",
              " '/content/drive/MyDrive/ML/geotiffs/tier1/images/hurricane-matthew_00000116_post_disaster.tif',\n",
              " '/content/drive/MyDrive/ML/geotiffs/tier1/images/hurricane-matthew_00000385_post_disaster.tif',\n",
              " '/content/drive/MyDrive/ML/geotiffs/tier1/images/hurricane-matthew_00000335_post_disaster.tif',\n",
              " '/content/drive/MyDrive/ML/geotiffs/tier1/images/hurricane-matthew_00000053_post_disaster.tif',\n",
              " '/content/drive/MyDrive/ML/geotiffs/tier1/images/hurricane-matthew_00000259_post_disaster.tif',\n",
              " '/content/drive/MyDrive/ML/geotiffs/tier1/images/hurricane-matthew_00000331_post_disaster.tif',\n",
              " '/content/drive/MyDrive/ML/geotiffs/tier1/images/hurricane-matthew_00000119_post_disaster.tif',\n",
              " '/content/drive/MyDrive/ML/geotiffs/tier1/images/hurricane-matthew_00000082_post_disaster.tif',\n",
              " '/content/drive/MyDrive/ML/geotiffs/tier1/images/hurricane-matthew_00000175_post_disaster.tif',\n",
              " '/content/drive/MyDrive/ML/geotiffs/tier1/images/hurricane-matthew_00000376_post_disaster.tif',\n",
              " '/content/drive/MyDrive/ML/geotiffs/tier1/images/hurricane-matthew_00000400_post_disaster.tif',\n",
              " '/content/drive/MyDrive/ML/geotiffs/tier1/images/hurricane-matthew_00000066_post_disaster.tif',\n",
              " '/content/drive/MyDrive/ML/geotiffs/tier1/images/hurricane-matthew_00000316_post_disaster.tif',\n",
              " '/content/drive/MyDrive/ML/geotiffs/tier1/images/hurricane-matthew_00000226_post_disaster.tif',\n",
              " '/content/drive/MyDrive/ML/geotiffs/tier1/images/hurricane-matthew_00000021_post_disaster.tif',\n",
              " '/content/drive/MyDrive/ML/geotiffs/tier1/images/hurricane-matthew_00000159_post_disaster.tif',\n",
              " '/content/drive/MyDrive/ML/geotiffs/tier1/images/hurricane-matthew_00000208_post_disaster.tif',\n",
              " '/content/drive/MyDrive/ML/geotiffs/tier1/images/hurricane-matthew_00000060_post_disaster.tif',\n",
              " '/content/drive/MyDrive/ML/geotiffs/tier1/images/hurricane-matthew_00000334_post_disaster.tif',\n",
              " '/content/drive/MyDrive/ML/geotiffs/tier1/images/hurricane-matthew_00000052_post_disaster.tif',\n",
              " '/content/drive/MyDrive/ML/geotiffs/tier1/images/hurricane-matthew_00000375_post_disaster.tif',\n",
              " '/content/drive/MyDrive/ML/geotiffs/tier1/images/hurricane-matthew_00000285_post_disaster.tif',\n",
              " '/content/drive/MyDrive/ML/geotiffs/tier1/images/hurricane-matthew_00000154_post_disaster.tif',\n",
              " '/content/drive/MyDrive/ML/geotiffs/tier1/images/hurricane-matthew_00000079_post_disaster.tif',\n",
              " '/content/drive/MyDrive/ML/geotiffs/tier1/images/hurricane-matthew_00000401_post_disaster.tif',\n",
              " '/content/drive/MyDrive/ML/geotiffs/tier1/images/hurricane-matthew_00000167_post_disaster.tif',\n",
              " '/content/drive/MyDrive/ML/geotiffs/tier1/images/hurricane-matthew_00000221_post_disaster.tif',\n",
              " '/content/drive/MyDrive/ML/geotiffs/tier1/images/hurricane-matthew_00000045_post_disaster.tif',\n",
              " '/content/drive/MyDrive/ML/geotiffs/tier1/images/hurricane-matthew_00000307_post_disaster.tif',\n",
              " '/content/drive/MyDrive/ML/geotiffs/tier1/images/hurricane-matthew_00000179_post_disaster.tif',\n",
              " '/content/drive/MyDrive/ML/geotiffs/tier1/images/hurricane-matthew_00000180_post_disaster.tif',\n",
              " '/content/drive/MyDrive/ML/geotiffs/tier1/images/hurricane-matthew_00000168_post_disaster.tif',\n",
              " '/content/drive/MyDrive/ML/geotiffs/tier1/images/hurricane-matthew_00000296_post_disaster.tif',\n",
              " '/content/drive/MyDrive/ML/geotiffs/tier1/images/hurricane-matthew_00000275_post_disaster.tif',\n",
              " '/content/drive/MyDrive/ML/geotiffs/tier1/images/hurricane-matthew_00000099_post_disaster.tif',\n",
              " '/content/drive/MyDrive/ML/geotiffs/tier1/images/hurricane-matthew_00000200_post_disaster.tif',\n",
              " '/content/drive/MyDrive/ML/geotiffs/tier1/images/hurricane-matthew_00000030_post_disaster.tif',\n",
              " '/content/drive/MyDrive/ML/geotiffs/tier1/images/hurricane-matthew_00000072_post_disaster.tif',\n",
              " '/content/drive/MyDrive/ML/geotiffs/tier1/images/hurricane-matthew_00000303_post_disaster.tif',\n",
              " '/content/drive/MyDrive/ML/geotiffs/tier1/images/hurricane-matthew_00000245_post_disaster.tif',\n",
              " '/content/drive/MyDrive/ML/geotiffs/tier1/images/hurricane-matthew_00000212_post_disaster.tif',\n",
              " '/content/drive/MyDrive/ML/geotiffs/tier1/images/hurricane-matthew_00000306_post_disaster.tif',\n",
              " '/content/drive/MyDrive/ML/geotiffs/tier1/images/hurricane-matthew_00000145_post_disaster.tif',\n",
              " '/content/drive/MyDrive/ML/geotiffs/tier1/images/hurricane-matthew_00000130_post_disaster.tif',\n",
              " '/content/drive/MyDrive/ML/geotiffs/tier1/images/hurricane-matthew_00000065_post_disaster.tif',\n",
              " '/content/drive/MyDrive/ML/geotiffs/tier1/images/hurricane-matthew_00000009_post_disaster.tif',\n",
              " '/content/drive/MyDrive/ML/geotiffs/tier1/images/hurricane-matthew_00000211_post_disaster.tif',\n",
              " '/content/drive/MyDrive/ML/geotiffs/tier1/images/hurricane-matthew_00000314_post_disaster.tif',\n",
              " '/content/drive/MyDrive/ML/geotiffs/tier1/images/hurricane-matthew_00000249_post_disaster.tif',\n",
              " '/content/drive/MyDrive/ML/geotiffs/tier1/images/hurricane-matthew_00000338_post_disaster.tif',\n",
              " '/content/drive/MyDrive/ML/geotiffs/tier1/images/hurricane-matthew_00000080_post_disaster (2).tif',\n",
              " '/content/drive/MyDrive/ML/geotiffs/tier1/images/hurricane-matthew_00000080_post_disaster (1).tif',\n",
              " '/content/drive/MyDrive/ML/geotiffs/tier1/images/hurricane-matthew_00000085_post_disaster.tif',\n",
              " '/content/drive/MyDrive/ML/geotiffs/tier1/images/hurricane-matthew_00000080_post_disaster.tif',\n",
              " '/content/drive/MyDrive/ML/geotiffs/tier1/images/hurricane-matthew_00000243_post_disaster.tif',\n",
              " '/content/drive/MyDrive/ML/geotiffs/tier1/images/hurricane-matthew_00000322_post_disaster.tif',\n",
              " '/content/drive/MyDrive/ML/geotiffs/tier1/images/hurricane-matthew_00000319_post_disaster.tif',\n",
              " '/content/drive/MyDrive/ML/geotiffs/tier1/images/hurricane-matthew_00000321_post_disaster.tif',\n",
              " '/content/drive/MyDrive/ML/geotiffs/tier1/images/hurricane-matthew_00000100_post_disaster.tif',\n",
              " '/content/drive/MyDrive/ML/geotiffs/tier1/images/hurricane-matthew_00000162_post_disaster.tif',\n",
              " '/content/drive/MyDrive/ML/geotiffs/tier1/images/hurricane-matthew_00000237_post_disaster.tif',\n",
              " '/content/drive/MyDrive/ML/geotiffs/tier1/images/hurricane-matthew_00000311_post_disaster.tif',\n",
              " '/content/drive/MyDrive/ML/geotiffs/tier1/images/hurricane-matthew_00000016_post_disaster.tif',\n",
              " '/content/drive/MyDrive/ML/geotiffs/tier1/images/hurricane-matthew_00000284_post_disaster.tif',\n",
              " '/content/drive/MyDrive/ML/geotiffs/tier1/images/hurricane-matthew_00000153_post_disaster.tif',\n",
              " '/content/drive/MyDrive/ML/geotiffs/tier1/images/hurricane-matthew_00000231_post_disaster.tif',\n",
              " '/content/drive/MyDrive/ML/geotiffs/tier1/images/hurricane-matthew_00000238_post_disaster.tif',\n",
              " '/content/drive/MyDrive/ML/geotiffs/tier1/images/hurricane-matthew_00000256_post_disaster.tif',\n",
              " '/content/drive/MyDrive/ML/geotiffs/tier1/images/hurricane-matthew_00000250_post_disaster.tif',\n",
              " '/content/drive/MyDrive/ML/geotiffs/tier1/images/hurricane-matthew_00000271_post_disaster.tif',\n",
              " '/content/drive/MyDrive/ML/geotiffs/tier1/images/hurricane-matthew_00000387_post_disaster.tif',\n",
              " '/content/drive/MyDrive/ML/geotiffs/tier1/images/hurricane-matthew_00000301_post_disaster.tif',\n",
              " '/content/drive/MyDrive/ML/geotiffs/tier1/images/hurricane-matthew_00000187_post_disaster.tif',\n",
              " '/content/drive/MyDrive/ML/geotiffs/tier1/images/hurricane-matthew_00000190_post_disaster.tif',\n",
              " '/content/drive/MyDrive/ML/geotiffs/tier1/images/hurricane-matthew_00000097_post_disaster.tif',\n",
              " '/content/drive/MyDrive/ML/geotiffs/tier1/images/hurricane-matthew_00000133_post_disaster.tif',\n",
              " '/content/drive/MyDrive/ML/geotiffs/tier1/images/hurricane-matthew_00000369_post_disaster.tif',\n",
              " '/content/drive/MyDrive/ML/geotiffs/tier1/images/hurricane-matthew_00000399_post_disaster.tif',\n",
              " '/content/drive/MyDrive/ML/geotiffs/tier1/images/hurricane-matthew_00000364_post_disaster.tif',\n",
              " '/content/drive/MyDrive/ML/geotiffs/tier1/images/hurricane-matthew_00000063_post_disaster.tif',\n",
              " '/content/drive/MyDrive/ML/geotiffs/tier1/images/hurricane-matthew_00000305_post_disaster.tif',\n",
              " '/content/drive/MyDrive/ML/geotiffs/tier1/images/hurricane-matthew_00000152_post_disaster.tif',\n",
              " '/content/drive/MyDrive/ML/geotiffs/tier1/images/hurricane-matthew_00000373_post_disaster.tif',\n",
              " '/content/drive/MyDrive/ML/geotiffs/tier1/images/hurricane-matthew_00000089_post_disaster.tif',\n",
              " '/content/drive/MyDrive/ML/geotiffs/tier1/images/hurricane-matthew_00000312_post_disaster (1).tif',\n",
              " '/content/drive/MyDrive/ML/geotiffs/tier1/images/hurricane-matthew_00000293_post_disaster.tif',\n",
              " '/content/drive/MyDrive/ML/geotiffs/tier1/images/hurricane-matthew_00000193_post_disaster.tif',\n",
              " '/content/drive/MyDrive/ML/geotiffs/tier1/images/hurricane-matthew_00000312_post_disaster.tif',\n",
              " '/content/drive/MyDrive/ML/geotiffs/tier1/images/hurricane-matthew_00000103_post_disaster.tif',\n",
              " '/content/drive/MyDrive/ML/geotiffs/tier1/images/hurricane-matthew_00000384_post_disaster.tif',\n",
              " '/content/drive/MyDrive/ML/geotiffs/tier1/images/hurricane-matthew_00000132_post_disaster.tif',\n",
              " '/content/drive/MyDrive/ML/geotiffs/tier1/images/hurricane-matthew_00000232_post_disaster.tif',\n",
              " '/content/drive/MyDrive/ML/geotiffs/tier1/images/hurricane-matthew_00000095_post_disaster.tif',\n",
              " '/content/drive/MyDrive/ML/geotiffs/tier1/images/hurricane-matthew_00000126_post_disaster.tif',\n",
              " '/content/drive/MyDrive/ML/geotiffs/tier1/images/hurricane-matthew_00000143_post_disaster.tif',\n",
              " '/content/drive/MyDrive/ML/geotiffs/tier1/images/hurricane-matthew_00000172_post_disaster.tif',\n",
              " '/content/drive/MyDrive/ML/geotiffs/tier1/images/hurricane-matthew_00000067_post_disaster.tif',\n",
              " '/content/drive/MyDrive/ML/geotiffs/tier1/images/hurricane-matthew_00000086_post_disaster (1).tif',\n",
              " '/content/drive/MyDrive/ML/geotiffs/tier1/images/hurricane-matthew_00000366_post_disaster.tif',\n",
              " '/content/drive/MyDrive/ML/geotiffs/tier1/images/hurricane-matthew_00000086_post_disaster.tif',\n",
              " '/content/drive/MyDrive/ML/geotiffs/tier1/images/hurricane-matthew_00000054_post_disaster.tif',\n",
              " '/content/drive/MyDrive/ML/geotiffs/tier1/images/hurricane-matthew_00000182_post_disaster.tif',\n",
              " '/content/drive/MyDrive/ML/geotiffs/tier1/images/hurricane-matthew_00000278_post_disaster.tif',\n",
              " '/content/drive/MyDrive/ML/geotiffs/tier1/images/hurricane-matthew_00000050_post_disaster.tif',\n",
              " '/content/drive/MyDrive/ML/geotiffs/tier1/images/hurricane-matthew_00000173_post_disaster.tif',\n",
              " '/content/drive/MyDrive/ML/geotiffs/tier1/images/hurricane-matthew_00000137_post_disaster.tif',\n",
              " '/content/drive/MyDrive/ML/geotiffs/tier1/images/hurricane-matthew_00000104_post_disaster.tif',\n",
              " '/content/drive/MyDrive/ML/geotiffs/tier1/images/hurricane-matthew_00000239_post_disaster.tif',\n",
              " '/content/drive/MyDrive/ML/geotiffs/tier1/images/hurricane-matthew_00000039_post_disaster.tif',\n",
              " '/content/drive/MyDrive/ML/geotiffs/tier1/images/hurricane-matthew_00000083_post_disaster.tif',\n",
              " '/content/drive/MyDrive/ML/geotiffs/tier1/images/hurricane-matthew_00000362_post_disaster.tif',\n",
              " '/content/drive/MyDrive/ML/geotiffs/tier1/images/hurricane-matthew_00000302_post_disaster.tif',\n",
              " '/content/drive/MyDrive/ML/geotiffs/tier1/images/hurricane-matthew_00000328_post_disaster.tif',\n",
              " '/content/drive/MyDrive/ML/geotiffs/tier1/images/hurricane-matthew_00000219_post_disaster.tif',\n",
              " '/content/drive/MyDrive/ML/geotiffs/tier1/images/hurricane-matthew_00000268_post_disaster.tif',\n",
              " '/content/drive/MyDrive/ML/geotiffs/tier1/images/hurricane-matthew_00000398_post_disaster.tif',\n",
              " '/content/drive/MyDrive/ML/geotiffs/tier1/images/hurricane-matthew_00000332_post_disaster.tif',\n",
              " '/content/drive/MyDrive/ML/geotiffs/tier1/images/hurricane-matthew_00000310_post_disaster.tif',\n",
              " '/content/drive/MyDrive/ML/geotiffs/tier1/images/hurricane-matthew_00000006_post_disaster.tif',\n",
              " '/content/drive/MyDrive/ML/geotiffs/tier1/images/hurricane-matthew_00000283_post_disaster.tif',\n",
              " '/content/drive/MyDrive/ML/geotiffs/tier1/images/hurricane-matthew_00000140_post_disaster.tif',\n",
              " '/content/drive/MyDrive/ML/geotiffs/tier1/images/hurricane-matthew_00000263_post_disaster.tif',\n",
              " '/content/drive/MyDrive/ML/geotiffs/tier1/images/hurricane-matthew_00000343_post_disaster.tif',\n",
              " '/content/drive/MyDrive/ML/geotiffs/tier1/images/hurricane-matthew_00000034_post_disaster.tif',\n",
              " '/content/drive/MyDrive/ML/geotiffs/tier1/images/hurricane-matthew_00000043_post_disaster.tif',\n",
              " '/content/drive/MyDrive/ML/geotiffs/tier1/images/hurricane-matthew_00000381_post_disaster.tif',\n",
              " '/content/drive/MyDrive/ML/geotiffs/tier1/images/hurricane-matthew_00000204_post_disaster.tif',\n",
              " '/content/drive/MyDrive/ML/geotiffs/tier1/images/hurricane-matthew_00000013_post_disaster.tif',\n",
              " '/content/drive/MyDrive/ML/geotiffs/tier1/images/hurricane-matthew_00000197_post_disaster.tif',\n",
              " '/content/drive/MyDrive/ML/geotiffs/tier1/images/hurricane-matthew_00000023_post_disaster.tif',\n",
              " '/content/drive/MyDrive/ML/geotiffs/tier1/images/hurricane-matthew_00000365_post_disaster.tif',\n",
              " '/content/drive/MyDrive/ML/geotiffs/tier1/images/hurricane-matthew_00000242_post_disaster.tif',\n",
              " '/content/drive/MyDrive/ML/geotiffs/tier1/images/hurricane-matthew_00000017_post_disaster.tif',\n",
              " '/content/drive/MyDrive/ML/geotiffs/tier1/images/hurricane-matthew_00000206_post_disaster.tif',\n",
              " '/content/drive/MyDrive/ML/geotiffs/tier1/images/hurricane-matthew_00000354_post_disaster.tif',\n",
              " '/content/drive/MyDrive/ML/geotiffs/tier1/images/hurricane-matthew_00000215_post_disaster.tif',\n",
              " '/content/drive/MyDrive/ML/geotiffs/tier1/images/hurricane-matthew_00000336_post_disaster.tif',\n",
              " '/content/drive/MyDrive/ML/geotiffs/tier1/images/hurricane-matthew_00000360_post_disaster.tif',\n",
              " '/content/drive/MyDrive/ML/geotiffs/tier1/images/hurricane-matthew_00000185_post_disaster.tif',\n",
              " '/content/drive/MyDrive/ML/geotiffs/tier1/images/hurricane-matthew_00000346_post_disaster.tif',\n",
              " '/content/drive/MyDrive/ML/geotiffs/tier1/images/hurricane-matthew_00000186_post_disaster.tif',\n",
              " '/content/drive/MyDrive/ML/geotiffs/tier1/images/hurricane-matthew_00000265_post_disaster.tif',\n",
              " '/content/drive/MyDrive/ML/geotiffs/tier1/images/hurricane-matthew_00000139_post_disaster.tif',\n",
              " '/content/drive/MyDrive/ML/geotiffs/tier1/images/hurricane-matthew_00000213_post_disaster.tif',\n",
              " '/content/drive/MyDrive/ML/geotiffs/tier1/images/hurricane-matthew_00000170_post_disaster.tif',\n",
              " '/content/drive/MyDrive/ML/geotiffs/tier1/images/hurricane-matthew_00000260_post_disaster.tif',\n",
              " '/content/drive/MyDrive/ML/geotiffs/tier1/images/hurricane-matthew_00000393_post_disaster.tif',\n",
              " '/content/drive/MyDrive/ML/geotiffs/tier1/images/hurricane-matthew_00000093_post_disaster.tif',\n",
              " '/content/drive/MyDrive/ML/geotiffs/tier1/images/hurricane-matthew_00000289_post_disaster.tif',\n",
              " '/content/drive/MyDrive/ML/geotiffs/tier1/images/hurricane-matthew_00000084_post_disaster.tif',\n",
              " '/content/drive/MyDrive/ML/geotiffs/tier1/images/hurricane-matthew_00000092_post_disaster.tif',\n",
              " '/content/drive/MyDrive/ML/geotiffs/tier1/images/hurricane-matthew_00000134_post_disaster.tif',\n",
              " '/content/drive/MyDrive/ML/geotiffs/tier1/images/hurricane-matthew_00000202_post_disaster.tif',\n",
              " '/content/drive/MyDrive/ML/geotiffs/tier1/images/hurricane-matthew_00000380_post_disaster.tif',\n",
              " '/content/drive/MyDrive/ML/geotiffs/tier1/images/hurricane-matthew_00000244_post_disaster (1).tif',\n",
              " '/content/drive/MyDrive/ML/geotiffs/tier1/images/hurricane-matthew_00000228_post_disaster.tif',\n",
              " '/content/drive/MyDrive/ML/geotiffs/tier1/images/hurricane-matthew_00000000_post_disaster.tif',\n",
              " '/content/drive/MyDrive/ML/geotiffs/tier1/images/hurricane-matthew_00000244_post_disaster.tif',\n",
              " '/content/drive/MyDrive/ML/geotiffs/tier1/images/hurricane-matthew_00000035_post_disaster.tif',\n",
              " '/content/drive/MyDrive/ML/geotiffs/tier1/images/hurricane-matthew_00000347_post_disaster.tif',\n",
              " '/content/drive/MyDrive/ML/geotiffs/tier1/images/hurricane-matthew_00000195_post_disaster.tif',\n",
              " '/content/drive/MyDrive/ML/geotiffs/tier1/images/hurricane-matthew_00000181_post_disaster.tif',\n",
              " '/content/drive/MyDrive/ML/geotiffs/tier1/images/hurricane-matthew_00000071_post_disaster.tif',\n",
              " '/content/drive/MyDrive/ML/geotiffs/tier1/images/hurricane-matthew_00000070_post_disaster.tif',\n",
              " '/content/drive/MyDrive/ML/geotiffs/tier1/images/hurricane-matthew_00000120_post_disaster.tif',\n",
              " '/content/drive/MyDrive/ML/geotiffs/tier1/images/hurricane-matthew_00000251_post_disaster.tif',\n",
              " '/content/drive/MyDrive/ML/geotiffs/tier1/images/hurricane-matthew_00000056_post_disaster.tif',\n",
              " '/content/drive/MyDrive/ML/geotiffs/tier1/images/hurricane-matthew_00000174_post_disaster.tif',\n",
              " '/content/drive/MyDrive/ML/geotiffs/tier1/images/hurricane-matthew_00000248_post_disaster.tif',\n",
              " '/content/drive/MyDrive/ML/geotiffs/tier1/images/hurricane-matthew_00000164_post_disaster.tif',\n",
              " '/content/drive/MyDrive/ML/geotiffs/tier1/images/hurricane-matthew_00000372_post_disaster.tif',\n",
              " '/content/drive/MyDrive/ML/geotiffs/tier1/images/hurricane-matthew_00000001_post_disaster.tif',\n",
              " '/content/drive/MyDrive/ML/geotiffs/tier1/images/hurricane-matthew_00000233_post_disaster.tif',\n",
              " '/content/drive/MyDrive/ML/geotiffs/tier1/images/hurricane-matthew_00000005_post_disaster.tif',\n",
              " '/content/drive/MyDrive/ML/geotiffs/tier1/images/hurricane-matthew_00000128_post_disaster.tif',\n",
              " '/content/drive/MyDrive/ML/geotiffs/tier1/images/hurricane-matthew_00000367_post_disaster (2).tif',\n",
              " '/content/drive/MyDrive/ML/geotiffs/tier1/images/hurricane-matthew_00000367_post_disaster (1).tif',\n",
              " '/content/drive/MyDrive/ML/geotiffs/tier1/images/hurricane-matthew_00000367_post_disaster.tif',\n",
              " '/content/drive/MyDrive/ML/geotiffs/tier1/images/hurricane-matthew_00000155_post_disaster.tif',\n",
              " '/content/drive/MyDrive/ML/geotiffs/tier1/images/hurricane-matthew_00000388_post_disaster.tif',\n",
              " '/content/drive/MyDrive/ML/geotiffs/tier1/images/hurricane-matthew_00000171_post_disaster.tif',\n",
              " '/content/drive/MyDrive/ML/geotiffs/tier1/images/hurricane-matthew_00000110_post_disaster.tif',\n",
              " '/content/drive/MyDrive/ML/geotiffs/tier1/images/hurricane-matthew_00000049_post_disaster.tif',\n",
              " '/content/drive/MyDrive/ML/geotiffs/tier1/images/hurricane-matthew_00000252_post_disaster (1).tif',\n",
              " '/content/drive/MyDrive/ML/geotiffs/tier1/images/hurricane-matthew_00000252_post_disaster.tif',\n",
              " '/content/drive/MyDrive/ML/geotiffs/tier1/images/hurricane-matthew_00000007_post_disaster.tif',\n",
              " '/content/drive/MyDrive/ML/geotiffs/tier1/images/hurricane-matthew_00000044_post_disaster.tif',\n",
              " '/content/drive/MyDrive/ML/geotiffs/tier1/images/hurricane-matthew_00000392_post_disaster.tif',\n",
              " '/content/drive/MyDrive/ML/geotiffs/tier1/images/hurricane-matthew_00000205_post_disaster.tif',\n",
              " '/content/drive/MyDrive/ML/geotiffs/tier1/images/hurricane-matthew_00000062_post_disaster.tif',\n",
              " '/content/drive/MyDrive/ML/geotiffs/tier1/images/hurricane-matthew_00000281_post_disaster.tif',\n",
              " '/content/drive/MyDrive/ML/geotiffs/tier1/images/hurricane-matthew_00000261_post_disaster.tif',\n",
              " '/content/drive/MyDrive/ML/geotiffs/tier1/images/hurricane-matthew_00000090_post_disaster.tif',\n",
              " '/content/drive/MyDrive/ML/geotiffs/tier1/images/hurricane-matthew_00000041_post_disaster.tif',\n",
              " '/content/drive/MyDrive/ML/geotiffs/tier1/images/hurricane-matthew_00000002_post_disaster.tif',\n",
              " '/content/drive/MyDrive/ML/geotiffs/tier1/images/hurricane-matthew_00000156_post_disaster.tif',\n",
              " '/content/drive/MyDrive/ML/geotiffs/tier1/images/hurricane-matthew_00000014_post_disaster.tif',\n",
              " '/content/drive/MyDrive/ML/geotiffs/tier1/images/hurricane-matthew_00000234_post_disaster.tif',\n",
              " '/content/drive/MyDrive/ML/geotiffs/tier1/images/hurricane-matthew_00000390_post_disaster.tif',\n",
              " '/content/drive/MyDrive/ML/geotiffs/tier1/images/hurricane-matthew_00000094_post_disaster.tif',\n",
              " '/content/drive/MyDrive/ML/geotiffs/tier1/images/hurricane-matthew_00000198_post_disaster.tif',\n",
              " '/content/drive/MyDrive/ML/geotiffs/tier1/images/hurricane-matthew_00000241_post_disaster.tif',\n",
              " '/content/drive/MyDrive/ML/geotiffs/tier1/images/hurricane-matthew_00000379_post_disaster.tif',\n",
              " '/content/drive/MyDrive/ML/geotiffs/tier1/images/hurricane-matthew_00000279_post_disaster.tif',\n",
              " '/content/drive/MyDrive/ML/geotiffs/tier1/images/hurricane-matthew_00000223_post_disaster.tif',\n",
              " '/content/drive/MyDrive/ML/geotiffs/tier1/images/hurricane-matthew_00000329_post_disaster.tif',\n",
              " '/content/drive/MyDrive/ML/geotiffs/tier1/images/hurricane-matthew_00000129_post_disaster.tif',\n",
              " '/content/drive/MyDrive/ML/geotiffs/tier1/images/hurricane-matthew_00000077_post_disaster.tif',\n",
              " '/content/drive/MyDrive/ML/geotiffs/tier1/images/hurricane-matthew_00000368_post_disaster.tif',\n",
              " '/content/drive/MyDrive/ML/geotiffs/tier1/images/hurricane-matthew_00000209_post_disaster.tif',\n",
              " '/content/drive/MyDrive/ML/geotiffs/tier1/images/hurricane-matthew_00000178_post_disaster (1).tif',\n",
              " '/content/drive/MyDrive/ML/geotiffs/tier1/images/hurricane-matthew_00000178_post_disaster.tif',\n",
              " '/content/drive/MyDrive/ML/geotiffs/tier1/images/hurricane-matthew_00000188_post_disaster.tif',\n",
              " '/content/drive/MyDrive/ML/geotiffs/tier1/images/hurricane-matthew_00000276_post_disaster.tif',\n",
              " '/content/drive/MyDrive/ML/geotiffs/tier1/images/hurricane-matthew_00000031_post_disaster.tif',\n",
              " '/content/drive/MyDrive/ML/geotiffs/tier1/images/hurricane-matthew_00000040_post_disaster.tif',\n",
              " '/content/drive/MyDrive/ML/geotiffs/tier1/images/hurricane-matthew_00000158_post_disaster (2).tif',\n",
              " '/content/drive/MyDrive/ML/geotiffs/tier1/images/hurricane-matthew_00000158_post_disaster (1).tif',\n",
              " '/content/drive/MyDrive/ML/geotiffs/tier1/images/hurricane-matthew_00000158_post_disaster.tif',\n",
              " '/content/drive/MyDrive/ML/geotiffs/tier1/images/hurricane-matthew_00000350_post_disaster.tif',\n",
              " '/content/drive/MyDrive/ML/geotiffs/tier1/images/hurricane-matthew_00000149_post_disaster.tif',\n",
              " '/content/drive/MyDrive/ML/geotiffs/tier1/images/hurricane-matthew_00000069_post_disaster.tif',\n",
              " '/content/drive/MyDrive/ML/geotiffs/tier1/images/hurricane-matthew_00000402_post_disaster.tif',\n",
              " '/content/drive/MyDrive/ML/geotiffs/tier1/images/hurricane-matthew_00000008_post_disaster.tif',\n",
              " '/content/drive/MyDrive/ML/geotiffs/tier1/images/hurricane-matthew_00000125_post_disaster.tif',\n",
              " '/content/drive/MyDrive/ML/geotiffs/tier1/images/hurricane-matthew_00000004_post_disaster.tif',\n",
              " '/content/drive/MyDrive/ML/geotiffs/tier1/images/hurricane-matthew_00000176_post_disaster.tif',\n",
              " '/content/drive/MyDrive/ML/geotiffs/tier1/images/hurricane-matthew_00000355_post_disaster.tif',\n",
              " '/content/drive/MyDrive/ML/geotiffs/tier1/images/hurricane-matthew_00000264_post_disaster.tif',\n",
              " '/content/drive/MyDrive/ML/geotiffs/tier1/images/hurricane-michael_00000310_post_disaster.tif',\n",
              " '/content/drive/MyDrive/ML/geotiffs/tier1/images/hurricane-michael_00000077_post_disaster.tif',\n",
              " '/content/drive/MyDrive/ML/geotiffs/tier1/images/hurricane-michael_00000474_post_disaster.tif',\n",
              " '/content/drive/MyDrive/ML/geotiffs/tier1/images/hurricane-michael_00000248_post_disaster.tif',\n",
              " '/content/drive/MyDrive/ML/geotiffs/tier1/images/hurricane-michael_00000305_post_disaster.tif',\n",
              " '/content/drive/MyDrive/ML/geotiffs/tier1/images/hurricane-michael_00000461_post_disaster.tif',\n",
              " '/content/drive/MyDrive/ML/geotiffs/tier1/images/hurricane-michael_00000328_post_disaster.tif',\n",
              " '/content/drive/MyDrive/ML/geotiffs/tier1/images/hurricane-michael_00000490_post_disaster.tif',\n",
              " '/content/drive/MyDrive/ML/geotiffs/tier1/images/hurricane-michael_00000174_post_disaster.tif',\n",
              " '/content/drive/MyDrive/ML/geotiffs/tier1/images/hurricane-michael_00000124_post_disaster.tif',\n",
              " '/content/drive/MyDrive/ML/geotiffs/tier1/images/hurricane-michael_00000268_post_disaster.tif',\n",
              " '/content/drive/MyDrive/ML/geotiffs/tier1/images/hurricane-michael_00000003_post_disaster.tif',\n",
              " '/content/drive/MyDrive/ML/geotiffs/tier1/images/hurricane-michael_00000060_post_disaster.tif',\n",
              " '/content/drive/MyDrive/ML/geotiffs/tier1/images/hurricane-michael_00000281_post_disaster.tif',\n",
              " '/content/drive/MyDrive/ML/geotiffs/tier1/images/hurricane-michael_00000025_post_disaster.tif',\n",
              " '/content/drive/MyDrive/ML/geotiffs/tier1/images/hurricane-michael_00000514_post_disaster.tif',\n",
              " '/content/drive/MyDrive/ML/geotiffs/tier1/images/hurricane-michael_00000180_post_disaster.tif',\n",
              " '/content/drive/MyDrive/ML/geotiffs/tier1/images/hurricane-michael_00000325_post_disaster.tif',\n",
              " '/content/drive/MyDrive/ML/geotiffs/tier1/images/hurricane-michael_00000455_post_disaster.tif',\n",
              " '/content/drive/MyDrive/ML/geotiffs/tier1/images/hurricane-michael_00000522_post_disaster.tif',\n",
              " '/content/drive/MyDrive/ML/geotiffs/tier1/images/hurricane-michael_00000451_post_disaster.tif',\n",
              " '/content/drive/MyDrive/ML/geotiffs/tier1/images/hurricane-michael_00000250_post_disaster.tif',\n",
              " '/content/drive/MyDrive/ML/geotiffs/tier1/images/hurricane-michael_00000188_post_disaster.tif',\n",
              " '/content/drive/MyDrive/ML/geotiffs/tier1/images/hurricane-michael_00000315_post_disaster.tif',\n",
              " '/content/drive/MyDrive/ML/geotiffs/tier1/images/hurricane-michael_00000472_post_disaster.tif',\n",
              " '/content/drive/MyDrive/ML/geotiffs/tier1/images/hurricane-michael_00000540_post_disaster.tif',\n",
              " '/content/drive/MyDrive/ML/geotiffs/tier1/images/hurricane-michael_00000517_post_disaster.tif',\n",
              " '/content/drive/MyDrive/ML/geotiffs/tier1/images/hurricane-michael_00000283_post_disaster.tif',\n",
              " '/content/drive/MyDrive/ML/geotiffs/tier1/images/hurricane-michael_00000244_post_disaster.tif',\n",
              " '/content/drive/MyDrive/ML/geotiffs/tier1/images/hurricane-michael_00000355_post_disaster.tif',\n",
              " '/content/drive/MyDrive/ML/geotiffs/tier1/images/hurricane-michael_00000100_post_disaster.tif',\n",
              " '/content/drive/MyDrive/ML/geotiffs/tier1/images/hurricane-michael_00000098_post_disaster.tif',\n",
              " '/content/drive/MyDrive/ML/geotiffs/tier1/images/hurricane-michael_00000051_post_disaster.tif',\n",
              " '/content/drive/MyDrive/ML/geotiffs/tier1/images/hurricane-michael_00000341_post_disaster (1).tif',\n",
              " '/content/drive/MyDrive/ML/geotiffs/tier1/images/hurricane-michael_00000341_post_disaster.tif',\n",
              " '/content/drive/MyDrive/ML/geotiffs/tier1/images/hurricane-michael_00000393_post_disaster.tif',\n",
              " '/content/drive/MyDrive/ML/geotiffs/tier1/images/hurricane-michael_00000302_post_disaster.tif',\n",
              " '/content/drive/MyDrive/ML/geotiffs/tier1/images/hurricane-michael_00000101_post_disaster.tif',\n",
              " '/content/drive/MyDrive/ML/geotiffs/tier1/images/hurricane-michael_00000122_post_disaster.tif',\n",
              " '/content/drive/MyDrive/ML/geotiffs/tier1/images/hurricane-michael_00000511_post_disaster.tif',\n",
              " '/content/drive/MyDrive/ML/geotiffs/tier1/images/hurricane-michael_00000287_post_disaster.tif',\n",
              " '/content/drive/MyDrive/ML/geotiffs/tier1/images/hurricane-michael_00000039_post_disaster.tif',\n",
              " '/content/drive/MyDrive/ML/geotiffs/tier1/images/hurricane-michael_00000512_post_disaster.tif',\n",
              " '/content/drive/MyDrive/ML/geotiffs/tier1/images/hurricane-michael_00000172_post_disaster.tif',\n",
              " '/content/drive/MyDrive/ML/geotiffs/tier1/images/hurricane-michael_00000527_post_disaster.tif',\n",
              " '/content/drive/MyDrive/ML/geotiffs/tier1/images/hurricane-michael_00000136_post_disaster.tif',\n",
              " '/content/drive/MyDrive/ML/geotiffs/tier1/images/hurricane-michael_00000542_post_disaster.tif',\n",
              " '/content/drive/MyDrive/ML/geotiffs/tier1/images/hurricane-michael_00000454_post_disaster.tif',\n",
              " '/content/drive/MyDrive/ML/geotiffs/tier1/images/hurricane-michael_00000053_post_disaster.tif',\n",
              " '/content/drive/MyDrive/ML/geotiffs/tier1/images/hurricane-michael_00000406_post_disaster.tif',\n",
              " '/content/drive/MyDrive/ML/geotiffs/tier1/images/hurricane-michael_00000247_post_disaster.tif',\n",
              " '/content/drive/MyDrive/ML/geotiffs/tier1/images/hurricane-michael_00000181_post_disaster.tif',\n",
              " '/content/drive/MyDrive/ML/geotiffs/tier1/images/hurricane-michael_00000040_post_disaster.tif',\n",
              " '/content/drive/MyDrive/ML/geotiffs/tier1/images/hurricane-michael_00000497_post_disaster.tif',\n",
              " '/content/drive/MyDrive/ML/geotiffs/tier1/images/hurricane-michael_00000020_post_disaster.tif',\n",
              " '/content/drive/MyDrive/ML/geotiffs/tier1/images/hurricane-michael_00000150_post_disaster.tif',\n",
              " '/content/drive/MyDrive/ML/geotiffs/tier1/images/hurricane-michael_00000388_post_disaster.tif',\n",
              " '/content/drive/MyDrive/ML/geotiffs/tier1/images/hurricane-michael_00000330_post_disaster.tif',\n",
              " '/content/drive/MyDrive/ML/geotiffs/tier1/images/hurricane-michael_00000409_post_disaster.tif',\n",
              " '/content/drive/MyDrive/ML/geotiffs/tier1/images/hurricane-michael_00000103_post_disaster.tif',\n",
              " '/content/drive/MyDrive/ML/geotiffs/tier1/images/hurricane-michael_00000329_post_disaster (1).tif',\n",
              " '/content/drive/MyDrive/ML/geotiffs/tier1/images/hurricane-michael_00000473_post_disaster.tif',\n",
              " '/content/drive/MyDrive/ML/geotiffs/tier1/images/hurricane-michael_00000489_post_disaster.tif',\n",
              " '/content/drive/MyDrive/ML/geotiffs/tier1/images/hurricane-michael_00000301_post_disaster.tif',\n",
              " '/content/drive/MyDrive/ML/geotiffs/tier1/images/hurricane-michael_00000156_post_disaster.tif',\n",
              " '/content/drive/MyDrive/ML/geotiffs/tier1/images/hurricane-michael_00000260_post_disaster.tif',\n",
              " '/content/drive/MyDrive/ML/geotiffs/tier1/images/hurricane-michael_00000329_post_disaster.tif',\n",
              " '/content/drive/MyDrive/ML/geotiffs/tier1/images/hurricane-michael_00000295_post_disaster.tif',\n",
              " '/content/drive/MyDrive/ML/geotiffs/tier1/images/hurricane-michael_00000412_post_disaster.tif',\n",
              " '/content/drive/MyDrive/ML/geotiffs/tier1/images/hurricane-michael_00000492_post_disaster.tif',\n",
              " '/content/drive/MyDrive/ML/geotiffs/tier1/images/hurricane-michael_00000204_post_disaster.tif',\n",
              " '/content/drive/MyDrive/ML/geotiffs/tier1/images/hurricane-michael_00000011_post_disaster.tif',\n",
              " '/content/drive/MyDrive/ML/geotiffs/tier1/images/hurricane-michael_00000275_post_disaster.tif',\n",
              " '/content/drive/MyDrive/ML/geotiffs/tier1/images/hurricane-michael_00000353_post_disaster.tif',\n",
              " '/content/drive/MyDrive/ML/geotiffs/tier1/images/hurricane-michael_00000200_post_disaster.tif',\n",
              " '/content/drive/MyDrive/ML/geotiffs/tier1/images/hurricane-michael_00000475_post_disaster.tif',\n",
              " '/content/drive/MyDrive/ML/geotiffs/tier1/images/hurricane-michael_00000137_post_disaster.tif',\n",
              " '/content/drive/MyDrive/ML/geotiffs/tier1/images/hurricane-michael_00000357_post_disaster (1).tif',\n",
              " '/content/drive/MyDrive/ML/geotiffs/tier1/images/hurricane-michael_00000367_post_disaster (1).tif',\n",
              " '/content/drive/MyDrive/ML/geotiffs/tier1/images/hurricane-michael_00000480_post_disaster.tif',\n",
              " '/content/drive/MyDrive/ML/geotiffs/tier1/images/hurricane-michael_00000357_post_disaster.tif',\n",
              " '/content/drive/MyDrive/ML/geotiffs/tier1/images/hurricane-michael_00000304_post_disaster.tif',\n",
              " '/content/drive/MyDrive/ML/geotiffs/tier1/images/hurricane-michael_00000367_post_disaster.tif',\n",
              " '/content/drive/MyDrive/ML/geotiffs/tier1/images/hurricane-michael_00000313_post_disaster.tif',\n",
              " '/content/drive/MyDrive/ML/geotiffs/tier1/images/hurricane-michael_00000285_post_disaster.tif',\n",
              " '/content/drive/MyDrive/ML/geotiffs/tier1/images/hurricane-michael_00000415_post_disaster.tif',\n",
              " '/content/drive/MyDrive/ML/geotiffs/tier1/images/hurricane-michael_00000299_post_disaster.tif',\n",
              " '/content/drive/MyDrive/ML/geotiffs/tier1/images/hurricane-michael_00000486_post_disaster.tif',\n",
              " '/content/drive/MyDrive/ML/geotiffs/tier1/images/hurricane-michael_00000216_post_disaster.tif',\n",
              " '/content/drive/MyDrive/ML/geotiffs/tier1/images/hurricane-michael_00000159_post_disaster.tif',\n",
              " '/content/drive/MyDrive/ML/geotiffs/tier1/images/hurricane-michael_00000147_post_disaster.tif',\n",
              " ...]"
            ]
          },
          "metadata": {},
          "execution_count": 37
        }
      ]
    },
    {
      "cell_type": "code",
      "source": [
        "allTrainLabels"
      ],
      "metadata": {
        "colab": {
          "base_uri": "https://localhost:8080/"
        },
        "id": "pO1xrr7TEy35",
        "outputId": "382f6639-e3cb-4987-e41f-d95fa1ce562d"
      },
      "execution_count": null,
      "outputs": [
        {
          "output_type": "execute_result",
          "data": {
            "text/plain": [
              "array(['/content/drive/MyDrive/ML/geotiffs/tier1/labels/hurricane-florence_00000023_post_disaster.json',\n",
              "       '/content/drive/MyDrive/ML/geotiffs/tier1/labels/hurricane-florence_00000473_post_disaster.json',\n",
              "       '/content/drive/MyDrive/ML/geotiffs/tier1/labels/hurricane-florence_00000390_post_disaster.json',\n",
              "       ...,\n",
              "       '/content/drive/MyDrive/ML/geotiffs/tier1/labels/hurricane-michael_00000326_post_disaster.json',\n",
              "       '/content/drive/MyDrive/ML/geotiffs/tier1/labels/hurricane-michael_00000208_post_disaster.json',\n",
              "       '/content/drive/MyDrive/ML/geotiffs/tier1/labels/hurricane-michael_00000440_post_disaster.json'],\n",
              "      dtype='<U98')"
            ]
          },
          "metadata": {},
          "execution_count": 38
        }
      ]
    },
    {
      "cell_type": "code",
      "source": [
        "!pip install tifffile"
      ],
      "metadata": {
        "colab": {
          "base_uri": "https://localhost:8080/"
        },
        "id": "LEJw6fVmQP91",
        "outputId": "c2ef6468-7b71-4d33-e236-cc5c4da1b926"
      },
      "execution_count": null,
      "outputs": [
        {
          "output_type": "stream",
          "name": "stdout",
          "text": [
            "Looking in indexes: https://pypi.org/simple, https://us-python.pkg.dev/colab-wheels/public/simple/\n",
            "Requirement already satisfied: tifffile in /usr/local/lib/python3.9/dist-packages (2023.4.12)\n",
            "Requirement already satisfied: numpy in /usr/local/lib/python3.9/dist-packages (from tifffile) (1.22.4)\n"
          ]
        }
      ]
    },
    {
      "cell_type": "code",
      "source": [
        "from PIL import Image\n",
        "import tifffile\n",
        "\n",
        "def convert_tif_to_jpeg(tif_path, jpeg_path):\n",
        "\n",
        "    image_arr = tifffile.imread(tif_path)\n",
        "    image_arr = image_arr * 255\n",
        "    image_arr = image_arr.astype(np.uint8)\n",
        "    im = Image.fromarray(image_arr)\n",
        "    im.save(jpeg_path)\n",
        "\n",
        "# Example usage:\n",
        "tif_path = '/content/drive/MyDrive/ML/geotiffs/tier1/images/socal-fire_00001369_post_disaster.tif'\n",
        "jpeg_path = \"/content/drive/MyDrive/ML/output.jpeg\"\n",
        "convert_tif_to_jpeg(tif_path, jpeg_path)"
      ],
      "metadata": {
        "id": "UD30WguME5Ap"
      },
      "execution_count": null,
      "outputs": []
    },
    {
      "cell_type": "code",
      "source": [
        "from osgeo import gdal\n",
        "\n",
        "options_list = [\n",
        "    '-ot Byte',\n",
        "    '-of JPEG',\n",
        "    '-b 3',\n",
        "    '-scale'\n",
        "]\n",
        "\n",
        "options_string = \" \".join(options_list)"
      ],
      "metadata": {
        "colab": {
          "base_uri": "https://localhost:8080/"
        },
        "id": "Skm8Y9GRGSH3",
        "outputId": "b0f8c9fc-2a92-4063-fb75-142462ba7a0f"
      },
      "execution_count": null,
      "outputs": [
        {
          "output_type": "execute_result",
          "data": {
            "text/plain": [
              "<osgeo.gdal.Dataset; proxy of <Swig Object of type 'GDALDatasetShadow *' at 0x7f9064645210> >"
            ]
          },
          "metadata": {},
          "execution_count": 12
        }
      ]
    },
    {
      "cell_type": "code",
      "source": [
        "gdal.Translate(\n",
        "    '/content/drive/MyDrive/ML/geotiffs/tier1/testFold/damage/testingImg.png',\n",
        "    '/content/drive/MyDrive/ML/geotiffs/tier1/testFold/damage/socal-fire_00001369_post_disaster.tif',\n",
        "    options=options_string\n",
        ")"
      ],
      "metadata": {
        "id": "1ImTVfiNztQx",
        "outputId": "bf392056-6fec-4d48-f786-cb67f51ac04c",
        "colab": {
          "base_uri": "https://localhost:8080/"
        }
      },
      "execution_count": null,
      "outputs": [
        {
          "output_type": "execute_result",
          "data": {
            "text/plain": [
              "<osgeo.gdal.Dataset; proxy of <Swig Object of type 'GDALDatasetShadow *' at 0x7f9061e91870> >"
            ]
          },
          "metadata": {},
          "execution_count": 14
        }
      ]
    },
    {
      "cell_type": "code",
      "source": [
        "xTrain"
      ],
      "metadata": {
        "colab": {
          "base_uri": "https://localhost:8080/"
        },
        "id": "-HLUETe-6yGC",
        "outputId": "25972e1d-fe02-4795-a0f4-d5751fbd0066"
      },
      "execution_count": null,
      "outputs": [
        {
          "output_type": "execute_result",
          "data": {
            "text/plain": [
              "array(['/content/drive/MyDrive/ML/geotiffs/tier1/images/hurricane-florence_00000023_post_disaster.tif',\n",
              "       '/content/drive/MyDrive/ML/geotiffs/tier1/images/hurricane-florence_00000473_post_disaster.tif',\n",
              "       '/content/drive/MyDrive/ML/geotiffs/tier1/images/hurricane-florence_00000390_post_disaster.tif',\n",
              "       ...,\n",
              "       '/content/drive/MyDrive/ML/geotiffs/tier1/images/hurricane-michael_00000326_post_disaster.tif',\n",
              "       '/content/drive/MyDrive/ML/geotiffs/tier1/images/hurricane-michael_00000208_post_disaster.tif',\n",
              "       '/content/drive/MyDrive/ML/geotiffs/tier1/images/hurricane-michael_00000440_post_disaster.tif'],\n",
              "      dtype='<U97')"
            ]
          },
          "metadata": {},
          "execution_count": 53
        }
      ]
    },
    {
      "cell_type": "code",
      "source": [
        "yTrain"
      ],
      "metadata": {
        "colab": {
          "base_uri": "https://localhost:8080/"
        },
        "id": "FFCI1W446zZm",
        "outputId": "934efd3c-e992-42d8-b272-bd47313e300b"
      },
      "execution_count": null,
      "outputs": [
        {
          "output_type": "execute_result",
          "data": {
            "text/plain": [
              "array(['no-damage', 'major-damage', 'major-damage', ..., 'no-damage',\n",
              "       'no-damage', 'no-damage'], dtype='<U12')"
            ]
          },
          "metadata": {},
          "execution_count": 54
        }
      ]
    },
    {
      "cell_type": "code",
      "source": [
        "yTrain[yTrain == 'no-damage'] = int(1)"
      ],
      "metadata": {
        "id": "Fi5L1UR17FrE"
      },
      "execution_count": null,
      "outputs": []
    },
    {
      "cell_type": "code",
      "source": [
        "yTrain"
      ],
      "metadata": {
        "colab": {
          "base_uri": "https://localhost:8080/"
        },
        "id": "zc_ocwQ27b7U",
        "outputId": "a945b705-b6ec-4d32-9d74-643dca592569"
      },
      "execution_count": null,
      "outputs": [
        {
          "output_type": "execute_result",
          "data": {
            "text/plain": [
              "array(['1', 'major-damage', 'major-damage', ..., '1', '1', '1'],\n",
              "      dtype='<U12')"
            ]
          },
          "metadata": {},
          "execution_count": 56
        }
      ]
    },
    {
      "cell_type": "code",
      "source": [
        "yTrain[yTrain == 'minor-damage'] = int(0)\n",
        "yTrain[yTrain == 'major-damage'] = int(0)\n",
        "yTrain[yTrain == 'destroyed'] = int(0)"
      ],
      "metadata": {
        "id": "T0eFEf5e7d1M"
      },
      "execution_count": null,
      "outputs": []
    },
    {
      "cell_type": "code",
      "source": [
        "yTrainFinal = []\n",
        "for elem in yTrain: \n",
        "  yTrainFinal.append(int(elem))\n",
        "\n",
        "yTrainFinal = np.array(yTrainFinal)\n",
        "yTrainFinal"
      ],
      "metadata": {
        "colab": {
          "base_uri": "https://localhost:8080/"
        },
        "id": "QwK9LcUZ7o4E",
        "outputId": "8c326599-f23a-4d96-85af-3f9bfb73ab3c"
      },
      "execution_count": null,
      "outputs": [
        {
          "output_type": "execute_result",
          "data": {
            "text/plain": [
              "array([1, 0, 0, ..., 1, 1, 1])"
            ]
          },
          "metadata": {},
          "execution_count": 58
        }
      ]
    },
    {
      "cell_type": "code",
      "source": [
        "xTrain"
      ],
      "metadata": {
        "colab": {
          "base_uri": "https://localhost:8080/"
        },
        "id": "jZzY8Oma7zFR",
        "outputId": "f47364aa-1337-4181-b674-4117cab4eba6"
      },
      "execution_count": null,
      "outputs": [
        {
          "output_type": "execute_result",
          "data": {
            "text/plain": [
              "array(['/content/drive/MyDrive/ML/geotiffs/tier1/images/hurricane-florence_00000023_post_disaster.tif',\n",
              "       '/content/drive/MyDrive/ML/geotiffs/tier1/images/hurricane-florence_00000473_post_disaster.tif',\n",
              "       '/content/drive/MyDrive/ML/geotiffs/tier1/images/hurricane-florence_00000390_post_disaster.tif',\n",
              "       ...,\n",
              "       '/content/drive/MyDrive/ML/geotiffs/tier1/images/hurricane-michael_00000326_post_disaster.tif',\n",
              "       '/content/drive/MyDrive/ML/geotiffs/tier1/images/hurricane-michael_00000208_post_disaster.tif',\n",
              "       '/content/drive/MyDrive/ML/geotiffs/tier1/images/hurricane-michael_00000440_post_disaster.tif'],\n",
              "      dtype='<U97')"
            ]
          },
          "metadata": {},
          "execution_count": 59
        }
      ]
    },
    {
      "cell_type": "code",
      "source": [
        "idx = 0\n",
        "ct = 0\n",
        "while idx < len(xTrain):\n",
        "  pathVar = None\n",
        "  if yTrainFinal[idx] == 1:\n",
        "    pathVar = 'no_damage'\n",
        "  else:\n",
        "    pathVar = 'damage'\n",
        "\n",
        "  finPath =  '/content/drive/MyDrive/ML/geotiffs/test/testFold/' + pathVar + '/img' + str(ct) + '.png'\n",
        "  idx += 1\n",
        "  ct += 1\n",
        "    \n",
        "  try:\n",
        "    gdal.Translate(\n",
        "      finPath,\n",
        "      xTrain[idx],\n",
        "      options=options_string\n",
        "    )\n",
        "  except: \n",
        "        print(\"Failed files,\", xTrain[idx]) \n",
        "  \n",
        "  "
      ],
      "metadata": {
        "id": "mX3ocMO2A3Ed"
      },
      "execution_count": null,
      "outputs": []
    }
  ],
  "metadata": {
    "accelerator": "GPU",
    "colab": {
      "provenance": [],
      "machine_shape": "hm"
    },
    "gpuClass": "standard",
    "kernelspec": {
      "display_name": "Python 3",
      "name": "python3"
    },
    "language_info": {
      "name": "python"
    }
  },
  "nbformat": 4,
  "nbformat_minor": 0
}